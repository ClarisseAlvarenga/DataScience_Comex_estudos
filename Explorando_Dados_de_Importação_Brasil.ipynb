{
  "nbformat": 4,
  "nbformat_minor": 0,
  "metadata": {
    "colab": {
      "name": "Explorando Dados de Importação Brasil.ipynb",
      "provenance": [],
      "authorship_tag": "ABX9TyOMqv0NpCDJbBQmOwbLdoXP",
      "include_colab_link": true
    },
    "kernelspec": {
      "name": "python3",
      "display_name": "Python 3"
    }
  },
  "cells": [
    {
      "cell_type": "markdown",
      "metadata": {
        "id": "view-in-github",
        "colab_type": "text"
      },
      "source": [
        "<a href=\"https://colab.research.google.com/github/ClarisseAlvarenga/DataScience_Comex_estudos/blob/master/Explorando_Dados_de_Importa%C3%A7%C3%A3o_Brasil.ipynb\" target=\"_parent\"><img src=\"https://colab.research.google.com/assets/colab-badge.svg\" alt=\"Open In Colab\"/></a>"
      ]
    },
    {
      "cell_type": "code",
      "metadata": {
        "id": "WtBYHeKIRJFR",
        "colab_type": "code",
        "colab": {}
      },
      "source": [
        ""
      ],
      "execution_count": 0,
      "outputs": []
    },
    {
      "cell_type": "markdown",
      "metadata": {
        "id": "RqUIazAUSnRX",
        "colab_type": "text"
      },
      "source": [
        "# Analisando a Base de Importadores do COMEX Stat"
      ]
    },
    {
      "cell_type": "code",
      "metadata": {
        "id": "fJk9dHXBS0gE",
        "colab_type": "code",
        "colab": {
          "base_uri": "https://localhost:8080/",
          "height": 51
        },
        "outputId": "e0ff17c5-7dd5-482c-d4d3-29b47fa09c1d"
      },
      "source": [
        "import pandas as pd\n",
        "import seaborn as sns\n",
        "import matplotlib.pyplot as plt\n"
      ],
      "execution_count": 2,
      "outputs": [
        {
          "output_type": "stream",
          "text": [
            "/usr/local/lib/python3.6/dist-packages/statsmodels/tools/_testing.py:19: FutureWarning: pandas.util.testing is deprecated. Use the functions in the public API at pandas.testing instead.\n",
            "  import pandas.util.testing as tm\n"
          ],
          "name": "stderr"
        }
      ]
    },
    {
      "cell_type": "markdown",
      "metadata": {
        "id": "aJ9ZKtYuWSnj",
        "colab_type": "text"
      },
      "source": [
        "## Importações Por Município em 2020"
      ]
    },
    {
      "cell_type": "code",
      "metadata": {
        "id": "t62n0UG_S24c",
        "colab_type": "code",
        "colab": {}
      },
      "source": [
        "impo_por_municipio = pd.read_csv('/content/IMP_2020_MUN.csv', sep=\";\")"
      ],
      "execution_count": 0,
      "outputs": []
    },
    {
      "cell_type": "code",
      "metadata": {
        "id": "BbGzXTQomEAm",
        "colab_type": "code",
        "colab": {
          "base_uri": "https://localhost:8080/",
          "height": 34
        },
        "outputId": "f241d685-c184-4687-8a60-f5554c53a873"
      },
      "source": [
        "type(impo_por_municipio)"
      ],
      "execution_count": 12,
      "outputs": [
        {
          "output_type": "execute_result",
          "data": {
            "text/plain": [
              "pandas.core.frame.DataFrame"
            ]
          },
          "metadata": {
            "tags": []
          },
          "execution_count": 12
        }
      ]
    },
    {
      "cell_type": "code",
      "metadata": {
        "id": "AIcUnle3mk4R",
        "colab_type": "code",
        "colab": {
          "base_uri": "https://localhost:8080/",
          "height": 204
        },
        "outputId": "c02f6fc3-b863-41dc-bcd8-d46db2ed0e30"
      },
      "source": [
        "impo_por_municipio.head()"
      ],
      "execution_count": 13,
      "outputs": [
        {
          "output_type": "execute_result",
          "data": {
            "text/html": [
              "<div>\n",
              "<style scoped>\n",
              "    .dataframe tbody tr th:only-of-type {\n",
              "        vertical-align: middle;\n",
              "    }\n",
              "\n",
              "    .dataframe tbody tr th {\n",
              "        vertical-align: top;\n",
              "    }\n",
              "\n",
              "    .dataframe thead th {\n",
              "        text-align: right;\n",
              "    }\n",
              "</style>\n",
              "<table border=\"1\" class=\"dataframe\">\n",
              "  <thead>\n",
              "    <tr style=\"text-align: right;\">\n",
              "      <th></th>\n",
              "      <th>CO_ANO</th>\n",
              "      <th>CO_MES</th>\n",
              "      <th>SH4</th>\n",
              "      <th>CO_PAIS</th>\n",
              "      <th>SG_UF_MUN</th>\n",
              "      <th>CO_MUN</th>\n",
              "      <th>KG_LIQUIDO</th>\n",
              "      <th>VL_FOB</th>\n",
              "    </tr>\n",
              "  </thead>\n",
              "  <tbody>\n",
              "    <tr>\n",
              "      <th>0</th>\n",
              "      <td>2020</td>\n",
              "      <td>3</td>\n",
              "      <td>8421</td>\n",
              "      <td>271</td>\n",
              "      <td>PR</td>\n",
              "      <td>4119152</td>\n",
              "      <td>557</td>\n",
              "      <td>20155</td>\n",
              "    </tr>\n",
              "    <tr>\n",
              "      <th>1</th>\n",
              "      <td>2020</td>\n",
              "      <td>3</td>\n",
              "      <td>8417</td>\n",
              "      <td>160</td>\n",
              "      <td>SP</td>\n",
              "      <td>3424402</td>\n",
              "      <td>7</td>\n",
              "      <td>72</td>\n",
              "    </tr>\n",
              "    <tr>\n",
              "      <th>2</th>\n",
              "      <td>2020</td>\n",
              "      <td>3</td>\n",
              "      <td>8431</td>\n",
              "      <td>399</td>\n",
              "      <td>PR</td>\n",
              "      <td>4119905</td>\n",
              "      <td>127</td>\n",
              "      <td>7994</td>\n",
              "    </tr>\n",
              "    <tr>\n",
              "      <th>3</th>\n",
              "      <td>2020</td>\n",
              "      <td>3</td>\n",
              "      <td>8523</td>\n",
              "      <td>161</td>\n",
              "      <td>PR</td>\n",
              "      <td>4115200</td>\n",
              "      <td>42</td>\n",
              "      <td>44747</td>\n",
              "    </tr>\n",
              "    <tr>\n",
              "      <th>4</th>\n",
              "      <td>2020</td>\n",
              "      <td>3</td>\n",
              "      <td>8481</td>\n",
              "      <td>245</td>\n",
              "      <td>SP</td>\n",
              "      <td>3431803</td>\n",
              "      <td>0</td>\n",
              "      <td>134</td>\n",
              "    </tr>\n",
              "  </tbody>\n",
              "</table>\n",
              "</div>"
            ],
            "text/plain": [
              "   CO_ANO  CO_MES   SH4  CO_PAIS SG_UF_MUN   CO_MUN  KG_LIQUIDO  VL_FOB\n",
              "0    2020       3  8421      271        PR  4119152         557   20155\n",
              "1    2020       3  8417      160        SP  3424402           7      72\n",
              "2    2020       3  8431      399        PR  4119905         127    7994\n",
              "3    2020       3  8523      161        PR  4115200          42   44747\n",
              "4    2020       3  8481      245        SP  3431803           0     134"
            ]
          },
          "metadata": {
            "tags": []
          },
          "execution_count": 13
        }
      ]
    },
    {
      "cell_type": "code",
      "metadata": {
        "id": "XMoMvfI4nJys",
        "colab_type": "code",
        "colab": {
          "base_uri": "https://localhost:8080/",
          "height": 419
        },
        "outputId": "ce370460-3cf3-4534-83f3-fc2a8f721358"
      },
      "source": [
        "impo_por_municipio"
      ],
      "execution_count": 23,
      "outputs": [
        {
          "output_type": "execute_result",
          "data": {
            "text/html": [
              "<div>\n",
              "<style scoped>\n",
              "    .dataframe tbody tr th:only-of-type {\n",
              "        vertical-align: middle;\n",
              "    }\n",
              "\n",
              "    .dataframe tbody tr th {\n",
              "        vertical-align: top;\n",
              "    }\n",
              "\n",
              "    .dataframe thead th {\n",
              "        text-align: right;\n",
              "    }\n",
              "</style>\n",
              "<table border=\"1\" class=\"dataframe\">\n",
              "  <thead>\n",
              "    <tr style=\"text-align: right;\">\n",
              "      <th></th>\n",
              "      <th>CO_ANO</th>\n",
              "      <th>CO_MES</th>\n",
              "      <th>SH4</th>\n",
              "      <th>CO_PAIS</th>\n",
              "      <th>SG_UF_MUN</th>\n",
              "      <th>CO_MUN</th>\n",
              "      <th>KG_LIQUIDO</th>\n",
              "      <th>VL_FOB</th>\n",
              "    </tr>\n",
              "  </thead>\n",
              "  <tbody>\n",
              "    <tr>\n",
              "      <th>0</th>\n",
              "      <td>2020</td>\n",
              "      <td>3</td>\n",
              "      <td>8421</td>\n",
              "      <td>271</td>\n",
              "      <td>PR</td>\n",
              "      <td>4119152</td>\n",
              "      <td>557</td>\n",
              "      <td>20155</td>\n",
              "    </tr>\n",
              "    <tr>\n",
              "      <th>1</th>\n",
              "      <td>2020</td>\n",
              "      <td>3</td>\n",
              "      <td>8417</td>\n",
              "      <td>160</td>\n",
              "      <td>SP</td>\n",
              "      <td>3424402</td>\n",
              "      <td>7</td>\n",
              "      <td>72</td>\n",
              "    </tr>\n",
              "    <tr>\n",
              "      <th>2</th>\n",
              "      <td>2020</td>\n",
              "      <td>3</td>\n",
              "      <td>8431</td>\n",
              "      <td>399</td>\n",
              "      <td>PR</td>\n",
              "      <td>4119905</td>\n",
              "      <td>127</td>\n",
              "      <td>7994</td>\n",
              "    </tr>\n",
              "    <tr>\n",
              "      <th>3</th>\n",
              "      <td>2020</td>\n",
              "      <td>3</td>\n",
              "      <td>8523</td>\n",
              "      <td>161</td>\n",
              "      <td>PR</td>\n",
              "      <td>4115200</td>\n",
              "      <td>42</td>\n",
              "      <td>44747</td>\n",
              "    </tr>\n",
              "    <tr>\n",
              "      <th>4</th>\n",
              "      <td>2020</td>\n",
              "      <td>3</td>\n",
              "      <td>8481</td>\n",
              "      <td>245</td>\n",
              "      <td>SP</td>\n",
              "      <td>3431803</td>\n",
              "      <td>0</td>\n",
              "      <td>134</td>\n",
              "    </tr>\n",
              "    <tr>\n",
              "      <th>...</th>\n",
              "      <td>...</td>\n",
              "      <td>...</td>\n",
              "      <td>...</td>\n",
              "      <td>...</td>\n",
              "      <td>...</td>\n",
              "      <td>...</td>\n",
              "      <td>...</td>\n",
              "      <td>...</td>\n",
              "    </tr>\n",
              "    <tr>\n",
              "      <th>463463</th>\n",
              "      <td>2020</td>\n",
              "      <td>3</td>\n",
              "      <td>8474</td>\n",
              "      <td>573</td>\n",
              "      <td>SP</td>\n",
              "      <td>3452205</td>\n",
              "      <td>1304</td>\n",
              "      <td>18928</td>\n",
              "    </tr>\n",
              "    <tr>\n",
              "      <th>463464</th>\n",
              "      <td>2020</td>\n",
              "      <td>3</td>\n",
              "      <td>1515</td>\n",
              "      <td>190</td>\n",
              "      <td>SP</td>\n",
              "      <td>3452502</td>\n",
              "      <td>55</td>\n",
              "      <td>1063</td>\n",
              "    </tr>\n",
              "    <tr>\n",
              "      <th>463465</th>\n",
              "      <td>2020</td>\n",
              "      <td>3</td>\n",
              "      <td>2909</td>\n",
              "      <td>23</td>\n",
              "      <td>SP</td>\n",
              "      <td>3452502</td>\n",
              "      <td>1600</td>\n",
              "      <td>6711</td>\n",
              "    </tr>\n",
              "    <tr>\n",
              "      <th>463466</th>\n",
              "      <td>2020</td>\n",
              "      <td>3</td>\n",
              "      <td>7319</td>\n",
              "      <td>160</td>\n",
              "      <td>PR</td>\n",
              "      <td>4106902</td>\n",
              "      <td>1101</td>\n",
              "      <td>6352</td>\n",
              "    </tr>\n",
              "    <tr>\n",
              "      <th>463467</th>\n",
              "      <td>2020</td>\n",
              "      <td>3</td>\n",
              "      <td>5607</td>\n",
              "      <td>249</td>\n",
              "      <td>MG</td>\n",
              "      <td>3106705</td>\n",
              "      <td>72</td>\n",
              "      <td>953</td>\n",
              "    </tr>\n",
              "  </tbody>\n",
              "</table>\n",
              "<p>463468 rows × 8 columns</p>\n",
              "</div>"
            ],
            "text/plain": [
              "        CO_ANO  CO_MES   SH4  CO_PAIS SG_UF_MUN   CO_MUN  KG_LIQUIDO  VL_FOB\n",
              "0         2020       3  8421      271        PR  4119152         557   20155\n",
              "1         2020       3  8417      160        SP  3424402           7      72\n",
              "2         2020       3  8431      399        PR  4119905         127    7994\n",
              "3         2020       3  8523      161        PR  4115200          42   44747\n",
              "4         2020       3  8481      245        SP  3431803           0     134\n",
              "...        ...     ...   ...      ...       ...      ...         ...     ...\n",
              "463463    2020       3  8474      573        SP  3452205        1304   18928\n",
              "463464    2020       3  1515      190        SP  3452502          55    1063\n",
              "463465    2020       3  2909       23        SP  3452502        1600    6711\n",
              "463466    2020       3  7319      160        PR  4106902        1101    6352\n",
              "463467    2020       3  5607      249        MG  3106705          72     953\n",
              "\n",
              "[463468 rows x 8 columns]"
            ]
          },
          "metadata": {
            "tags": []
          },
          "execution_count": 23
        }
      ]
    },
    {
      "cell_type": "code",
      "metadata": {
        "id": "PUaBYfHwo2kY",
        "colab_type": "code",
        "colab": {}
      },
      "source": [
        "impo_por_estado = impo_por_municipio.groupby('SG_UF_MUN')"
      ],
      "execution_count": 0,
      "outputs": []
    },
    {
      "cell_type": "code",
      "metadata": {
        "id": "GVeZfmZIpNX3",
        "colab_type": "code",
        "colab": {
          "base_uri": "https://localhost:8080/",
          "height": 34
        },
        "outputId": "8db18069-f1ae-46e7-fe0a-e0b329b1d9f6"
      },
      "source": [
        "#Importações por estado\n",
        "impo_por_estado"
      ],
      "execution_count": 28,
      "outputs": [
        {
          "output_type": "execute_result",
          "data": {
            "text/plain": [
              "<pandas.core.groupby.generic.DataFrameGroupBy object at 0x7fcb4b0b2080>"
            ]
          },
          "metadata": {
            "tags": []
          },
          "execution_count": 28
        }
      ]
    },
    {
      "cell_type": "code",
      "metadata": {
        "id": "ndXCvV8xpYPn",
        "colab_type": "code",
        "colab": {}
      },
      "source": [
        "impo_por_municipio.columns = ['ano', 'mes', 'codigo_produto', 'pais_origem','UF','codigo_municipio','peso_liquido','valor_FOB']"
      ],
      "execution_count": 0,
      "outputs": []
    },
    {
      "cell_type": "code",
      "metadata": {
        "id": "Mfehiz28p2Xm",
        "colab_type": "code",
        "colab": {
          "base_uri": "https://localhost:8080/",
          "height": 419
        },
        "outputId": "66217af6-29dd-49ad-e70e-1ad73ff270d2"
      },
      "source": [
        "impo_por_municipio"
      ],
      "execution_count": 30,
      "outputs": [
        {
          "output_type": "execute_result",
          "data": {
            "text/html": [
              "<div>\n",
              "<style scoped>\n",
              "    .dataframe tbody tr th:only-of-type {\n",
              "        vertical-align: middle;\n",
              "    }\n",
              "\n",
              "    .dataframe tbody tr th {\n",
              "        vertical-align: top;\n",
              "    }\n",
              "\n",
              "    .dataframe thead th {\n",
              "        text-align: right;\n",
              "    }\n",
              "</style>\n",
              "<table border=\"1\" class=\"dataframe\">\n",
              "  <thead>\n",
              "    <tr style=\"text-align: right;\">\n",
              "      <th></th>\n",
              "      <th>ano</th>\n",
              "      <th>mes</th>\n",
              "      <th>codigo_produto</th>\n",
              "      <th>pais_origem</th>\n",
              "      <th>UF</th>\n",
              "      <th>codigo_municipio</th>\n",
              "      <th>peso_liquido</th>\n",
              "      <th>valor_FOB</th>\n",
              "    </tr>\n",
              "  </thead>\n",
              "  <tbody>\n",
              "    <tr>\n",
              "      <th>0</th>\n",
              "      <td>2020</td>\n",
              "      <td>3</td>\n",
              "      <td>8421</td>\n",
              "      <td>271</td>\n",
              "      <td>PR</td>\n",
              "      <td>4119152</td>\n",
              "      <td>557</td>\n",
              "      <td>20155</td>\n",
              "    </tr>\n",
              "    <tr>\n",
              "      <th>1</th>\n",
              "      <td>2020</td>\n",
              "      <td>3</td>\n",
              "      <td>8417</td>\n",
              "      <td>160</td>\n",
              "      <td>SP</td>\n",
              "      <td>3424402</td>\n",
              "      <td>7</td>\n",
              "      <td>72</td>\n",
              "    </tr>\n",
              "    <tr>\n",
              "      <th>2</th>\n",
              "      <td>2020</td>\n",
              "      <td>3</td>\n",
              "      <td>8431</td>\n",
              "      <td>399</td>\n",
              "      <td>PR</td>\n",
              "      <td>4119905</td>\n",
              "      <td>127</td>\n",
              "      <td>7994</td>\n",
              "    </tr>\n",
              "    <tr>\n",
              "      <th>3</th>\n",
              "      <td>2020</td>\n",
              "      <td>3</td>\n",
              "      <td>8523</td>\n",
              "      <td>161</td>\n",
              "      <td>PR</td>\n",
              "      <td>4115200</td>\n",
              "      <td>42</td>\n",
              "      <td>44747</td>\n",
              "    </tr>\n",
              "    <tr>\n",
              "      <th>4</th>\n",
              "      <td>2020</td>\n",
              "      <td>3</td>\n",
              "      <td>8481</td>\n",
              "      <td>245</td>\n",
              "      <td>SP</td>\n",
              "      <td>3431803</td>\n",
              "      <td>0</td>\n",
              "      <td>134</td>\n",
              "    </tr>\n",
              "    <tr>\n",
              "      <th>...</th>\n",
              "      <td>...</td>\n",
              "      <td>...</td>\n",
              "      <td>...</td>\n",
              "      <td>...</td>\n",
              "      <td>...</td>\n",
              "      <td>...</td>\n",
              "      <td>...</td>\n",
              "      <td>...</td>\n",
              "    </tr>\n",
              "    <tr>\n",
              "      <th>463463</th>\n",
              "      <td>2020</td>\n",
              "      <td>3</td>\n",
              "      <td>8474</td>\n",
              "      <td>573</td>\n",
              "      <td>SP</td>\n",
              "      <td>3452205</td>\n",
              "      <td>1304</td>\n",
              "      <td>18928</td>\n",
              "    </tr>\n",
              "    <tr>\n",
              "      <th>463464</th>\n",
              "      <td>2020</td>\n",
              "      <td>3</td>\n",
              "      <td>1515</td>\n",
              "      <td>190</td>\n",
              "      <td>SP</td>\n",
              "      <td>3452502</td>\n",
              "      <td>55</td>\n",
              "      <td>1063</td>\n",
              "    </tr>\n",
              "    <tr>\n",
              "      <th>463465</th>\n",
              "      <td>2020</td>\n",
              "      <td>3</td>\n",
              "      <td>2909</td>\n",
              "      <td>23</td>\n",
              "      <td>SP</td>\n",
              "      <td>3452502</td>\n",
              "      <td>1600</td>\n",
              "      <td>6711</td>\n",
              "    </tr>\n",
              "    <tr>\n",
              "      <th>463466</th>\n",
              "      <td>2020</td>\n",
              "      <td>3</td>\n",
              "      <td>7319</td>\n",
              "      <td>160</td>\n",
              "      <td>PR</td>\n",
              "      <td>4106902</td>\n",
              "      <td>1101</td>\n",
              "      <td>6352</td>\n",
              "    </tr>\n",
              "    <tr>\n",
              "      <th>463467</th>\n",
              "      <td>2020</td>\n",
              "      <td>3</td>\n",
              "      <td>5607</td>\n",
              "      <td>249</td>\n",
              "      <td>MG</td>\n",
              "      <td>3106705</td>\n",
              "      <td>72</td>\n",
              "      <td>953</td>\n",
              "    </tr>\n",
              "  </tbody>\n",
              "</table>\n",
              "<p>463468 rows × 8 columns</p>\n",
              "</div>"
            ],
            "text/plain": [
              "         ano  mes  codigo_produto  ...  codigo_municipio peso_liquido  valor_FOB\n",
              "0       2020    3            8421  ...           4119152          557      20155\n",
              "1       2020    3            8417  ...           3424402            7         72\n",
              "2       2020    3            8431  ...           4119905          127       7994\n",
              "3       2020    3            8523  ...           4115200           42      44747\n",
              "4       2020    3            8481  ...           3431803            0        134\n",
              "...      ...  ...             ...  ...               ...          ...        ...\n",
              "463463  2020    3            8474  ...           3452205         1304      18928\n",
              "463464  2020    3            1515  ...           3452502           55       1063\n",
              "463465  2020    3            2909  ...           3452502         1600       6711\n",
              "463466  2020    3            7319  ...           4106902         1101       6352\n",
              "463467  2020    3            5607  ...           3106705           72        953\n",
              "\n",
              "[463468 rows x 8 columns]"
            ]
          },
          "metadata": {
            "tags": []
          },
          "execution_count": 30
        }
      ]
    },
    {
      "cell_type": "code",
      "metadata": {
        "id": "EvTb91dVp4nm",
        "colab_type": "code",
        "colab": {
          "base_uri": "https://localhost:8080/",
          "height": 34
        },
        "outputId": "1633e408-ddb5-4d4f-9fa4-00fcab583307"
      },
      "source": [
        "#quantidade de municípios com empresas importadoras\n",
        "impo_por_municipio.codigo_municipio.unique().shape[0]"
      ],
      "execution_count": 32,
      "outputs": [
        {
          "output_type": "execute_result",
          "data": {
            "text/plain": [
              "1690"
            ]
          },
          "metadata": {
            "tags": []
          },
          "execution_count": 32
        }
      ]
    },
    {
      "cell_type": "code",
      "metadata": {
        "id": "2xvnONe2qIwe",
        "colab_type": "code",
        "colab": {
          "base_uri": "https://localhost:8080/",
          "height": 34
        },
        "outputId": "0020b904-e8ac-47e2-babe-b9fe741abc34"
      },
      "source": [
        "#quantidade de países de origem de empresas importadoras\n",
        "impo_por_municipio.pais_origem.unique().shape[0]"
      ],
      "execution_count": 34,
      "outputs": [
        {
          "output_type": "execute_result",
          "data": {
            "text/plain": [
              "215"
            ]
          },
          "metadata": {
            "tags": []
          },
          "execution_count": 34
        }
      ]
    },
    {
      "cell_type": "code",
      "metadata": {
        "id": "1SdpwOASqRB2",
        "colab_type": "code",
        "colab": {
          "base_uri": "https://localhost:8080/",
          "height": 34
        },
        "outputId": "676569b9-e131-4313-a142-cb66b70dc19b"
      },
      "source": [
        "#tipos de produtos importados\n",
        "impo_por_municipio.codigo_produto.unique().shape"
      ],
      "execution_count": 36,
      "outputs": [
        {
          "output_type": "execute_result",
          "data": {
            "text/plain": [
              "(1167,)"
            ]
          },
          "metadata": {
            "tags": []
          },
          "execution_count": 36
        }
      ]
    },
    {
      "cell_type": "code",
      "metadata": {
        "id": "UsvHs2yaqb4O",
        "colab_type": "code",
        "colab": {}
      },
      "source": [
        "media_de_valor_por_estado = impo_por_municipio.groupby('UF').mean().round(2)['valor_FOB']"
      ],
      "execution_count": 0,
      "outputs": []
    },
    {
      "cell_type": "code",
      "metadata": {
        "id": "_Zc5uh70qv3m",
        "colab_type": "code",
        "colab": {
          "base_uri": "https://localhost:8080/",
          "height": 527
        },
        "outputId": "9ca132be-a7de-4b79-b3ce-8105f7360df3"
      },
      "source": [
        "#calculando a média de valores importados por estado\n",
        "media_de_valor_por_estado"
      ],
      "execution_count": 86,
      "outputs": [
        {
          "output_type": "execute_result",
          "data": {
            "text/plain": [
              "UF\n",
              "AC      24193.22\n",
              "AL      89018.32\n",
              "AM     351405.92\n",
              "AP     132930.05\n",
              "BA     174773.09\n",
              "CE     145249.01\n",
              "DF     321453.65\n",
              "ES     252720.08\n",
              "GO     157908.89\n",
              "MA    1078881.02\n",
              "MG      79893.52\n",
              "MS     373644.19\n",
              "MT     422308.85\n",
              "ND      22841.78\n",
              "PA     158213.17\n",
              "PB     136506.28\n",
              "PE     219828.73\n",
              "PI     278814.09\n",
              "PR     103919.30\n",
              "RJ     309775.57\n",
              "RN      44258.03\n",
              "RO     101080.73\n",
              "RR     137716.42\n",
              "RS      78565.47\n",
              "SC     111869.24\n",
              "SE      86812.11\n",
              "SP      81365.03\n",
              "TO      88742.92\n",
              "Name: valor_FOB, dtype: float64"
            ]
          },
          "metadata": {
            "tags": []
          },
          "execution_count": 86
        }
      ]
    },
    {
      "cell_type": "code",
      "metadata": {
        "id": "QGC3MqP2uPLt",
        "colab_type": "code",
        "colab": {
          "base_uri": "https://localhost:8080/",
          "height": 34
        },
        "outputId": "2bcdce3f-2664-4190-d51d-284edea495e9"
      },
      "source": [
        "type(media_de_valor_por_estado)"
      ],
      "execution_count": 89,
      "outputs": [
        {
          "output_type": "execute_result",
          "data": {
            "text/plain": [
              "pandas.core.series.Series"
            ]
          },
          "metadata": {
            "tags": []
          },
          "execution_count": 89
        }
      ]
    },
    {
      "cell_type": "code",
      "metadata": {
        "id": "IzOirw9_w-Xn",
        "colab_type": "code",
        "colab": {}
      },
      "source": [
        "import numpy as np"
      ],
      "execution_count": 0,
      "outputs": []
    },
    {
      "cell_type": "code",
      "metadata": {
        "id": "LQkl5aypxW2M",
        "colab_type": "code",
        "colab": {}
      },
      "source": [
        "#transformando em DF\n",
        "media_por_estado = media_de_valor_por_estado.to_frame().reset_index().sort_values('valor_FOB')"
      ],
      "execution_count": 0,
      "outputs": []
    },
    {
      "cell_type": "code",
      "metadata": {
        "id": "H5lpV04zyEG9",
        "colab_type": "code",
        "colab": {
          "base_uri": "https://localhost:8080/",
          "height": 525
        },
        "outputId": "4063fc20-919a-40d6-b612-5c77b5610a04"
      },
      "source": [
        "#Gráfico da média de valores importado por estado\n",
        "plt.figure(figsize=(16,8))\n",
        "sns.barplot(x='UF', y='valor_FOB', data=media_por_estado)"
      ],
      "execution_count": 115,
      "outputs": [
        {
          "output_type": "execute_result",
          "data": {
            "text/plain": [
              "<matplotlib.axes._subplots.AxesSubplot at 0x7fcb43eff320>"
            ]
          },
          "metadata": {
            "tags": []
          },
          "execution_count": 115
        },
        {
          "output_type": "display_data",
          "data": {
            "image/png": "[encoded data removed]",
            "text/plain": [
              "<Figure size 1152x576 with 1 Axes>"
            ]
          },
          "metadata": {
            "tags": [],
            "needs_background": "light"
          }
        }
      ]
    },
    {
      "cell_type": "code",
      "metadata": {
        "id": "6DLCzLVJzA2m",
        "colab_type": "code",
        "colab": {
          "base_uri": "https://localhost:8080/",
          "height": 170
        },
        "outputId": "3f8cbd5b-2f1d-4fe5-efad-de39ade240db"
      },
      "source": [
        "#descrevendo o valor FOB das importações\n",
        "impo_por_municipio.describe().round(2)['valor_FOB']"
      ],
      "execution_count": 292,
      "outputs": [
        {
          "output_type": "execute_result",
          "data": {
            "text/plain": [
              "count    4.634680e+05\n",
              "mean     1.198802e+05\n",
              "std      3.674591e+06\n",
              "min      0.000000e+00\n",
              "25%      5.570000e+02\n",
              "50%      4.390000e+03\n",
              "75%      3.060900e+04\n",
              "max      1.890746e+09\n",
              "Name: valor_FOB, dtype: float64"
            ]
          },
          "metadata": {
            "tags": []
          },
          "execution_count": 292
        }
      ]
    },
    {
      "cell_type": "code",
      "metadata": {
        "id": "VkS7I10azZS8",
        "colab_type": "code",
        "colab": {
          "base_uri": "https://localhost:8080/",
          "height": 527
        },
        "outputId": "b0efa1ce-2a73-402f-b5d7-350cf59a3d36"
      },
      "source": [
        "#valor total importado por estado em 2020\n",
        "impo_por_municipio.groupby('UF').sum()['valor_FOB']"
      ],
      "execution_count": 99,
      "outputs": [
        {
          "output_type": "execute_result",
          "data": {
            "text/plain": [
              "UF\n",
              "AC         556444\n",
              "AL      243554130\n",
              "AM     3317974651\n",
              "AP       43601056\n",
              "BA     1668034387\n",
              "CE      825740650\n",
              "DF      503074967\n",
              "ES     1960855068\n",
              "GO     1066832494\n",
              "MA      818870696\n",
              "MG     2625540709\n",
              "MS      752145750\n",
              "MT      556603061\n",
              "ND         936513\n",
              "PA      440781893\n",
              "PB      194794459\n",
              "PE     1371071786\n",
              "PI      130206180\n",
              "PR     3664194690\n",
              "RJ     8997741237\n",
              "RN       57446917\n",
              "RO      196197703\n",
              "RR       15424239\n",
              "RS     2222695805\n",
              "SC     5279109258\n",
              "SE       80561635\n",
              "SP    18488901007\n",
              "TO       37183283\n",
              "Name: valor_FOB, dtype: int64"
            ]
          },
          "metadata": {
            "tags": []
          },
          "execution_count": 99
        }
      ]
    },
    {
      "cell_type": "code",
      "metadata": {
        "id": "lr8jgNP_z3iP",
        "colab_type": "code",
        "colab": {}
      },
      "source": [
        "total_FOB_por_estado = impo_por_municipio.groupby('UF').sum()['valor_FOB'].to_frame().reset_index().sort_values('valor_FOB')"
      ],
      "execution_count": 0,
      "outputs": []
    },
    {
      "cell_type": "code",
      "metadata": {
        "id": "ULQtpMBK07pO",
        "colab_type": "code",
        "colab": {}
      },
      "source": [
        "total_FOB_por_estado.columns = ['UF','valor_total']"
      ],
      "execution_count": 0,
      "outputs": []
    },
    {
      "cell_type": "code",
      "metadata": {
        "id": "CYeMcWzu09t9",
        "colab_type": "code",
        "colab": {
          "base_uri": "https://localhost:8080/",
          "height": 525
        },
        "outputId": "6b9e1ecf-2226-47b2-a399-269c093bfa55"
      },
      "source": [
        "#visualizando o maior valor de importação por estado\n",
        "plt.figure(figsize=(16,8))\n",
        "sns.barplot(x='UF', y='valor_total', data=total_FOB_por_estado)"
      ],
      "execution_count": 125,
      "outputs": [
        {
          "output_type": "execute_result",
          "data": {
            "text/plain": [
              "<matplotlib.axes._subplots.AxesSubplot at 0x7fcb43aeae80>"
            ]
          },
          "metadata": {
            "tags": []
          },
          "execution_count": 125
        },
        {
          "output_type": "display_data",
          "data": {
            "image/png": "[encoded data removed]",
            "text/plain": [
              "<Figure size 1152x576 with 1 Axes>"
            ]
          },
          "metadata": {
            "tags": [],
            "needs_background": "light"
          }
        }
      ]
    },
    {
      "cell_type": "code",
      "metadata": {
        "id": "hdwctrhZ1P80",
        "colab_type": "code",
        "colab": {}
      },
      "source": [
        "#unindo a média ao total importado\n",
        "total_e_media = media_por_estado.join(total_FOB_por_estado.set_index('UF'), on='UF') "
      ],
      "execution_count": 0,
      "outputs": []
    },
    {
      "cell_type": "code",
      "metadata": {
        "id": "okNdVbE04nMN",
        "colab_type": "code",
        "colab": {
          "base_uri": "https://localhost:8080/",
          "height": 917
        },
        "outputId": "af3c5dca-7862-403c-a65b-f85fbbada129"
      },
      "source": [
        "total_e_media"
      ],
      "execution_count": 128,
      "outputs": [
        {
          "output_type": "execute_result",
          "data": {
            "text/html": [
              "<div>\n",
              "<style scoped>\n",
              "    .dataframe tbody tr th:only-of-type {\n",
              "        vertical-align: middle;\n",
              "    }\n",
              "\n",
              "    .dataframe tbody tr th {\n",
              "        vertical-align: top;\n",
              "    }\n",
              "\n",
              "    .dataframe thead th {\n",
              "        text-align: right;\n",
              "    }\n",
              "</style>\n",
              "<table border=\"1\" class=\"dataframe\">\n",
              "  <thead>\n",
              "    <tr style=\"text-align: right;\">\n",
              "      <th></th>\n",
              "      <th>UF</th>\n",
              "      <th>valor_FOB</th>\n",
              "      <th>valor_total</th>\n",
              "    </tr>\n",
              "  </thead>\n",
              "  <tbody>\n",
              "    <tr>\n",
              "      <th>13</th>\n",
              "      <td>ND</td>\n",
              "      <td>22841.78</td>\n",
              "      <td>936513</td>\n",
              "    </tr>\n",
              "    <tr>\n",
              "      <th>0</th>\n",
              "      <td>AC</td>\n",
              "      <td>24193.22</td>\n",
              "      <td>556444</td>\n",
              "    </tr>\n",
              "    <tr>\n",
              "      <th>20</th>\n",
              "      <td>RN</td>\n",
              "      <td>44258.03</td>\n",
              "      <td>57446917</td>\n",
              "    </tr>\n",
              "    <tr>\n",
              "      <th>23</th>\n",
              "      <td>RS</td>\n",
              "      <td>78565.47</td>\n",
              "      <td>2222695805</td>\n",
              "    </tr>\n",
              "    <tr>\n",
              "      <th>10</th>\n",
              "      <td>MG</td>\n",
              "      <td>79893.52</td>\n",
              "      <td>2625540709</td>\n",
              "    </tr>\n",
              "    <tr>\n",
              "      <th>26</th>\n",
              "      <td>SP</td>\n",
              "      <td>81365.03</td>\n",
              "      <td>18488901007</td>\n",
              "    </tr>\n",
              "    <tr>\n",
              "      <th>25</th>\n",
              "      <td>SE</td>\n",
              "      <td>86812.11</td>\n",
              "      <td>80561635</td>\n",
              "    </tr>\n",
              "    <tr>\n",
              "      <th>27</th>\n",
              "      <td>TO</td>\n",
              "      <td>88742.92</td>\n",
              "      <td>37183283</td>\n",
              "    </tr>\n",
              "    <tr>\n",
              "      <th>1</th>\n",
              "      <td>AL</td>\n",
              "      <td>89018.32</td>\n",
              "      <td>243554130</td>\n",
              "    </tr>\n",
              "    <tr>\n",
              "      <th>21</th>\n",
              "      <td>RO</td>\n",
              "      <td>101080.73</td>\n",
              "      <td>196197703</td>\n",
              "    </tr>\n",
              "    <tr>\n",
              "      <th>18</th>\n",
              "      <td>PR</td>\n",
              "      <td>103919.30</td>\n",
              "      <td>3664194690</td>\n",
              "    </tr>\n",
              "    <tr>\n",
              "      <th>24</th>\n",
              "      <td>SC</td>\n",
              "      <td>111869.24</td>\n",
              "      <td>5279109258</td>\n",
              "    </tr>\n",
              "    <tr>\n",
              "      <th>3</th>\n",
              "      <td>AP</td>\n",
              "      <td>132930.05</td>\n",
              "      <td>43601056</td>\n",
              "    </tr>\n",
              "    <tr>\n",
              "      <th>15</th>\n",
              "      <td>PB</td>\n",
              "      <td>136506.28</td>\n",
              "      <td>194794459</td>\n",
              "    </tr>\n",
              "    <tr>\n",
              "      <th>22</th>\n",
              "      <td>RR</td>\n",
              "      <td>137716.42</td>\n",
              "      <td>15424239</td>\n",
              "    </tr>\n",
              "    <tr>\n",
              "      <th>5</th>\n",
              "      <td>CE</td>\n",
              "      <td>145249.01</td>\n",
              "      <td>825740650</td>\n",
              "    </tr>\n",
              "    <tr>\n",
              "      <th>8</th>\n",
              "      <td>GO</td>\n",
              "      <td>157908.89</td>\n",
              "      <td>1066832494</td>\n",
              "    </tr>\n",
              "    <tr>\n",
              "      <th>14</th>\n",
              "      <td>PA</td>\n",
              "      <td>158213.17</td>\n",
              "      <td>440781893</td>\n",
              "    </tr>\n",
              "    <tr>\n",
              "      <th>4</th>\n",
              "      <td>BA</td>\n",
              "      <td>174773.09</td>\n",
              "      <td>1668034387</td>\n",
              "    </tr>\n",
              "    <tr>\n",
              "      <th>16</th>\n",
              "      <td>PE</td>\n",
              "      <td>219828.73</td>\n",
              "      <td>1371071786</td>\n",
              "    </tr>\n",
              "    <tr>\n",
              "      <th>7</th>\n",
              "      <td>ES</td>\n",
              "      <td>252720.08</td>\n",
              "      <td>1960855068</td>\n",
              "    </tr>\n",
              "    <tr>\n",
              "      <th>17</th>\n",
              "      <td>PI</td>\n",
              "      <td>278814.09</td>\n",
              "      <td>130206180</td>\n",
              "    </tr>\n",
              "    <tr>\n",
              "      <th>19</th>\n",
              "      <td>RJ</td>\n",
              "      <td>309775.57</td>\n",
              "      <td>8997741237</td>\n",
              "    </tr>\n",
              "    <tr>\n",
              "      <th>6</th>\n",
              "      <td>DF</td>\n",
              "      <td>321453.65</td>\n",
              "      <td>503074967</td>\n",
              "    </tr>\n",
              "    <tr>\n",
              "      <th>2</th>\n",
              "      <td>AM</td>\n",
              "      <td>351405.92</td>\n",
              "      <td>3317974651</td>\n",
              "    </tr>\n",
              "    <tr>\n",
              "      <th>11</th>\n",
              "      <td>MS</td>\n",
              "      <td>373644.19</td>\n",
              "      <td>752145750</td>\n",
              "    </tr>\n",
              "    <tr>\n",
              "      <th>12</th>\n",
              "      <td>MT</td>\n",
              "      <td>422308.85</td>\n",
              "      <td>556603061</td>\n",
              "    </tr>\n",
              "    <tr>\n",
              "      <th>9</th>\n",
              "      <td>MA</td>\n",
              "      <td>1078881.02</td>\n",
              "      <td>818870696</td>\n",
              "    </tr>\n",
              "  </tbody>\n",
              "</table>\n",
              "</div>"
            ],
            "text/plain": [
              "    UF   valor_FOB  valor_total\n",
              "13  ND    22841.78       936513\n",
              "0   AC    24193.22       556444\n",
              "20  RN    44258.03     57446917\n",
              "23  RS    78565.47   2222695805\n",
              "10  MG    79893.52   2625540709\n",
              "26  SP    81365.03  18488901007\n",
              "25  SE    86812.11     80561635\n",
              "27  TO    88742.92     37183283\n",
              "1   AL    89018.32    243554130\n",
              "21  RO   101080.73    196197703\n",
              "18  PR   103919.30   3664194690\n",
              "24  SC   111869.24   5279109258\n",
              "3   AP   132930.05     43601056\n",
              "15  PB   136506.28    194794459\n",
              "22  RR   137716.42     15424239\n",
              "5   CE   145249.01    825740650\n",
              "8   GO   157908.89   1066832494\n",
              "14  PA   158213.17    440781893\n",
              "4   BA   174773.09   1668034387\n",
              "16  PE   219828.73   1371071786\n",
              "7   ES   252720.08   1960855068\n",
              "17  PI   278814.09    130206180\n",
              "19  RJ   309775.57   8997741237\n",
              "6   DF   321453.65    503074967\n",
              "2   AM   351405.92   3317974651\n",
              "11  MS   373644.19    752145750\n",
              "12  MT   422308.85    556603061\n",
              "9   MA  1078881.02    818870696"
            ]
          },
          "metadata": {
            "tags": []
          },
          "execution_count": 128
        }
      ]
    },
    {
      "cell_type": "code",
      "metadata": {
        "id": "Q-CfMYWt7KKk",
        "colab_type": "code",
        "colab": {
          "base_uri": "https://localhost:8080/",
          "height": 657
        },
        "outputId": "d4793d81-291f-4290-9da2-c16e3f6d76b9"
      },
      "source": [
        "#visualizando o cadastro de empresas importadoras - arquivo bruto\n",
        "pd.read_excel('/content/EMPRESAS_CADASTRO_2020.xlsx')"
      ],
      "execution_count": 129,
      "outputs": [
        {
          "output_type": "execute_result",
          "data": {
            "text/html": [
              "<div>\n",
              "<style scoped>\n",
              "    .dataframe tbody tr th:only-of-type {\n",
              "        vertical-align: middle;\n",
              "    }\n",
              "\n",
              "    .dataframe tbody tr th {\n",
              "        vertical-align: top;\n",
              "    }\n",
              "\n",
              "    .dataframe thead th {\n",
              "        text-align: right;\n",
              "    }\n",
              "</style>\n",
              "<table border=\"1\" class=\"dataframe\">\n",
              "  <thead>\n",
              "    <tr style=\"text-align: right;\">\n",
              "      <th></th>\n",
              "      <th>SECRETARIA DE COMÉRCIO EXTERIOR</th>\n",
              "      <th>Unnamed: 1</th>\n",
              "      <th>Unnamed: 2</th>\n",
              "      <th>Unnamed: 3</th>\n",
              "      <th>Unnamed: 4</th>\n",
              "      <th>Unnamed: 5</th>\n",
              "      <th>Unnamed: 6</th>\n",
              "      <th>Unnamed: 7</th>\n",
              "      <th>Unnamed: 8</th>\n",
              "      <th>Unnamed: 9</th>\n",
              "    </tr>\n",
              "  </thead>\n",
              "  <tbody>\n",
              "    <tr>\n",
              "      <th>0</th>\n",
              "      <td>NaN</td>\n",
              "      <td>NaN</td>\n",
              "      <td>NaN</td>\n",
              "      <td>NaN</td>\n",
              "      <td>NaN</td>\n",
              "      <td>NaN</td>\n",
              "      <td>NaN</td>\n",
              "      <td>NaN</td>\n",
              "      <td>NaN</td>\n",
              "      <td>NaN</td>\n",
              "    </tr>\n",
              "    <tr>\n",
              "      <th>1</th>\n",
              "      <td>NaN</td>\n",
              "      <td>NaN</td>\n",
              "      <td>NaN</td>\n",
              "      <td>NaN</td>\n",
              "      <td>NaN</td>\n",
              "      <td>NaN</td>\n",
              "      <td>NaN</td>\n",
              "      <td>NaN</td>\n",
              "      <td>NaN</td>\n",
              "      <td>NaN</td>\n",
              "    </tr>\n",
              "    <tr>\n",
              "      <th>2</th>\n",
              "      <td>CADASTRO DE EMPRESAS EXPORTADORAS</td>\n",
              "      <td>NaN</td>\n",
              "      <td>NaN</td>\n",
              "      <td>NaN</td>\n",
              "      <td>NaN</td>\n",
              "      <td>NaN</td>\n",
              "      <td>NaN</td>\n",
              "      <td>NaN</td>\n",
              "      <td>NaN</td>\n",
              "      <td>NaN</td>\n",
              "    </tr>\n",
              "    <tr>\n",
              "      <th>3</th>\n",
              "      <td>(apenas CNPJ 14 dígitos)</td>\n",
              "      <td>NaN</td>\n",
              "      <td>NaN</td>\n",
              "      <td>NaN</td>\n",
              "      <td>NaN</td>\n",
              "      <td>NaN</td>\n",
              "      <td>NaN</td>\n",
              "      <td>NaN</td>\n",
              "      <td>NaN</td>\n",
              "      <td>NaN</td>\n",
              "    </tr>\n",
              "    <tr>\n",
              "      <th>4</th>\n",
              "      <td>PERÍODO: JANEIRO-ABRIL 2020</td>\n",
              "      <td>NaN</td>\n",
              "      <td>NaN</td>\n",
              "      <td>NaN</td>\n",
              "      <td>NaN</td>\n",
              "      <td>NaN</td>\n",
              "      <td>NaN</td>\n",
              "      <td>NaN</td>\n",
              "      <td>NaN</td>\n",
              "      <td>NaN</td>\n",
              "    </tr>\n",
              "    <tr>\n",
              "      <th>...</th>\n",
              "      <td>...</td>\n",
              "      <td>...</td>\n",
              "      <td>...</td>\n",
              "      <td>...</td>\n",
              "      <td>...</td>\n",
              "      <td>...</td>\n",
              "      <td>...</td>\n",
              "      <td>...</td>\n",
              "      <td>...</td>\n",
              "      <td>...</td>\n",
              "    </tr>\n",
              "    <tr>\n",
              "      <th>18914</th>\n",
              "      <td>10380910000109</td>\n",
              "      <td>7 WAY COMERCIO DE MAQUINAS E EQUIPAMENTOS LTDA</td>\n",
              "      <td>AVENIDA JOAO CORREA</td>\n",
              "      <td>991</td>\n",
              "      <td>CENTRO</td>\n",
              "      <td>93020690</td>\n",
              "      <td>SAO LEOPOLDO</td>\n",
              "      <td>RS</td>\n",
              "      <td>4663 - Comércio atacadista de máquinas e equip...</td>\n",
              "      <td>206 - SOCIEDADE POR COTAS DE RESPONS. LIMITADA...</td>\n",
              "    </tr>\n",
              "    <tr>\n",
              "      <th>18915</th>\n",
              "      <td>22369082000189</td>\n",
              "      <td>7CS JEWELLERY INTERNATIONAL COMERCIO DE JOIAS ...</td>\n",
              "      <td>AVENIDA MAGALHAES DE CASTRO</td>\n",
              "      <td>12000</td>\n",
              "      <td>CIDADE JARDIM</td>\n",
              "      <td>05676120</td>\n",
              "      <td>SAO PAULO</td>\n",
              "      <td>SP</td>\n",
              "      <td>4783 - Comércio varejista de jóias e relógios</td>\n",
              "      <td>206 - SOCIEDADE POR COTAS DE RESPONS. LIMITADA...</td>\n",
              "    </tr>\n",
              "    <tr>\n",
              "      <th>18916</th>\n",
              "      <td>28771059000100</td>\n",
              "      <td>7OGUN IMPORTACAO E EXPORTACAO DE EQUIPAMENTOS ...</td>\n",
              "      <td>ALAMEDA ARACA</td>\n",
              "      <td>63</td>\n",
              "      <td>MOINHO VELHO</td>\n",
              "      <td>06714375</td>\n",
              "      <td>COTIA</td>\n",
              "      <td>SP</td>\n",
              "      <td>4689 - Comércio atacadista especializado de ou...</td>\n",
              "      <td>230 - EMPRESA INDIVIDUAL DE RESPONSABILIDADE L...</td>\n",
              "    </tr>\n",
              "    <tr>\n",
              "      <th>18917</th>\n",
              "      <td>16729231000251</td>\n",
              "      <td>7PETS COMERCIAL DO BRASIL S.A</td>\n",
              "      <td>RUA JUMECY RODRIGUES GOMES</td>\n",
              "      <td>331</td>\n",
              "      <td>CENTRO CONDOMINIO IN</td>\n",
              "      <td>27175000</td>\n",
              "      <td>PIRAI</td>\n",
              "      <td>RJ</td>\n",
              "      <td>4693 - Comércio atacadista de mercadorias em g...</td>\n",
              "      <td>205 - SOCIEDADE ANONIMA FECHADA-EMPRESA PRIVADA</td>\n",
              "    </tr>\n",
              "    <tr>\n",
              "      <th>18918</th>\n",
              "      <td>07591645000195</td>\n",
              "      <td>9INJET INJECAO DE PECAS PLASTICAS LTDA.</td>\n",
              "      <td>ESTRADA MUNICIPAL IPN 020 KM 0,5</td>\n",
              "      <td>S/N</td>\n",
              "      <td>DISTRITO INDUSTRIAL</td>\n",
              "      <td>13537000</td>\n",
              "      <td>IPEUNA</td>\n",
              "      <td>SP</td>\n",
              "      <td>2229 - Fabricação de artefatos de material plá...</td>\n",
              "      <td>206 - SOCIEDADE POR COTAS DE RESPONS. LIMITADA...</td>\n",
              "    </tr>\n",
              "  </tbody>\n",
              "</table>\n",
              "<p>18919 rows × 10 columns</p>\n",
              "</div>"
            ],
            "text/plain": [
              "         SECRETARIA DE COMÉRCIO EXTERIOR  ...                                         Unnamed: 9\n",
              "0                                    NaN  ...                                                NaN\n",
              "1                                    NaN  ...                                                NaN\n",
              "2      CADASTRO DE EMPRESAS EXPORTADORAS  ...                                                NaN\n",
              "3               (apenas CNPJ 14 dígitos)  ...                                                NaN\n",
              "4            PERÍODO: JANEIRO-ABRIL 2020  ...                                                NaN\n",
              "...                                  ...  ...                                                ...\n",
              "18914                     10380910000109  ...  206 - SOCIEDADE POR COTAS DE RESPONS. LIMITADA...\n",
              "18915                     22369082000189  ...  206 - SOCIEDADE POR COTAS DE RESPONS. LIMITADA...\n",
              "18916                     28771059000100  ...  230 - EMPRESA INDIVIDUAL DE RESPONSABILIDADE L...\n",
              "18917                     16729231000251  ...    205 - SOCIEDADE ANONIMA FECHADA-EMPRESA PRIVADA\n",
              "18918                     07591645000195  ...  206 - SOCIEDADE POR COTAS DE RESPONS. LIMITADA...\n",
              "\n",
              "[18919 rows x 10 columns]"
            ]
          },
          "metadata": {
            "tags": []
          },
          "execution_count": 129
        }
      ]
    },
    {
      "cell_type": "code",
      "metadata": {
        "id": "slr1ZPdO8znl",
        "colab_type": "code",
        "colab": {
          "base_uri": "https://localhost:8080/",
          "height": 1000
        },
        "outputId": "c9ba3c3e-f467-4467-ef1c-86882f5c3bc6"
      },
      "source": [
        "#visualizando a quantidade de empresas - arquivo bruto\n",
        "pd.read_excel('/content/QUANTIDADE_EMPRESAS.xlsx')"
      ],
      "execution_count": 130,
      "outputs": [
        {
          "output_type": "execute_result",
          "data": {
            "text/html": [
              "<div>\n",
              "<style scoped>\n",
              "    .dataframe tbody tr th:only-of-type {\n",
              "        vertical-align: middle;\n",
              "    }\n",
              "\n",
              "    .dataframe tbody tr th {\n",
              "        vertical-align: top;\n",
              "    }\n",
              "\n",
              "    .dataframe thead th {\n",
              "        text-align: right;\n",
              "    }\n",
              "</style>\n",
              "<table border=\"1\" class=\"dataframe\">\n",
              "  <thead>\n",
              "    <tr style=\"text-align: right;\">\n",
              "      <th></th>\n",
              "      <th>Quantidade de Operadores por Faixas de Valor</th>\n",
              "      <th>Unnamed: 1</th>\n",
              "      <th>Unnamed: 2</th>\n",
              "      <th>Unnamed: 3</th>\n",
              "      <th>Unnamed: 4</th>\n",
              "      <th>Unnamed: 5</th>\n",
              "      <th>Unnamed: 6</th>\n",
              "      <th>Unnamed: 7</th>\n",
              "    </tr>\n",
              "  </thead>\n",
              "  <tbody>\n",
              "    <tr>\n",
              "      <th>0</th>\n",
              "      <td>DADOS ATÉ ABR/2020</td>\n",
              "      <td>NaN</td>\n",
              "      <td>NaN</td>\n",
              "      <td>NaN</td>\n",
              "      <td>NaN</td>\n",
              "      <td>NaN</td>\n",
              "      <td>NaN</td>\n",
              "      <td>NaN</td>\n",
              "    </tr>\n",
              "    <tr>\n",
              "      <th>1</th>\n",
              "      <td>NaN</td>\n",
              "      <td>NaN</td>\n",
              "      <td>NaN</td>\n",
              "      <td>NaN</td>\n",
              "      <td>NaN</td>\n",
              "      <td>NaN</td>\n",
              "      <td>NaN</td>\n",
              "      <td>NaN</td>\n",
              "    </tr>\n",
              "    <tr>\n",
              "      <th>2</th>\n",
              "      <td>NaN</td>\n",
              "      <td>NaN</td>\n",
              "      <td>NaN</td>\n",
              "      <td>NaN</td>\n",
              "      <td>NaN</td>\n",
              "      <td>NaN</td>\n",
              "      <td>NaN</td>\n",
              "      <td>NaN</td>\n",
              "    </tr>\n",
              "    <tr>\n",
              "      <th>3</th>\n",
              "      <td>TIPO</td>\n",
              "      <td>EXP</td>\n",
              "      <td>NaN</td>\n",
              "      <td>NaN</td>\n",
              "      <td>NaN</td>\n",
              "      <td>NaN</td>\n",
              "      <td>NaN</td>\n",
              "      <td>NaN</td>\n",
              "    </tr>\n",
              "    <tr>\n",
              "      <th>4</th>\n",
              "      <td>NaN</td>\n",
              "      <td>NaN</td>\n",
              "      <td>NaN</td>\n",
              "      <td>NaN</td>\n",
              "      <td>NaN</td>\n",
              "      <td>NaN</td>\n",
              "      <td>NaN</td>\n",
              "      <td>NaN</td>\n",
              "    </tr>\n",
              "    <tr>\n",
              "      <th>5</th>\n",
              "      <td>Soma de NUM_EMPRESAS</td>\n",
              "      <td>Rótulos de Coluna</td>\n",
              "      <td>NaN</td>\n",
              "      <td>NaN</td>\n",
              "      <td>NaN</td>\n",
              "      <td>NaN</td>\n",
              "      <td>NaN</td>\n",
              "      <td>NaN</td>\n",
              "    </tr>\n",
              "    <tr>\n",
              "      <th>6</th>\n",
              "      <td>ANO</td>\n",
              "      <td>2 - Entre US$ 50 e US$ 100 milhões</td>\n",
              "      <td>3 - Entre US$ 10 e US$ 50 milhões</td>\n",
              "      <td>4 - Entre US$ 5 e US$ 10 milhões</td>\n",
              "      <td>5 - Entre US$ 1 e US$ 5 milhões</td>\n",
              "      <td>6 - Até US$ 1 milhão</td>\n",
              "      <td>1 - Acima de US$ 100 milhões</td>\n",
              "      <td>Total Geral</td>\n",
              "    </tr>\n",
              "    <tr>\n",
              "      <th>7</th>\n",
              "      <td>1997</td>\n",
              "      <td>115</td>\n",
              "      <td>670</td>\n",
              "      <td>534</td>\n",
              "      <td>1973</td>\n",
              "      <td>12089</td>\n",
              "      <td>87</td>\n",
              "      <td>15468</td>\n",
              "    </tr>\n",
              "    <tr>\n",
              "      <th>8</th>\n",
              "      <td>1998</td>\n",
              "      <td>116</td>\n",
              "      <td>611</td>\n",
              "      <td>505</td>\n",
              "      <td>1889</td>\n",
              "      <td>12605</td>\n",
              "      <td>81</td>\n",
              "      <td>15807</td>\n",
              "    </tr>\n",
              "    <tr>\n",
              "      <th>9</th>\n",
              "      <td>1999</td>\n",
              "      <td>100</td>\n",
              "      <td>570</td>\n",
              "      <td>525</td>\n",
              "      <td>1953</td>\n",
              "      <td>13892</td>\n",
              "      <td>79</td>\n",
              "      <td>17119</td>\n",
              "    </tr>\n",
              "    <tr>\n",
              "      <th>10</th>\n",
              "      <td>2000</td>\n",
              "      <td>103</td>\n",
              "      <td>596</td>\n",
              "      <td>513</td>\n",
              "      <td>2137</td>\n",
              "      <td>14565</td>\n",
              "      <td>94</td>\n",
              "      <td>18008</td>\n",
              "    </tr>\n",
              "    <tr>\n",
              "      <th>11</th>\n",
              "      <td>2001</td>\n",
              "      <td>113</td>\n",
              "      <td>602</td>\n",
              "      <td>563</td>\n",
              "      <td>2167</td>\n",
              "      <td>15625</td>\n",
              "      <td>99</td>\n",
              "      <td>19169</td>\n",
              "    </tr>\n",
              "    <tr>\n",
              "      <th>12</th>\n",
              "      <td>2002</td>\n",
              "      <td>103</td>\n",
              "      <td>634</td>\n",
              "      <td>565</td>\n",
              "      <td>2180</td>\n",
              "      <td>15743</td>\n",
              "      <td>105</td>\n",
              "      <td>19330</td>\n",
              "    </tr>\n",
              "    <tr>\n",
              "      <th>13</th>\n",
              "      <td>2003</td>\n",
              "      <td>121</td>\n",
              "      <td>743</td>\n",
              "      <td>678</td>\n",
              "      <td>2496</td>\n",
              "      <td>15623</td>\n",
              "      <td>118</td>\n",
              "      <td>19779</td>\n",
              "    </tr>\n",
              "    <tr>\n",
              "      <th>14</th>\n",
              "      <td>2004</td>\n",
              "      <td>161</td>\n",
              "      <td>926</td>\n",
              "      <td>791</td>\n",
              "      <td>2972</td>\n",
              "      <td>15882</td>\n",
              "      <td>158</td>\n",
              "      <td>20890</td>\n",
              "    </tr>\n",
              "    <tr>\n",
              "      <th>15</th>\n",
              "      <td>2005</td>\n",
              "      <td>188</td>\n",
              "      <td>1041</td>\n",
              "      <td>811</td>\n",
              "      <td>3152</td>\n",
              "      <td>20176</td>\n",
              "      <td>195</td>\n",
              "      <td>25563</td>\n",
              "    </tr>\n",
              "    <tr>\n",
              "      <th>16</th>\n",
              "      <td>2006</td>\n",
              "      <td>216</td>\n",
              "      <td>1142</td>\n",
              "      <td>911</td>\n",
              "      <td>3140</td>\n",
              "      <td>17476</td>\n",
              "      <td>222</td>\n",
              "      <td>23107</td>\n",
              "    </tr>\n",
              "    <tr>\n",
              "      <th>17</th>\n",
              "      <td>2007</td>\n",
              "      <td>259</td>\n",
              "      <td>1271</td>\n",
              "      <td>936</td>\n",
              "      <td>3278</td>\n",
              "      <td>17549</td>\n",
              "      <td>240</td>\n",
              "      <td>23533</td>\n",
              "    </tr>\n",
              "    <tr>\n",
              "      <th>18</th>\n",
              "      <td>2008</td>\n",
              "      <td>294</td>\n",
              "      <td>1347</td>\n",
              "      <td>965</td>\n",
              "      <td>3293</td>\n",
              "      <td>16826</td>\n",
              "      <td>303</td>\n",
              "      <td>23028</td>\n",
              "    </tr>\n",
              "    <tr>\n",
              "      <th>19</th>\n",
              "      <td>2009</td>\n",
              "      <td>227</td>\n",
              "      <td>1201</td>\n",
              "      <td>844</td>\n",
              "      <td>2960</td>\n",
              "      <td>16933</td>\n",
              "      <td>260</td>\n",
              "      <td>22425</td>\n",
              "    </tr>\n",
              "    <tr>\n",
              "      <th>20</th>\n",
              "      <td>2010</td>\n",
              "      <td>268</td>\n",
              "      <td>1264</td>\n",
              "      <td>954</td>\n",
              "      <td>2934</td>\n",
              "      <td>16168</td>\n",
              "      <td>323</td>\n",
              "      <td>21911</td>\n",
              "    </tr>\n",
              "    <tr>\n",
              "      <th>21</th>\n",
              "      <td>2011</td>\n",
              "      <td>307</td>\n",
              "      <td>1384</td>\n",
              "      <td>937</td>\n",
              "      <td>3131</td>\n",
              "      <td>15783</td>\n",
              "      <td>407</td>\n",
              "      <td>21949</td>\n",
              "    </tr>\n",
              "    <tr>\n",
              "      <th>22</th>\n",
              "      <td>2012</td>\n",
              "      <td>334</td>\n",
              "      <td>1358</td>\n",
              "      <td>947</td>\n",
              "      <td>3052</td>\n",
              "      <td>15373</td>\n",
              "      <td>409</td>\n",
              "      <td>21473</td>\n",
              "    </tr>\n",
              "    <tr>\n",
              "      <th>23</th>\n",
              "      <td>2013</td>\n",
              "      <td>356</td>\n",
              "      <td>1352</td>\n",
              "      <td>969</td>\n",
              "      <td>3076</td>\n",
              "      <td>15670</td>\n",
              "      <td>385</td>\n",
              "      <td>21808</td>\n",
              "    </tr>\n",
              "    <tr>\n",
              "      <th>24</th>\n",
              "      <td>2014</td>\n",
              "      <td>343</td>\n",
              "      <td>1370</td>\n",
              "      <td>951</td>\n",
              "      <td>3117</td>\n",
              "      <td>16147</td>\n",
              "      <td>388</td>\n",
              "      <td>22316</td>\n",
              "    </tr>\n",
              "    <tr>\n",
              "      <th>25</th>\n",
              "      <td>2015</td>\n",
              "      <td>344</td>\n",
              "      <td>1323</td>\n",
              "      <td>917</td>\n",
              "      <td>3239</td>\n",
              "      <td>17374</td>\n",
              "      <td>337</td>\n",
              "      <td>23534</td>\n",
              "    </tr>\n",
              "    <tr>\n",
              "      <th>26</th>\n",
              "      <td>2016</td>\n",
              "      <td>325</td>\n",
              "      <td>1291</td>\n",
              "      <td>884</td>\n",
              "      <td>3289</td>\n",
              "      <td>19408</td>\n",
              "      <td>342</td>\n",
              "      <td>25539</td>\n",
              "    </tr>\n",
              "    <tr>\n",
              "      <th>27</th>\n",
              "      <td>2017</td>\n",
              "      <td>354</td>\n",
              "      <td>1373</td>\n",
              "      <td>877</td>\n",
              "      <td>3326</td>\n",
              "      <td>19102</td>\n",
              "      <td>399</td>\n",
              "      <td>25431</td>\n",
              "    </tr>\n",
              "    <tr>\n",
              "      <th>28</th>\n",
              "      <td>2018</td>\n",
              "      <td>310</td>\n",
              "      <td>1377</td>\n",
              "      <td>972</td>\n",
              "      <td>3292</td>\n",
              "      <td>19185</td>\n",
              "      <td>385</td>\n",
              "      <td>25521</td>\n",
              "    </tr>\n",
              "    <tr>\n",
              "      <th>29</th>\n",
              "      <td>2019</td>\n",
              "      <td>369</td>\n",
              "      <td>1373</td>\n",
              "      <td>912</td>\n",
              "      <td>3343</td>\n",
              "      <td>21686</td>\n",
              "      <td>389</td>\n",
              "      <td>28072</td>\n",
              "    </tr>\n",
              "    <tr>\n",
              "      <th>30</th>\n",
              "      <td>2020</td>\n",
              "      <td>130</td>\n",
              "      <td>783</td>\n",
              "      <td>498</td>\n",
              "      <td>1979</td>\n",
              "      <td>15621</td>\n",
              "      <td>108</td>\n",
              "      <td>19119</td>\n",
              "    </tr>\n",
              "    <tr>\n",
              "      <th>31</th>\n",
              "      <td>Total Geral</td>\n",
              "      <td>5556</td>\n",
              "      <td>25602</td>\n",
              "      <td>18959</td>\n",
              "      <td>67368</td>\n",
              "      <td>396501</td>\n",
              "      <td>5913</td>\n",
              "      <td>519899</td>\n",
              "    </tr>\n",
              "  </tbody>\n",
              "</table>\n",
              "</div>"
            ],
            "text/plain": [
              "   Quantidade de Operadores por Faixas de Valor  ...   Unnamed: 7\n",
              "0                            DADOS ATÉ ABR/2020  ...          NaN\n",
              "1                                           NaN  ...          NaN\n",
              "2                                           NaN  ...          NaN\n",
              "3                                          TIPO  ...          NaN\n",
              "4                                           NaN  ...          NaN\n",
              "5                          Soma de NUM_EMPRESAS  ...          NaN\n",
              "6                                           ANO  ...  Total Geral\n",
              "7                                          1997  ...        15468\n",
              "8                                          1998  ...        15807\n",
              "9                                          1999  ...        17119\n",
              "10                                         2000  ...        18008\n",
              "11                                         2001  ...        19169\n",
              "12                                         2002  ...        19330\n",
              "13                                         2003  ...        19779\n",
              "14                                         2004  ...        20890\n",
              "15                                         2005  ...        25563\n",
              "16                                         2006  ...        23107\n",
              "17                                         2007  ...        23533\n",
              "18                                         2008  ...        23028\n",
              "19                                         2009  ...        22425\n",
              "20                                         2010  ...        21911\n",
              "21                                         2011  ...        21949\n",
              "22                                         2012  ...        21473\n",
              "23                                         2013  ...        21808\n",
              "24                                         2014  ...        22316\n",
              "25                                         2015  ...        23534\n",
              "26                                         2016  ...        25539\n",
              "27                                         2017  ...        25431\n",
              "28                                         2018  ...        25521\n",
              "29                                         2019  ...        28072\n",
              "30                                         2020  ...        19119\n",
              "31                                  Total Geral  ...       519899\n",
              "\n",
              "[32 rows x 8 columns]"
            ]
          },
          "metadata": {
            "tags": []
          },
          "execution_count": 130
        }
      ]
    },
    {
      "cell_type": "code",
      "metadata": {
        "id": "CKYXf26P9hBS",
        "colab_type": "code",
        "colab": {
          "base_uri": "https://localhost:8080/",
          "height": 221
        },
        "outputId": "79711d49-3f3c-4eb7-cf20-23f9665f2617"
      },
      "source": [
        "#arquivo ajustado\n",
        "empresas_importadoras = pd.read_excel('/content/total_empresas_importadoras.xlsx')\n",
        "empresas_importadoras.head()"
      ],
      "execution_count": 135,
      "outputs": [
        {
          "output_type": "execute_result",
          "data": {
            "text/html": [
              "<div>\n",
              "<style scoped>\n",
              "    .dataframe tbody tr th:only-of-type {\n",
              "        vertical-align: middle;\n",
              "    }\n",
              "\n",
              "    .dataframe tbody tr th {\n",
              "        vertical-align: top;\n",
              "    }\n",
              "\n",
              "    .dataframe thead th {\n",
              "        text-align: right;\n",
              "    }\n",
              "</style>\n",
              "<table border=\"1\" class=\"dataframe\">\n",
              "  <thead>\n",
              "    <tr style=\"text-align: right;\">\n",
              "      <th></th>\n",
              "      <th>ANO</th>\n",
              "      <th>2 - Entre US$ 50 e US$ 100 milhões</th>\n",
              "      <th>3 - Entre US$ 10 e US$ 50 milhões</th>\n",
              "      <th>4 - Entre US$ 5 e US$ 10 milhões</th>\n",
              "      <th>5 - Entre US$ 1 e US$ 5 milhões</th>\n",
              "      <th>6 - Até US$ 1 milhão</th>\n",
              "      <th>1 - Acima de US$ 100 milhões</th>\n",
              "      <th>Total Geral</th>\n",
              "    </tr>\n",
              "  </thead>\n",
              "  <tbody>\n",
              "    <tr>\n",
              "      <th>0</th>\n",
              "      <td>1997</td>\n",
              "      <td>89</td>\n",
              "      <td>719</td>\n",
              "      <td>774</td>\n",
              "      <td>3684</td>\n",
              "      <td>35170</td>\n",
              "      <td>68</td>\n",
              "      <td>40504</td>\n",
              "    </tr>\n",
              "    <tr>\n",
              "      <th>1</th>\n",
              "      <td>1998</td>\n",
              "      <td>85</td>\n",
              "      <td>726</td>\n",
              "      <td>762</td>\n",
              "      <td>3594</td>\n",
              "      <td>33937</td>\n",
              "      <td>71</td>\n",
              "      <td>39175</td>\n",
              "    </tr>\n",
              "    <tr>\n",
              "      <th>2</th>\n",
              "      <td>1999</td>\n",
              "      <td>89</td>\n",
              "      <td>601</td>\n",
              "      <td>625</td>\n",
              "      <td>2998</td>\n",
              "      <td>25573</td>\n",
              "      <td>62</td>\n",
              "      <td>29948</td>\n",
              "    </tr>\n",
              "    <tr>\n",
              "      <th>3</th>\n",
              "      <td>2000</td>\n",
              "      <td>86</td>\n",
              "      <td>643</td>\n",
              "      <td>709</td>\n",
              "      <td>3197</td>\n",
              "      <td>26381</td>\n",
              "      <td>72</td>\n",
              "      <td>31088</td>\n",
              "    </tr>\n",
              "    <tr>\n",
              "      <th>4</th>\n",
              "      <td>2001</td>\n",
              "      <td>75</td>\n",
              "      <td>677</td>\n",
              "      <td>704</td>\n",
              "      <td>3167</td>\n",
              "      <td>26864</td>\n",
              "      <td>79</td>\n",
              "      <td>31566</td>\n",
              "    </tr>\n",
              "  </tbody>\n",
              "</table>\n",
              "</div>"
            ],
            "text/plain": [
              "    ANO  ...  Total Geral\n",
              "0  1997  ...        40504\n",
              "1  1998  ...        39175\n",
              "2  1999  ...        29948\n",
              "3  2000  ...        31088\n",
              "4  2001  ...        31566\n",
              "\n",
              "[5 rows x 8 columns]"
            ]
          },
          "metadata": {
            "tags": []
          },
          "execution_count": 135
        }
      ]
    },
    {
      "cell_type": "code",
      "metadata": {
        "id": "xakqE8sgX--J",
        "colab_type": "code",
        "colab": {
          "base_uri": "https://localhost:8080/",
          "height": 399
        },
        "outputId": "e923e722-da2b-4ee5-d2e1-f7f2567dcddf"
      },
      "source": [
        "#vamos tentar visualizar a distribuição dos importadores por segmento\n",
        "#primeiro vamos transpor o DF para pegar os dados por ano\n",
        "empresas_importadoras_por_ano = empresas_importadoras.transpose()\n",
        "empresas_importadoras_por_ano\n",
        "\n"
      ],
      "execution_count": 297,
      "outputs": [
        {
          "output_type": "execute_result",
          "data": {
            "text/html": [
              "<div>\n",
              "<style scoped>\n",
              "    .dataframe tbody tr th:only-of-type {\n",
              "        vertical-align: middle;\n",
              "    }\n",
              "\n",
              "    .dataframe tbody tr th {\n",
              "        vertical-align: top;\n",
              "    }\n",
              "\n",
              "    .dataframe thead th {\n",
              "        text-align: right;\n",
              "    }\n",
              "</style>\n",
              "<table border=\"1\" class=\"dataframe\">\n",
              "  <thead>\n",
              "    <tr style=\"text-align: right;\">\n",
              "      <th></th>\n",
              "      <th>0</th>\n",
              "      <th>1</th>\n",
              "      <th>2</th>\n",
              "      <th>3</th>\n",
              "      <th>4</th>\n",
              "      <th>5</th>\n",
              "      <th>6</th>\n",
              "      <th>7</th>\n",
              "      <th>8</th>\n",
              "      <th>9</th>\n",
              "      <th>10</th>\n",
              "      <th>11</th>\n",
              "      <th>12</th>\n",
              "      <th>13</th>\n",
              "      <th>14</th>\n",
              "      <th>15</th>\n",
              "      <th>16</th>\n",
              "      <th>17</th>\n",
              "      <th>18</th>\n",
              "      <th>19</th>\n",
              "      <th>20</th>\n",
              "      <th>21</th>\n",
              "      <th>22</th>\n",
              "      <th>23</th>\n",
              "      <th>24</th>\n",
              "    </tr>\n",
              "  </thead>\n",
              "  <tbody>\n",
              "    <tr>\n",
              "      <th>ANO</th>\n",
              "      <td>1997</td>\n",
              "      <td>1998</td>\n",
              "      <td>1999</td>\n",
              "      <td>2000</td>\n",
              "      <td>2001</td>\n",
              "      <td>2002</td>\n",
              "      <td>2003</td>\n",
              "      <td>2004</td>\n",
              "      <td>2005</td>\n",
              "      <td>2006</td>\n",
              "      <td>2007</td>\n",
              "      <td>2008</td>\n",
              "      <td>2009</td>\n",
              "      <td>2010</td>\n",
              "      <td>2011</td>\n",
              "      <td>2012</td>\n",
              "      <td>2013</td>\n",
              "      <td>2014</td>\n",
              "      <td>2015</td>\n",
              "      <td>2016</td>\n",
              "      <td>2017</td>\n",
              "      <td>2018</td>\n",
              "      <td>2019</td>\n",
              "      <td>2020</td>\n",
              "      <td>Total Geral</td>\n",
              "    </tr>\n",
              "    <tr>\n",
              "      <th>2 - Entre US$ 50 e US$ 100 milhões</th>\n",
              "      <td>89</td>\n",
              "      <td>85</td>\n",
              "      <td>89</td>\n",
              "      <td>86</td>\n",
              "      <td>75</td>\n",
              "      <td>77</td>\n",
              "      <td>77</td>\n",
              "      <td>87</td>\n",
              "      <td>98</td>\n",
              "      <td>135</td>\n",
              "      <td>169</td>\n",
              "      <td>263</td>\n",
              "      <td>204</td>\n",
              "      <td>259</td>\n",
              "      <td>319</td>\n",
              "      <td>317</td>\n",
              "      <td>359</td>\n",
              "      <td>331</td>\n",
              "      <td>289</td>\n",
              "      <td>238</td>\n",
              "      <td>276</td>\n",
              "      <td>321</td>\n",
              "      <td>315</td>\n",
              "      <td>100</td>\n",
              "      <td>4658</td>\n",
              "    </tr>\n",
              "    <tr>\n",
              "      <th>3 - Entre US$ 10 e US$ 50 milhões</th>\n",
              "      <td>719</td>\n",
              "      <td>726</td>\n",
              "      <td>601</td>\n",
              "      <td>643</td>\n",
              "      <td>677</td>\n",
              "      <td>586</td>\n",
              "      <td>579</td>\n",
              "      <td>721</td>\n",
              "      <td>832</td>\n",
              "      <td>937</td>\n",
              "      <td>1244</td>\n",
              "      <td>1512</td>\n",
              "      <td>1356</td>\n",
              "      <td>1733</td>\n",
              "      <td>2003</td>\n",
              "      <td>2012</td>\n",
              "      <td>2033</td>\n",
              "      <td>2019</td>\n",
              "      <td>1693</td>\n",
              "      <td>1505</td>\n",
              "      <td>1693</td>\n",
              "      <td>1745</td>\n",
              "      <td>1744</td>\n",
              "      <td>733</td>\n",
              "      <td>30046</td>\n",
              "    </tr>\n",
              "    <tr>\n",
              "      <th>4 - Entre US$ 5 e US$ 10 milhões</th>\n",
              "      <td>774</td>\n",
              "      <td>762</td>\n",
              "      <td>625</td>\n",
              "      <td>709</td>\n",
              "      <td>704</td>\n",
              "      <td>601</td>\n",
              "      <td>643</td>\n",
              "      <td>746</td>\n",
              "      <td>763</td>\n",
              "      <td>926</td>\n",
              "      <td>1067</td>\n",
              "      <td>1254</td>\n",
              "      <td>1168</td>\n",
              "      <td>1463</td>\n",
              "      <td>1668</td>\n",
              "      <td>1708</td>\n",
              "      <td>1708</td>\n",
              "      <td>1676</td>\n",
              "      <td>1449</td>\n",
              "      <td>1297</td>\n",
              "      <td>1348</td>\n",
              "      <td>1455</td>\n",
              "      <td>1444</td>\n",
              "      <td>688</td>\n",
              "      <td>26646</td>\n",
              "    </tr>\n",
              "    <tr>\n",
              "      <th>5 - Entre US$ 1 e US$ 5 milhões</th>\n",
              "      <td>3684</td>\n",
              "      <td>3594</td>\n",
              "      <td>2998</td>\n",
              "      <td>3197</td>\n",
              "      <td>3167</td>\n",
              "      <td>2835</td>\n",
              "      <td>2691</td>\n",
              "      <td>2886</td>\n",
              "      <td>3353</td>\n",
              "      <td>3658</td>\n",
              "      <td>4256</td>\n",
              "      <td>5033</td>\n",
              "      <td>4837</td>\n",
              "      <td>5821</td>\n",
              "      <td>6381</td>\n",
              "      <td>6257</td>\n",
              "      <td>6527</td>\n",
              "      <td>6617</td>\n",
              "      <td>5670</td>\n",
              "      <td>4962</td>\n",
              "      <td>5174</td>\n",
              "      <td>5484</td>\n",
              "      <td>5729</td>\n",
              "      <td>3276</td>\n",
              "      <td>108087</td>\n",
              "    </tr>\n",
              "    <tr>\n",
              "      <th>6 - Até US$ 1 milhão</th>\n",
              "      <td>35170</td>\n",
              "      <td>33937</td>\n",
              "      <td>25573</td>\n",
              "      <td>26381</td>\n",
              "      <td>26864</td>\n",
              "      <td>24008</td>\n",
              "      <td>20895</td>\n",
              "      <td>20564</td>\n",
              "      <td>20369</td>\n",
              "      <td>21840</td>\n",
              "      <td>25379</td>\n",
              "      <td>28532</td>\n",
              "      <td>30133</td>\n",
              "      <td>33416</td>\n",
              "      <td>36348</td>\n",
              "      <td>36757</td>\n",
              "      <td>38274</td>\n",
              "      <td>38610</td>\n",
              "      <td>38040</td>\n",
              "      <td>34309</td>\n",
              "      <td>35626</td>\n",
              "      <td>35860</td>\n",
              "      <td>38162</td>\n",
              "      <td>27618</td>\n",
              "      <td>732665</td>\n",
              "    </tr>\n",
              "    <tr>\n",
              "      <th>1 - Acima de US$ 100 milhões</th>\n",
              "      <td>68</td>\n",
              "      <td>71</td>\n",
              "      <td>62</td>\n",
              "      <td>72</td>\n",
              "      <td>79</td>\n",
              "      <td>66</td>\n",
              "      <td>68</td>\n",
              "      <td>83</td>\n",
              "      <td>90</td>\n",
              "      <td>116</td>\n",
              "      <td>157</td>\n",
              "      <td>232</td>\n",
              "      <td>173</td>\n",
              "      <td>255</td>\n",
              "      <td>315</td>\n",
              "      <td>317</td>\n",
              "      <td>343</td>\n",
              "      <td>316</td>\n",
              "      <td>256</td>\n",
              "      <td>207</td>\n",
              "      <td>219</td>\n",
              "      <td>256</td>\n",
              "      <td>261</td>\n",
              "      <td>61</td>\n",
              "      <td>4143</td>\n",
              "    </tr>\n",
              "    <tr>\n",
              "      <th>Total Geral</th>\n",
              "      <td>40504</td>\n",
              "      <td>39175</td>\n",
              "      <td>29948</td>\n",
              "      <td>31088</td>\n",
              "      <td>31566</td>\n",
              "      <td>28173</td>\n",
              "      <td>24953</td>\n",
              "      <td>25087</td>\n",
              "      <td>25505</td>\n",
              "      <td>27612</td>\n",
              "      <td>32272</td>\n",
              "      <td>36826</td>\n",
              "      <td>37871</td>\n",
              "      <td>42947</td>\n",
              "      <td>47034</td>\n",
              "      <td>47368</td>\n",
              "      <td>49244</td>\n",
              "      <td>49569</td>\n",
              "      <td>47397</td>\n",
              "      <td>42518</td>\n",
              "      <td>44336</td>\n",
              "      <td>45121</td>\n",
              "      <td>47655</td>\n",
              "      <td>32476</td>\n",
              "      <td>906245</td>\n",
              "    </tr>\n",
              "  </tbody>\n",
              "</table>\n",
              "</div>"
            ],
            "text/plain": [
              "                                       0      1   ...     23           24\n",
              "ANO                                  1997   1998  ...   2020  Total Geral\n",
              "2 - Entre US$ 50 e US$ 100 milhões     89     85  ...    100         4658\n",
              "3 - Entre US$ 10 e US$ 50 milhões     719    726  ...    733        30046\n",
              "4 - Entre US$ 5 e US$ 10 milhões      774    762  ...    688        26646\n",
              "5 - Entre US$ 1 e US$ 5 milhões      3684   3594  ...   3276       108087\n",
              "6 - Até US$ 1 milhão                35170  33937  ...  27618       732665\n",
              "1 - Acima de US$ 100 milhões           68     71  ...     61         4143\n",
              "Total Geral                         40504  39175  ...  32476       906245\n",
              "\n",
              "[8 rows x 25 columns]"
            ]
          },
          "metadata": {
            "tags": []
          },
          "execution_count": 297
        }
      ]
    },
    {
      "cell_type": "code",
      "metadata": {
        "id": "Pj_DyFN4c6hm",
        "colab_type": "code",
        "colab": {
          "base_uri": "https://localhost:8080/",
          "height": 459
        },
        "outputId": "9bf749c6-bd08-4a22-fd4f-6408bd57ad16"
      },
      "source": [
        "empresas_importadoras_por_ano.iloc[0]"
      ],
      "execution_count": 298,
      "outputs": [
        {
          "output_type": "execute_result",
          "data": {
            "text/plain": [
              "0            1997\n",
              "1            1998\n",
              "2            1999\n",
              "3            2000\n",
              "4            2001\n",
              "5            2002\n",
              "6            2003\n",
              "7            2004\n",
              "8            2005\n",
              "9            2006\n",
              "10           2007\n",
              "11           2008\n",
              "12           2009\n",
              "13           2010\n",
              "14           2011\n",
              "15           2012\n",
              "16           2013\n",
              "17           2014\n",
              "18           2015\n",
              "19           2016\n",
              "20           2017\n",
              "21           2018\n",
              "22           2019\n",
              "23           2020\n",
              "24    Total Geral\n",
              "Name: ANO, dtype: object"
            ]
          },
          "metadata": {
            "tags": []
          },
          "execution_count": 298
        }
      ]
    },
    {
      "cell_type": "code",
      "metadata": {
        "id": "lFM0udS8-euS",
        "colab_type": "code",
        "colab": {}
      },
      "source": [
        "total_importadores = empresas_importadoras[['ANO', 'Total Geral']]"
      ],
      "execution_count": 0,
      "outputs": []
    },
    {
      "cell_type": "code",
      "metadata": {
        "id": "4eL_q9KC_Mle",
        "colab_type": "code",
        "colab": {
          "base_uri": "https://localhost:8080/",
          "height": 824
        },
        "outputId": "5b542fa0-b27f-48fa-ee9b-44150685db43"
      },
      "source": [
        "total_importadores"
      ],
      "execution_count": 139,
      "outputs": [
        {
          "output_type": "execute_result",
          "data": {
            "text/html": [
              "<div>\n",
              "<style scoped>\n",
              "    .dataframe tbody tr th:only-of-type {\n",
              "        vertical-align: middle;\n",
              "    }\n",
              "\n",
              "    .dataframe tbody tr th {\n",
              "        vertical-align: top;\n",
              "    }\n",
              "\n",
              "    .dataframe thead th {\n",
              "        text-align: right;\n",
              "    }\n",
              "</style>\n",
              "<table border=\"1\" class=\"dataframe\">\n",
              "  <thead>\n",
              "    <tr style=\"text-align: right;\">\n",
              "      <th></th>\n",
              "      <th>ANO</th>\n",
              "      <th>Total Geral</th>\n",
              "    </tr>\n",
              "  </thead>\n",
              "  <tbody>\n",
              "    <tr>\n",
              "      <th>0</th>\n",
              "      <td>1997</td>\n",
              "      <td>40504</td>\n",
              "    </tr>\n",
              "    <tr>\n",
              "      <th>1</th>\n",
              "      <td>1998</td>\n",
              "      <td>39175</td>\n",
              "    </tr>\n",
              "    <tr>\n",
              "      <th>2</th>\n",
              "      <td>1999</td>\n",
              "      <td>29948</td>\n",
              "    </tr>\n",
              "    <tr>\n",
              "      <th>3</th>\n",
              "      <td>2000</td>\n",
              "      <td>31088</td>\n",
              "    </tr>\n",
              "    <tr>\n",
              "      <th>4</th>\n",
              "      <td>2001</td>\n",
              "      <td>31566</td>\n",
              "    </tr>\n",
              "    <tr>\n",
              "      <th>5</th>\n",
              "      <td>2002</td>\n",
              "      <td>28173</td>\n",
              "    </tr>\n",
              "    <tr>\n",
              "      <th>6</th>\n",
              "      <td>2003</td>\n",
              "      <td>24953</td>\n",
              "    </tr>\n",
              "    <tr>\n",
              "      <th>7</th>\n",
              "      <td>2004</td>\n",
              "      <td>25087</td>\n",
              "    </tr>\n",
              "    <tr>\n",
              "      <th>8</th>\n",
              "      <td>2005</td>\n",
              "      <td>25505</td>\n",
              "    </tr>\n",
              "    <tr>\n",
              "      <th>9</th>\n",
              "      <td>2006</td>\n",
              "      <td>27612</td>\n",
              "    </tr>\n",
              "    <tr>\n",
              "      <th>10</th>\n",
              "      <td>2007</td>\n",
              "      <td>32272</td>\n",
              "    </tr>\n",
              "    <tr>\n",
              "      <th>11</th>\n",
              "      <td>2008</td>\n",
              "      <td>36826</td>\n",
              "    </tr>\n",
              "    <tr>\n",
              "      <th>12</th>\n",
              "      <td>2009</td>\n",
              "      <td>37871</td>\n",
              "    </tr>\n",
              "    <tr>\n",
              "      <th>13</th>\n",
              "      <td>2010</td>\n",
              "      <td>42947</td>\n",
              "    </tr>\n",
              "    <tr>\n",
              "      <th>14</th>\n",
              "      <td>2011</td>\n",
              "      <td>47034</td>\n",
              "    </tr>\n",
              "    <tr>\n",
              "      <th>15</th>\n",
              "      <td>2012</td>\n",
              "      <td>47368</td>\n",
              "    </tr>\n",
              "    <tr>\n",
              "      <th>16</th>\n",
              "      <td>2013</td>\n",
              "      <td>49244</td>\n",
              "    </tr>\n",
              "    <tr>\n",
              "      <th>17</th>\n",
              "      <td>2014</td>\n",
              "      <td>49569</td>\n",
              "    </tr>\n",
              "    <tr>\n",
              "      <th>18</th>\n",
              "      <td>2015</td>\n",
              "      <td>47397</td>\n",
              "    </tr>\n",
              "    <tr>\n",
              "      <th>19</th>\n",
              "      <td>2016</td>\n",
              "      <td>42518</td>\n",
              "    </tr>\n",
              "    <tr>\n",
              "      <th>20</th>\n",
              "      <td>2017</td>\n",
              "      <td>44336</td>\n",
              "    </tr>\n",
              "    <tr>\n",
              "      <th>21</th>\n",
              "      <td>2018</td>\n",
              "      <td>45121</td>\n",
              "    </tr>\n",
              "    <tr>\n",
              "      <th>22</th>\n",
              "      <td>2019</td>\n",
              "      <td>47655</td>\n",
              "    </tr>\n",
              "    <tr>\n",
              "      <th>23</th>\n",
              "      <td>2020</td>\n",
              "      <td>32476</td>\n",
              "    </tr>\n",
              "    <tr>\n",
              "      <th>24</th>\n",
              "      <td>Total Geral</td>\n",
              "      <td>906245</td>\n",
              "    </tr>\n",
              "  </tbody>\n",
              "</table>\n",
              "</div>"
            ],
            "text/plain": [
              "            ANO  Total Geral\n",
              "0          1997        40504\n",
              "1          1998        39175\n",
              "2          1999        29948\n",
              "3          2000        31088\n",
              "4          2001        31566\n",
              "5          2002        28173\n",
              "6          2003        24953\n",
              "7          2004        25087\n",
              "8          2005        25505\n",
              "9          2006        27612\n",
              "10         2007        32272\n",
              "11         2008        36826\n",
              "12         2009        37871\n",
              "13         2010        42947\n",
              "14         2011        47034\n",
              "15         2012        47368\n",
              "16         2013        49244\n",
              "17         2014        49569\n",
              "18         2015        47397\n",
              "19         2016        42518\n",
              "20         2017        44336\n",
              "21         2018        45121\n",
              "22         2019        47655\n",
              "23         2020        32476\n",
              "24  Total Geral       906245"
            ]
          },
          "metadata": {
            "tags": []
          },
          "execution_count": 139
        }
      ]
    },
    {
      "cell_type": "code",
      "metadata": {
        "id": "-BUzZulG_byq",
        "colab_type": "code",
        "colab": {
          "base_uri": "https://localhost:8080/",
          "height": 102
        },
        "outputId": "75042439-3cc8-4eee-8416-d245cb2170c8"
      },
      "source": [
        "total_importadores.drop(index=24, inplace=True)"
      ],
      "execution_count": 141,
      "outputs": [
        {
          "output_type": "stream",
          "text": [
            "/usr/local/lib/python3.6/dist-packages/pandas/core/frame.py:3997: SettingWithCopyWarning: \n",
            "A value is trying to be set on a copy of a slice from a DataFrame\n",
            "\n",
            "See the caveats in the documentation: https://pandas.pydata.org/pandas-docs/stable/user_guide/indexing.html#returning-a-view-versus-a-copy\n",
            "  errors=errors,\n"
          ],
          "name": "stderr"
        }
      ]
    },
    {
      "cell_type": "code",
      "metadata": {
        "id": "cx56pz7g_oTn",
        "colab_type": "code",
        "colab": {
          "base_uri": "https://localhost:8080/",
          "height": 793
        },
        "outputId": "4545e74d-661b-4166-8f7e-6a0212b6badc"
      },
      "source": [
        "total_importadores"
      ],
      "execution_count": 142,
      "outputs": [
        {
          "output_type": "execute_result",
          "data": {
            "text/html": [
              "<div>\n",
              "<style scoped>\n",
              "    .dataframe tbody tr th:only-of-type {\n",
              "        vertical-align: middle;\n",
              "    }\n",
              "\n",
              "    .dataframe tbody tr th {\n",
              "        vertical-align: top;\n",
              "    }\n",
              "\n",
              "    .dataframe thead th {\n",
              "        text-align: right;\n",
              "    }\n",
              "</style>\n",
              "<table border=\"1\" class=\"dataframe\">\n",
              "  <thead>\n",
              "    <tr style=\"text-align: right;\">\n",
              "      <th></th>\n",
              "      <th>ANO</th>\n",
              "      <th>Total Geral</th>\n",
              "    </tr>\n",
              "  </thead>\n",
              "  <tbody>\n",
              "    <tr>\n",
              "      <th>0</th>\n",
              "      <td>1997</td>\n",
              "      <td>40504</td>\n",
              "    </tr>\n",
              "    <tr>\n",
              "      <th>1</th>\n",
              "      <td>1998</td>\n",
              "      <td>39175</td>\n",
              "    </tr>\n",
              "    <tr>\n",
              "      <th>2</th>\n",
              "      <td>1999</td>\n",
              "      <td>29948</td>\n",
              "    </tr>\n",
              "    <tr>\n",
              "      <th>3</th>\n",
              "      <td>2000</td>\n",
              "      <td>31088</td>\n",
              "    </tr>\n",
              "    <tr>\n",
              "      <th>4</th>\n",
              "      <td>2001</td>\n",
              "      <td>31566</td>\n",
              "    </tr>\n",
              "    <tr>\n",
              "      <th>5</th>\n",
              "      <td>2002</td>\n",
              "      <td>28173</td>\n",
              "    </tr>\n",
              "    <tr>\n",
              "      <th>6</th>\n",
              "      <td>2003</td>\n",
              "      <td>24953</td>\n",
              "    </tr>\n",
              "    <tr>\n",
              "      <th>7</th>\n",
              "      <td>2004</td>\n",
              "      <td>25087</td>\n",
              "    </tr>\n",
              "    <tr>\n",
              "      <th>8</th>\n",
              "      <td>2005</td>\n",
              "      <td>25505</td>\n",
              "    </tr>\n",
              "    <tr>\n",
              "      <th>9</th>\n",
              "      <td>2006</td>\n",
              "      <td>27612</td>\n",
              "    </tr>\n",
              "    <tr>\n",
              "      <th>10</th>\n",
              "      <td>2007</td>\n",
              "      <td>32272</td>\n",
              "    </tr>\n",
              "    <tr>\n",
              "      <th>11</th>\n",
              "      <td>2008</td>\n",
              "      <td>36826</td>\n",
              "    </tr>\n",
              "    <tr>\n",
              "      <th>12</th>\n",
              "      <td>2009</td>\n",
              "      <td>37871</td>\n",
              "    </tr>\n",
              "    <tr>\n",
              "      <th>13</th>\n",
              "      <td>2010</td>\n",
              "      <td>42947</td>\n",
              "    </tr>\n",
              "    <tr>\n",
              "      <th>14</th>\n",
              "      <td>2011</td>\n",
              "      <td>47034</td>\n",
              "    </tr>\n",
              "    <tr>\n",
              "      <th>15</th>\n",
              "      <td>2012</td>\n",
              "      <td>47368</td>\n",
              "    </tr>\n",
              "    <tr>\n",
              "      <th>16</th>\n",
              "      <td>2013</td>\n",
              "      <td>49244</td>\n",
              "    </tr>\n",
              "    <tr>\n",
              "      <th>17</th>\n",
              "      <td>2014</td>\n",
              "      <td>49569</td>\n",
              "    </tr>\n",
              "    <tr>\n",
              "      <th>18</th>\n",
              "      <td>2015</td>\n",
              "      <td>47397</td>\n",
              "    </tr>\n",
              "    <tr>\n",
              "      <th>19</th>\n",
              "      <td>2016</td>\n",
              "      <td>42518</td>\n",
              "    </tr>\n",
              "    <tr>\n",
              "      <th>20</th>\n",
              "      <td>2017</td>\n",
              "      <td>44336</td>\n",
              "    </tr>\n",
              "    <tr>\n",
              "      <th>21</th>\n",
              "      <td>2018</td>\n",
              "      <td>45121</td>\n",
              "    </tr>\n",
              "    <tr>\n",
              "      <th>22</th>\n",
              "      <td>2019</td>\n",
              "      <td>47655</td>\n",
              "    </tr>\n",
              "    <tr>\n",
              "      <th>23</th>\n",
              "      <td>2020</td>\n",
              "      <td>32476</td>\n",
              "    </tr>\n",
              "  </tbody>\n",
              "</table>\n",
              "</div>"
            ],
            "text/plain": [
              "     ANO  Total Geral\n",
              "0   1997        40504\n",
              "1   1998        39175\n",
              "2   1999        29948\n",
              "3   2000        31088\n",
              "4   2001        31566\n",
              "5   2002        28173\n",
              "6   2003        24953\n",
              "7   2004        25087\n",
              "8   2005        25505\n",
              "9   2006        27612\n",
              "10  2007        32272\n",
              "11  2008        36826\n",
              "12  2009        37871\n",
              "13  2010        42947\n",
              "14  2011        47034\n",
              "15  2012        47368\n",
              "16  2013        49244\n",
              "17  2014        49569\n",
              "18  2015        47397\n",
              "19  2016        42518\n",
              "20  2017        44336\n",
              "21  2018        45121\n",
              "22  2019        47655\n",
              "23  2020        32476"
            ]
          },
          "metadata": {
            "tags": []
          },
          "execution_count": 142
        }
      ]
    },
    {
      "cell_type": "code",
      "metadata": {
        "id": "IXVaGgaw_x0S",
        "colab_type": "code",
        "colab": {
          "base_uri": "https://localhost:8080/",
          "height": 514
        },
        "outputId": "e8a7d305-80f8-4801-d9c3-995ab8b97d7a"
      },
      "source": [
        "plt.figure(figsize=(16,8))\n",
        "sns.lineplot(x='ANO', y='Total Geral', data=total_importadores)"
      ],
      "execution_count": 144,
      "outputs": [
        {
          "output_type": "execute_result",
          "data": {
            "text/plain": [
              "<matplotlib.axes._subplots.AxesSubplot at 0x7fcb4407b470>"
            ]
          },
          "metadata": {
            "tags": []
          },
          "execution_count": 144
        },
        {
          "output_type": "display_data",
          "data": {
            "image/png": "[encoded data removed]",
            "text/plain": [
              "<Figure size 1152x576 with 1 Axes>"
            ]
          },
          "metadata": {
            "tags": [],
            "needs_background": "light"
          }
        }
      ]
    },
    {
      "cell_type": "code",
      "metadata": {
        "id": "VNMkhgj7_6dC",
        "colab_type": "code",
        "colab": {
          "base_uri": "https://localhost:8080/",
          "height": 514
        },
        "outputId": "e9743362-b8d8-4ba5-bbe1-9d722a9cffc5"
      },
      "source": [
        "plt.figure(figsize=(16,8))\n",
        "sns.barplot(x='ANO', y='Total Geral', data=total_importadores, palette='GnBu_d')"
      ],
      "execution_count": 152,
      "outputs": [
        {
          "output_type": "execute_result",
          "data": {
            "text/plain": [
              "<matplotlib.axes._subplots.AxesSubplot at 0x7fcb421d5588>"
            ]
          },
          "metadata": {
            "tags": []
          },
          "execution_count": 152
        },
        {
          "output_type": "display_data",
          "data": {
            "image/png": "[encoded data removed]",
            "text/plain": [
              "<Figure size 1152x576 with 1 Axes>"
            ]
          },
          "metadata": {
            "tags": [],
            "needs_background": "light"
          }
        }
      ]
    },
    {
      "cell_type": "code",
      "metadata": {
        "id": "nELI_w7BAUzz",
        "colab_type": "code",
        "colab": {
          "base_uri": "https://localhost:8080/",
          "height": 119
        },
        "outputId": "72d02b74-8701-4b17-a5c1-80306c4430cb"
      },
      "source": [
        "total_importadores['aumento'] = total_importadores['Total Geral'].diff()"
      ],
      "execution_count": 154,
      "outputs": [
        {
          "output_type": "stream",
          "text": [
            "/usr/local/lib/python3.6/dist-packages/ipykernel_launcher.py:1: SettingWithCopyWarning: \n",
            "A value is trying to be set on a copy of a slice from a DataFrame.\n",
            "Try using .loc[row_indexer,col_indexer] = value instead\n",
            "\n",
            "See the caveats in the documentation: https://pandas.pydata.org/pandas-docs/stable/user_guide/indexing.html#returning-a-view-versus-a-copy\n",
            "  \"\"\"Entry point for launching an IPython kernel.\n"
          ],
          "name": "stderr"
        }
      ]
    },
    {
      "cell_type": "code",
      "metadata": {
        "id": "qlCM84kHBMub",
        "colab_type": "code",
        "colab": {
          "base_uri": "https://localhost:8080/",
          "height": 793
        },
        "outputId": "44b131d4-25a7-4673-b945-4e403612a28b"
      },
      "source": [
        "total_importadores"
      ],
      "execution_count": 155,
      "outputs": [
        {
          "output_type": "execute_result",
          "data": {
            "text/html": [
              "<div>\n",
              "<style scoped>\n",
              "    .dataframe tbody tr th:only-of-type {\n",
              "        vertical-align: middle;\n",
              "    }\n",
              "\n",
              "    .dataframe tbody tr th {\n",
              "        vertical-align: top;\n",
              "    }\n",
              "\n",
              "    .dataframe thead th {\n",
              "        text-align: right;\n",
              "    }\n",
              "</style>\n",
              "<table border=\"1\" class=\"dataframe\">\n",
              "  <thead>\n",
              "    <tr style=\"text-align: right;\">\n",
              "      <th></th>\n",
              "      <th>ANO</th>\n",
              "      <th>Total Geral</th>\n",
              "      <th>aumento</th>\n",
              "    </tr>\n",
              "  </thead>\n",
              "  <tbody>\n",
              "    <tr>\n",
              "      <th>0</th>\n",
              "      <td>1997</td>\n",
              "      <td>40504</td>\n",
              "      <td>NaN</td>\n",
              "    </tr>\n",
              "    <tr>\n",
              "      <th>1</th>\n",
              "      <td>1998</td>\n",
              "      <td>39175</td>\n",
              "      <td>-1329.0</td>\n",
              "    </tr>\n",
              "    <tr>\n",
              "      <th>2</th>\n",
              "      <td>1999</td>\n",
              "      <td>29948</td>\n",
              "      <td>-9227.0</td>\n",
              "    </tr>\n",
              "    <tr>\n",
              "      <th>3</th>\n",
              "      <td>2000</td>\n",
              "      <td>31088</td>\n",
              "      <td>1140.0</td>\n",
              "    </tr>\n",
              "    <tr>\n",
              "      <th>4</th>\n",
              "      <td>2001</td>\n",
              "      <td>31566</td>\n",
              "      <td>478.0</td>\n",
              "    </tr>\n",
              "    <tr>\n",
              "      <th>5</th>\n",
              "      <td>2002</td>\n",
              "      <td>28173</td>\n",
              "      <td>-3393.0</td>\n",
              "    </tr>\n",
              "    <tr>\n",
              "      <th>6</th>\n",
              "      <td>2003</td>\n",
              "      <td>24953</td>\n",
              "      <td>-3220.0</td>\n",
              "    </tr>\n",
              "    <tr>\n",
              "      <th>7</th>\n",
              "      <td>2004</td>\n",
              "      <td>25087</td>\n",
              "      <td>134.0</td>\n",
              "    </tr>\n",
              "    <tr>\n",
              "      <th>8</th>\n",
              "      <td>2005</td>\n",
              "      <td>25505</td>\n",
              "      <td>418.0</td>\n",
              "    </tr>\n",
              "    <tr>\n",
              "      <th>9</th>\n",
              "      <td>2006</td>\n",
              "      <td>27612</td>\n",
              "      <td>2107.0</td>\n",
              "    </tr>\n",
              "    <tr>\n",
              "      <th>10</th>\n",
              "      <td>2007</td>\n",
              "      <td>32272</td>\n",
              "      <td>4660.0</td>\n",
              "    </tr>\n",
              "    <tr>\n",
              "      <th>11</th>\n",
              "      <td>2008</td>\n",
              "      <td>36826</td>\n",
              "      <td>4554.0</td>\n",
              "    </tr>\n",
              "    <tr>\n",
              "      <th>12</th>\n",
              "      <td>2009</td>\n",
              "      <td>37871</td>\n",
              "      <td>1045.0</td>\n",
              "    </tr>\n",
              "    <tr>\n",
              "      <th>13</th>\n",
              "      <td>2010</td>\n",
              "      <td>42947</td>\n",
              "      <td>5076.0</td>\n",
              "    </tr>\n",
              "    <tr>\n",
              "      <th>14</th>\n",
              "      <td>2011</td>\n",
              "      <td>47034</td>\n",
              "      <td>4087.0</td>\n",
              "    </tr>\n",
              "    <tr>\n",
              "      <th>15</th>\n",
              "      <td>2012</td>\n",
              "      <td>47368</td>\n",
              "      <td>334.0</td>\n",
              "    </tr>\n",
              "    <tr>\n",
              "      <th>16</th>\n",
              "      <td>2013</td>\n",
              "      <td>49244</td>\n",
              "      <td>1876.0</td>\n",
              "    </tr>\n",
              "    <tr>\n",
              "      <th>17</th>\n",
              "      <td>2014</td>\n",
              "      <td>49569</td>\n",
              "      <td>325.0</td>\n",
              "    </tr>\n",
              "    <tr>\n",
              "      <th>18</th>\n",
              "      <td>2015</td>\n",
              "      <td>47397</td>\n",
              "      <td>-2172.0</td>\n",
              "    </tr>\n",
              "    <tr>\n",
              "      <th>19</th>\n",
              "      <td>2016</td>\n",
              "      <td>42518</td>\n",
              "      <td>-4879.0</td>\n",
              "    </tr>\n",
              "    <tr>\n",
              "      <th>20</th>\n",
              "      <td>2017</td>\n",
              "      <td>44336</td>\n",
              "      <td>1818.0</td>\n",
              "    </tr>\n",
              "    <tr>\n",
              "      <th>21</th>\n",
              "      <td>2018</td>\n",
              "      <td>45121</td>\n",
              "      <td>785.0</td>\n",
              "    </tr>\n",
              "    <tr>\n",
              "      <th>22</th>\n",
              "      <td>2019</td>\n",
              "      <td>47655</td>\n",
              "      <td>2534.0</td>\n",
              "    </tr>\n",
              "    <tr>\n",
              "      <th>23</th>\n",
              "      <td>2020</td>\n",
              "      <td>32476</td>\n",
              "      <td>-15179.0</td>\n",
              "    </tr>\n",
              "  </tbody>\n",
              "</table>\n",
              "</div>"
            ],
            "text/plain": [
              "     ANO  Total Geral  aumento\n",
              "0   1997        40504      NaN\n",
              "1   1998        39175  -1329.0\n",
              "2   1999        29948  -9227.0\n",
              "3   2000        31088   1140.0\n",
              "4   2001        31566    478.0\n",
              "5   2002        28173  -3393.0\n",
              "6   2003        24953  -3220.0\n",
              "7   2004        25087    134.0\n",
              "8   2005        25505    418.0\n",
              "9   2006        27612   2107.0\n",
              "10  2007        32272   4660.0\n",
              "11  2008        36826   4554.0\n",
              "12  2009        37871   1045.0\n",
              "13  2010        42947   5076.0\n",
              "14  2011        47034   4087.0\n",
              "15  2012        47368    334.0\n",
              "16  2013        49244   1876.0\n",
              "17  2014        49569    325.0\n",
              "18  2015        47397  -2172.0\n",
              "19  2016        42518  -4879.0\n",
              "20  2017        44336   1818.0\n",
              "21  2018        45121    785.0\n",
              "22  2019        47655   2534.0\n",
              "23  2020        32476 -15179.0"
            ]
          },
          "metadata": {
            "tags": []
          },
          "execution_count": 155
        }
      ]
    },
    {
      "cell_type": "code",
      "metadata": {
        "id": "PB16XsbbBW3R",
        "colab_type": "code",
        "colab": {}
      },
      "source": [
        "def plotar(titulo, labelx, labely, x, y, dataset):\n",
        "  sns.set_palette('Accent') #cores\n",
        "  sns.set_style('darkgrid') #estilo das linhas de grade\n",
        "  #atribuir o gráfico a uma variável - tira as informações do objeto da visualização além de facilitar a customização\n",
        "  ax = sns.lineplot(x=x, y=y, data = dataset) #define o tipo do gráfico e das variáveis\n",
        "  ax.figure.set_size_inches(12,6) #configura o tamanho\n",
        "  ax.set_title(titulo,loc='left', fontsize=18) #configura o título\n",
        "  ax.set_xlabel(labelx, fontsize=14) #configura o rótulo do eixo X\n",
        "  ax.set_ylabel(labely, fontsize=14) # configura o rótulo do eixo Y\n",
        "  ax=ax"
      ],
      "execution_count": 0,
      "outputs": []
    },
    {
      "cell_type": "code",
      "metadata": {
        "id": "Mpwty0gRBkdp",
        "colab_type": "code",
        "colab": {
          "base_uri": "https://localhost:8080/",
          "height": 412
        },
        "outputId": "3d6c62d7-ea35-48e5-ce74-1b4d5020ca4e"
      },
      "source": [
        "plotar('Aumento dos Importadores', 'Ano', 'aumento', 'ANO', 'aumento', total_importadores)"
      ],
      "execution_count": 159,
      "outputs": [
        {
          "output_type": "display_data",
          "data": {
            "image/png": "[encoded data removed]",
            "text/plain": [
              "<Figure size 864x432 with 1 Axes>"
            ]
          },
          "metadata": {
            "tags": []
          }
        }
      ]
    },
    {
      "cell_type": "code",
      "metadata": {
        "id": "5dxUdVbCBwhJ",
        "colab_type": "code",
        "colab": {
          "base_uri": "https://localhost:8080/",
          "height": 119
        },
        "outputId": "08218392-0d86-49bb-af0c-fd4bd1981c0e"
      },
      "source": [
        "total_importadores['aceleracao'] = total_importadores['aumento'].diff()"
      ],
      "execution_count": 158,
      "outputs": [
        {
          "output_type": "stream",
          "text": [
            "/usr/local/lib/python3.6/dist-packages/ipykernel_launcher.py:1: SettingWithCopyWarning: \n",
            "A value is trying to be set on a copy of a slice from a DataFrame.\n",
            "Try using .loc[row_indexer,col_indexer] = value instead\n",
            "\n",
            "See the caveats in the documentation: https://pandas.pydata.org/pandas-docs/stable/user_guide/indexing.html#returning-a-view-versus-a-copy\n",
            "  \"\"\"Entry point for launching an IPython kernel.\n"
          ],
          "name": "stderr"
        }
      ]
    },
    {
      "cell_type": "code",
      "metadata": {
        "id": "Aec9Ix7GB6xR",
        "colab_type": "code",
        "colab": {
          "base_uri": "https://localhost:8080/",
          "height": 412
        },
        "outputId": "9046c8c0-ef16-492c-b9cb-ff476a349374"
      },
      "source": [
        "plotar('Aceleração da Quantidade de Importadores', 'Ano', 'Aceleração', 'ANO', 'aceleracao', total_importadores)"
      ],
      "execution_count": 160,
      "outputs": [
        {
          "output_type": "display_data",
          "data": {
            "image/png": "[encoded data removed]",
            "text/plain": [
              "<Figure size 864x432 with 1 Axes>"
            ]
          },
          "metadata": {
            "tags": []
          }
        }
      ]
    },
    {
      "cell_type": "code",
      "metadata": {
        "id": "N3a426Z3CQ6D",
        "colab_type": "code",
        "colab": {
          "base_uri": "https://localhost:8080/",
          "height": 735
        },
        "outputId": "e8004e7a-b97a-4a18-a005-4f8390ad31ae"
      },
      "source": [
        "#juntando os gráficos\n",
        "#criando um grid\n",
        "plt.figure(figsize=(16,12))\n",
        "ax = plt.subplot(3,1,1) #3 linhas, um gráfico por linha\n",
        "ax.set_title('Análise do total de importadores entre 1997-2020', fontsize=18, loc='left')\n",
        "sns.lineplot(x='ANO', y='Total Geral', data = total_importadores)\n",
        "plt.subplot(3,1,2)\n",
        "sns.lineplot(x='ANO', y='aumento', data = total_importadores)\n",
        "plt.subplot(3,1,3)\n",
        "sns.lineplot(x='ANO', y='aceleracao', data = total_importadores)\n",
        "ax=ax"
      ],
      "execution_count": 162,
      "outputs": [
        {
          "output_type": "display_data",
          "data": {
            "image/png": "[encoded data removed]",
            "text/plain": [
              "<Figure size 1152x864 with 3 Axes>"
            ]
          },
          "metadata": {
            "tags": []
          }
        }
      ]
    },
    {
      "cell_type": "code",
      "metadata": {
        "id": "UgpH1ocZCsVN",
        "colab_type": "code",
        "colab": {
          "base_uri": "https://localhost:8080/",
          "height": 204
        },
        "outputId": "35e6ff7c-5e4f-4948-b54e-11bfc761afb0"
      },
      "source": [
        "valor_importado_por_mes = pd.read_csv('/content/IMP_2016_2019_20200516.csv', sep=';')\n",
        "valor_importado_por_mes.head()"
      ],
      "execution_count": 166,
      "outputs": [
        {
          "output_type": "execute_result",
          "data": {
            "text/html": [
              "<div>\n",
              "<style scoped>\n",
              "    .dataframe tbody tr th:only-of-type {\n",
              "        vertical-align: middle;\n",
              "    }\n",
              "\n",
              "    .dataframe tbody tr th {\n",
              "        vertical-align: top;\n",
              "    }\n",
              "\n",
              "    .dataframe thead th {\n",
              "        text-align: right;\n",
              "    }\n",
              "</style>\n",
              "<table border=\"1\" class=\"dataframe\">\n",
              "  <thead>\n",
              "    <tr style=\"text-align: right;\">\n",
              "      <th></th>\n",
              "      <th>Ano</th>\n",
              "      <th>Mês</th>\n",
              "      <th>Valor FOB (US$)</th>\n",
              "    </tr>\n",
              "  </thead>\n",
              "  <tbody>\n",
              "    <tr>\n",
              "      <th>0</th>\n",
              "      <td>2019</td>\n",
              "      <td>7</td>\n",
              "      <td>17759476963</td>\n",
              "    </tr>\n",
              "    <tr>\n",
              "      <th>1</th>\n",
              "      <td>2019</td>\n",
              "      <td>10</td>\n",
              "      <td>17027283951</td>\n",
              "    </tr>\n",
              "    <tr>\n",
              "      <th>2</th>\n",
              "      <td>2019</td>\n",
              "      <td>9</td>\n",
              "      <td>16495171374</td>\n",
              "    </tr>\n",
              "    <tr>\n",
              "      <th>3</th>\n",
              "      <td>2019</td>\n",
              "      <td>1</td>\n",
              "      <td>16387829960</td>\n",
              "    </tr>\n",
              "    <tr>\n",
              "      <th>4</th>\n",
              "      <td>2019</td>\n",
              "      <td>8</td>\n",
              "      <td>15569921736</td>\n",
              "    </tr>\n",
              "  </tbody>\n",
              "</table>\n",
              "</div>"
            ],
            "text/plain": [
              "    Ano  Mês  Valor FOB (US$)\n",
              "0  2019    7      17759476963\n",
              "1  2019   10      17027283951\n",
              "2  2019    9      16495171374\n",
              "3  2019    1      16387829960\n",
              "4  2019    8      15569921736"
            ]
          },
          "metadata": {
            "tags": []
          },
          "execution_count": 166
        }
      ]
    },
    {
      "cell_type": "code",
      "metadata": {
        "id": "xhOUhRlHEYji",
        "colab_type": "code",
        "colab": {}
      },
      "source": [
        "valor_importado_por_mes.sort_values(by=['Ano', 'Mês'], inplace=True)"
      ],
      "execution_count": 0,
      "outputs": []
    },
    {
      "cell_type": "code",
      "metadata": {
        "id": "p5XNYulYE2UK",
        "colab_type": "code",
        "colab": {}
      },
      "source": [
        "valor_importado_por_mes['aumento'] = valor_importado_por_mes['Valor FOB (US$)'].diff()"
      ],
      "execution_count": 0,
      "outputs": []
    },
    {
      "cell_type": "code",
      "metadata": {
        "id": "T4K9zFxOFL8A",
        "colab_type": "code",
        "colab": {}
      },
      "source": [
        "valor_importado_por_mes['aceleracao'] = valor_importado_por_mes['aumento'].diff()"
      ],
      "execution_count": 0,
      "outputs": []
    },
    {
      "cell_type": "code",
      "metadata": {
        "id": "wEE_IpG6FTTB",
        "colab_type": "code",
        "colab": {}
      },
      "source": [
        "def plot_comparacao(x, y1, y2,y3, dataset,titulo):\n",
        "  plt.figure(figsize=(16,12))\n",
        "  ax = plt.subplot(3,1,1) #3 linhas, um gráfico por linha\n",
        "  ax.set_title(titulo, fontsize=18, loc='left')\n",
        "  sns.lineplot(x=x, y=y1, data = dataset)\n",
        "  plt.subplot(3,1,2)\n",
        "  sns.lineplot(x=x, y=y2, data = dataset)\n",
        "  plt.subplot(3,1,3)\n",
        "  sns.lineplot(x=x, y=y3, data = dataset)\n",
        "  ax=ax"
      ],
      "execution_count": 0,
      "outputs": []
    },
    {
      "cell_type": "code",
      "metadata": {
        "id": "6dmyneCkFXMI",
        "colab_type": "code",
        "colab": {
          "base_uri": "https://localhost:8080/",
          "height": 1000
        },
        "outputId": "525f4752-b745-4963-ce05-44c244f6b887"
      },
      "source": [
        "valor_importado_por_mes"
      ],
      "execution_count": 173,
      "outputs": [
        {
          "output_type": "execute_result",
          "data": {
            "text/html": [
              "<div>\n",
              "<style scoped>\n",
              "    .dataframe tbody tr th:only-of-type {\n",
              "        vertical-align: middle;\n",
              "    }\n",
              "\n",
              "    .dataframe tbody tr th {\n",
              "        vertical-align: top;\n",
              "    }\n",
              "\n",
              "    .dataframe thead th {\n",
              "        text-align: right;\n",
              "    }\n",
              "</style>\n",
              "<table border=\"1\" class=\"dataframe\">\n",
              "  <thead>\n",
              "    <tr style=\"text-align: right;\">\n",
              "      <th></th>\n",
              "      <th>Ano</th>\n",
              "      <th>Mês</th>\n",
              "      <th>Valor FOB (US$)</th>\n",
              "      <th>aumento</th>\n",
              "      <th>aceleracao</th>\n",
              "    </tr>\n",
              "  </thead>\n",
              "  <tbody>\n",
              "    <tr>\n",
              "      <th>46</th>\n",
              "      <td>2016</td>\n",
              "      <td>1</td>\n",
              "      <td>10322817689</td>\n",
              "      <td>NaN</td>\n",
              "      <td>NaN</td>\n",
              "    </tr>\n",
              "    <tr>\n",
              "      <th>47</th>\n",
              "      <td>2016</td>\n",
              "      <td>2</td>\n",
              "      <td>10310002857</td>\n",
              "      <td>-1.281483e+07</td>\n",
              "      <td>NaN</td>\n",
              "    </tr>\n",
              "    <tr>\n",
              "      <th>40</th>\n",
              "      <td>2016</td>\n",
              "      <td>3</td>\n",
              "      <td>11560680865</td>\n",
              "      <td>1.250678e+09</td>\n",
              "      <td>1.263493e+09</td>\n",
              "    </tr>\n",
              "    <tr>\n",
              "      <th>45</th>\n",
              "      <td>2016</td>\n",
              "      <td>4</td>\n",
              "      <td>10510187072</td>\n",
              "      <td>-1.050494e+09</td>\n",
              "      <td>-2.301172e+09</td>\n",
              "    </tr>\n",
              "    <tr>\n",
              "      <th>44</th>\n",
              "      <td>2016</td>\n",
              "      <td>5</td>\n",
              "      <td>11138188323</td>\n",
              "      <td>6.280013e+08</td>\n",
              "      <td>1.678495e+09</td>\n",
              "    </tr>\n",
              "    <tr>\n",
              "      <th>37</th>\n",
              "      <td>2016</td>\n",
              "      <td>6</td>\n",
              "      <td>12771343238</td>\n",
              "      <td>1.633155e+09</td>\n",
              "      <td>1.005154e+09</td>\n",
              "    </tr>\n",
              "    <tr>\n",
              "      <th>39</th>\n",
              "      <td>2016</td>\n",
              "      <td>7</td>\n",
              "      <td>11753856964</td>\n",
              "      <td>-1.017486e+09</td>\n",
              "      <td>-2.650641e+09</td>\n",
              "    </tr>\n",
              "    <tr>\n",
              "      <th>36</th>\n",
              "      <td>2016</td>\n",
              "      <td>8</td>\n",
              "      <td>12849081694</td>\n",
              "      <td>1.095225e+09</td>\n",
              "      <td>2.112711e+09</td>\n",
              "    </tr>\n",
              "    <tr>\n",
              "      <th>38</th>\n",
              "      <td>2016</td>\n",
              "      <td>9</td>\n",
              "      <td>11994668595</td>\n",
              "      <td>-8.544131e+08</td>\n",
              "      <td>-1.949638e+09</td>\n",
              "    </tr>\n",
              "    <tr>\n",
              "      <th>43</th>\n",
              "      <td>2016</td>\n",
              "      <td>10</td>\n",
              "      <td>11379593538</td>\n",
              "      <td>-6.150751e+08</td>\n",
              "      <td>2.393380e+08</td>\n",
              "    </tr>\n",
              "    <tr>\n",
              "      <th>42</th>\n",
              "      <td>2016</td>\n",
              "      <td>11</td>\n",
              "      <td>11466276521</td>\n",
              "      <td>8.668298e+07</td>\n",
              "      <td>7.017580e+08</td>\n",
              "    </tr>\n",
              "    <tr>\n",
              "      <th>41</th>\n",
              "      <td>2016</td>\n",
              "      <td>12</td>\n",
              "      <td>11529133620</td>\n",
              "      <td>6.285710e+07</td>\n",
              "      <td>-2.382588e+07</td>\n",
              "    </tr>\n",
              "    <tr>\n",
              "      <th>32</th>\n",
              "      <td>2017</td>\n",
              "      <td>1</td>\n",
              "      <td>12197816186</td>\n",
              "      <td>6.686826e+08</td>\n",
              "      <td>6.058255e+08</td>\n",
              "    </tr>\n",
              "    <tr>\n",
              "      <th>34</th>\n",
              "      <td>2017</td>\n",
              "      <td>2</td>\n",
              "      <td>10913271432</td>\n",
              "      <td>-1.284545e+09</td>\n",
              "      <td>-1.953227e+09</td>\n",
              "    </tr>\n",
              "    <tr>\n",
              "      <th>28</th>\n",
              "      <td>2017</td>\n",
              "      <td>3</td>\n",
              "      <td>12937672447</td>\n",
              "      <td>2.024401e+09</td>\n",
              "      <td>3.308946e+09</td>\n",
              "    </tr>\n",
              "    <tr>\n",
              "      <th>35</th>\n",
              "      <td>2017</td>\n",
              "      <td>4</td>\n",
              "      <td>10716655171</td>\n",
              "      <td>-2.221017e+09</td>\n",
              "      <td>-4.245418e+09</td>\n",
              "    </tr>\n",
              "    <tr>\n",
              "      <th>33</th>\n",
              "      <td>2017</td>\n",
              "      <td>5</td>\n",
              "      <td>12129014411</td>\n",
              "      <td>1.412359e+09</td>\n",
              "      <td>3.633377e+09</td>\n",
              "    </tr>\n",
              "    <tr>\n",
              "      <th>30</th>\n",
              "      <td>2017</td>\n",
              "      <td>6</td>\n",
              "      <td>12595233519</td>\n",
              "      <td>4.662191e+08</td>\n",
              "      <td>-9.461401e+08</td>\n",
              "    </tr>\n",
              "    <tr>\n",
              "      <th>31</th>\n",
              "      <td>2017</td>\n",
              "      <td>7</td>\n",
              "      <td>12473405397</td>\n",
              "      <td>-1.218281e+08</td>\n",
              "      <td>-5.880472e+08</td>\n",
              "    </tr>\n",
              "    <tr>\n",
              "      <th>24</th>\n",
              "      <td>2017</td>\n",
              "      <td>8</td>\n",
              "      <td>13879233351</td>\n",
              "      <td>1.405828e+09</td>\n",
              "      <td>1.527656e+09</td>\n",
              "    </tr>\n",
              "    <tr>\n",
              "      <th>26</th>\n",
              "      <td>2017</td>\n",
              "      <td>9</td>\n",
              "      <td>13488327247</td>\n",
              "      <td>-3.909061e+08</td>\n",
              "      <td>-1.796734e+09</td>\n",
              "    </tr>\n",
              "    <tr>\n",
              "      <th>25</th>\n",
              "      <td>2017</td>\n",
              "      <td>10</td>\n",
              "      <td>13678843512</td>\n",
              "      <td>1.905163e+08</td>\n",
              "      <td>5.814224e+08</td>\n",
              "    </tr>\n",
              "    <tr>\n",
              "      <th>27</th>\n",
              "      <td>2017</td>\n",
              "      <td>11</td>\n",
              "      <td>13142506475</td>\n",
              "      <td>-5.363370e+08</td>\n",
              "      <td>-7.268533e+08</td>\n",
              "    </tr>\n",
              "    <tr>\n",
              "      <th>29</th>\n",
              "      <td>2017</td>\n",
              "      <td>12</td>\n",
              "      <td>12597515273</td>\n",
              "      <td>-5.449912e+08</td>\n",
              "      <td>-8.654165e+06</td>\n",
              "    </tr>\n",
              "    <tr>\n",
              "      <th>18</th>\n",
              "      <td>2018</td>\n",
              "      <td>1</td>\n",
              "      <td>14202766580</td>\n",
              "      <td>1.605251e+09</td>\n",
              "      <td>2.150243e+09</td>\n",
              "    </tr>\n",
              "    <tr>\n",
              "      <th>16</th>\n",
              "      <td>2018</td>\n",
              "      <td>2</td>\n",
              "      <td>14411341031</td>\n",
              "      <td>2.085745e+08</td>\n",
              "      <td>-1.396677e+09</td>\n",
              "    </tr>\n",
              "    <tr>\n",
              "      <th>20</th>\n",
              "      <td>2018</td>\n",
              "      <td>3</td>\n",
              "      <td>13808687820</td>\n",
              "      <td>-6.026532e+08</td>\n",
              "      <td>-8.112277e+08</td>\n",
              "    </tr>\n",
              "    <tr>\n",
              "      <th>21</th>\n",
              "      <td>2018</td>\n",
              "      <td>4</td>\n",
              "      <td>13792173075</td>\n",
              "      <td>-1.651474e+07</td>\n",
              "      <td>5.861385e+08</td>\n",
              "    </tr>\n",
              "    <tr>\n",
              "      <th>22</th>\n",
              "      <td>2018</td>\n",
              "      <td>5</td>\n",
              "      <td>13260789020</td>\n",
              "      <td>-5.313841e+08</td>\n",
              "      <td>-5.148693e+08</td>\n",
              "    </tr>\n",
              "    <tr>\n",
              "      <th>17</th>\n",
              "      <td>2018</td>\n",
              "      <td>6</td>\n",
              "      <td>14324850972</td>\n",
              "      <td>1.064062e+09</td>\n",
              "      <td>1.595446e+09</td>\n",
              "    </tr>\n",
              "    <tr>\n",
              "      <th>13</th>\n",
              "      <td>2018</td>\n",
              "      <td>7</td>\n",
              "      <td>18651023993</td>\n",
              "      <td>4.326173e+09</td>\n",
              "      <td>3.262111e+09</td>\n",
              "    </tr>\n",
              "    <tr>\n",
              "      <th>12</th>\n",
              "      <td>2018</td>\n",
              "      <td>8</td>\n",
              "      <td>18778067740</td>\n",
              "      <td>1.270437e+08</td>\n",
              "      <td>-4.199129e+09</td>\n",
              "    </tr>\n",
              "    <tr>\n",
              "      <th>19</th>\n",
              "      <td>2018</td>\n",
              "      <td>9</td>\n",
              "      <td>14115911776</td>\n",
              "      <td>-4.662156e+09</td>\n",
              "      <td>-4.789200e+09</td>\n",
              "    </tr>\n",
              "    <tr>\n",
              "      <th>15</th>\n",
              "      <td>2018</td>\n",
              "      <td>10</td>\n",
              "      <td>16105955810</td>\n",
              "      <td>1.990044e+09</td>\n",
              "      <td>6.652200e+09</td>\n",
              "    </tr>\n",
              "    <tr>\n",
              "      <th>14</th>\n",
              "      <td>2018</td>\n",
              "      <td>11</td>\n",
              "      <td>16862252082</td>\n",
              "      <td>7.562963e+08</td>\n",
              "      <td>-1.233748e+09</td>\n",
              "    </tr>\n",
              "    <tr>\n",
              "      <th>23</th>\n",
              "      <td>2018</td>\n",
              "      <td>12</td>\n",
              "      <td>12916748963</td>\n",
              "      <td>-3.945503e+09</td>\n",
              "      <td>-4.701799e+09</td>\n",
              "    </tr>\n",
              "    <tr>\n",
              "      <th>3</th>\n",
              "      <td>2019</td>\n",
              "      <td>1</td>\n",
              "      <td>16387829960</td>\n",
              "      <td>3.471081e+09</td>\n",
              "      <td>7.416584e+09</td>\n",
              "    </tr>\n",
              "    <tr>\n",
              "      <th>10</th>\n",
              "      <td>2019</td>\n",
              "      <td>2</td>\n",
              "      <td>12621762837</td>\n",
              "      <td>-3.766067e+09</td>\n",
              "      <td>-7.237148e+09</td>\n",
              "    </tr>\n",
              "    <tr>\n",
              "      <th>8</th>\n",
              "      <td>2019</td>\n",
              "      <td>3</td>\n",
              "      <td>13132998803</td>\n",
              "      <td>5.112360e+08</td>\n",
              "      <td>4.277303e+09</td>\n",
              "    </tr>\n",
              "    <tr>\n",
              "      <th>7</th>\n",
              "      <td>2019</td>\n",
              "      <td>4</td>\n",
              "      <td>13628618723</td>\n",
              "      <td>4.956199e+08</td>\n",
              "      <td>-1.561605e+07</td>\n",
              "    </tr>\n",
              "    <tr>\n",
              "      <th>5</th>\n",
              "      <td>2019</td>\n",
              "      <td>5</td>\n",
              "      <td>14968051867</td>\n",
              "      <td>1.339433e+09</td>\n",
              "      <td>8.438132e+08</td>\n",
              "    </tr>\n",
              "    <tr>\n",
              "      <th>9</th>\n",
              "      <td>2019</td>\n",
              "      <td>6</td>\n",
              "      <td>13028629358</td>\n",
              "      <td>-1.939423e+09</td>\n",
              "      <td>-3.278856e+09</td>\n",
              "    </tr>\n",
              "    <tr>\n",
              "      <th>0</th>\n",
              "      <td>2019</td>\n",
              "      <td>7</td>\n",
              "      <td>17759476963</td>\n",
              "      <td>4.730848e+09</td>\n",
              "      <td>6.670270e+09</td>\n",
              "    </tr>\n",
              "    <tr>\n",
              "      <th>4</th>\n",
              "      <td>2019</td>\n",
              "      <td>8</td>\n",
              "      <td>15569921736</td>\n",
              "      <td>-2.189555e+09</td>\n",
              "      <td>-6.920403e+09</td>\n",
              "    </tr>\n",
              "    <tr>\n",
              "      <th>2</th>\n",
              "      <td>2019</td>\n",
              "      <td>9</td>\n",
              "      <td>16495171374</td>\n",
              "      <td>9.252496e+08</td>\n",
              "      <td>3.114805e+09</td>\n",
              "    </tr>\n",
              "    <tr>\n",
              "      <th>1</th>\n",
              "      <td>2019</td>\n",
              "      <td>10</td>\n",
              "      <td>17027283951</td>\n",
              "      <td>5.321126e+08</td>\n",
              "      <td>-3.931371e+08</td>\n",
              "    </tr>\n",
              "    <tr>\n",
              "      <th>6</th>\n",
              "      <td>2019</td>\n",
              "      <td>11</td>\n",
              "      <td>14172102789</td>\n",
              "      <td>-2.855181e+09</td>\n",
              "      <td>-3.387294e+09</td>\n",
              "    </tr>\n",
              "    <tr>\n",
              "      <th>11</th>\n",
              "      <td>2019</td>\n",
              "      <td>12</td>\n",
              "      <td>12556086388</td>\n",
              "      <td>-1.616016e+09</td>\n",
              "      <td>1.239165e+09</td>\n",
              "    </tr>\n",
              "  </tbody>\n",
              "</table>\n",
              "</div>"
            ],
            "text/plain": [
              "     Ano  Mês  Valor FOB (US$)       aumento    aceleracao\n",
              "46  2016    1      10322817689           NaN           NaN\n",
              "47  2016    2      10310002857 -1.281483e+07           NaN\n",
              "40  2016    3      11560680865  1.250678e+09  1.263493e+09\n",
              "45  2016    4      10510187072 -1.050494e+09 -2.301172e+09\n",
              "44  2016    5      11138188323  6.280013e+08  1.678495e+09\n",
              "37  2016    6      12771343238  1.633155e+09  1.005154e+09\n",
              "39  2016    7      11753856964 -1.017486e+09 -2.650641e+09\n",
              "36  2016    8      12849081694  1.095225e+09  2.112711e+09\n",
              "38  2016    9      11994668595 -8.544131e+08 -1.949638e+09\n",
              "43  2016   10      11379593538 -6.150751e+08  2.393380e+08\n",
              "42  2016   11      11466276521  8.668298e+07  7.017580e+08\n",
              "41  2016   12      11529133620  6.285710e+07 -2.382588e+07\n",
              "32  2017    1      12197816186  6.686826e+08  6.058255e+08\n",
              "34  2017    2      10913271432 -1.284545e+09 -1.953227e+09\n",
              "28  2017    3      12937672447  2.024401e+09  3.308946e+09\n",
              "35  2017    4      10716655171 -2.221017e+09 -4.245418e+09\n",
              "33  2017    5      12129014411  1.412359e+09  3.633377e+09\n",
              "30  2017    6      12595233519  4.662191e+08 -9.461401e+08\n",
              "31  2017    7      12473405397 -1.218281e+08 -5.880472e+08\n",
              "24  2017    8      13879233351  1.405828e+09  1.527656e+09\n",
              "26  2017    9      13488327247 -3.909061e+08 -1.796734e+09\n",
              "25  2017   10      13678843512  1.905163e+08  5.814224e+08\n",
              "27  2017   11      13142506475 -5.363370e+08 -7.268533e+08\n",
              "29  2017   12      12597515273 -5.449912e+08 -8.654165e+06\n",
              "18  2018    1      14202766580  1.605251e+09  2.150243e+09\n",
              "16  2018    2      14411341031  2.085745e+08 -1.396677e+09\n",
              "20  2018    3      13808687820 -6.026532e+08 -8.112277e+08\n",
              "21  2018    4      13792173075 -1.651474e+07  5.861385e+08\n",
              "22  2018    5      13260789020 -5.313841e+08 -5.148693e+08\n",
              "17  2018    6      14324850972  1.064062e+09  1.595446e+09\n",
              "13  2018    7      18651023993  4.326173e+09  3.262111e+09\n",
              "12  2018    8      18778067740  1.270437e+08 -4.199129e+09\n",
              "19  2018    9      14115911776 -4.662156e+09 -4.789200e+09\n",
              "15  2018   10      16105955810  1.990044e+09  6.652200e+09\n",
              "14  2018   11      16862252082  7.562963e+08 -1.233748e+09\n",
              "23  2018   12      12916748963 -3.945503e+09 -4.701799e+09\n",
              "3   2019    1      16387829960  3.471081e+09  7.416584e+09\n",
              "10  2019    2      12621762837 -3.766067e+09 -7.237148e+09\n",
              "8   2019    3      13132998803  5.112360e+08  4.277303e+09\n",
              "7   2019    4      13628618723  4.956199e+08 -1.561605e+07\n",
              "5   2019    5      14968051867  1.339433e+09  8.438132e+08\n",
              "9   2019    6      13028629358 -1.939423e+09 -3.278856e+09\n",
              "0   2019    7      17759476963  4.730848e+09  6.670270e+09\n",
              "4   2019    8      15569921736 -2.189555e+09 -6.920403e+09\n",
              "2   2019    9      16495171374  9.252496e+08  3.114805e+09\n",
              "1   2019   10      17027283951  5.321126e+08 -3.931371e+08\n",
              "6   2019   11      14172102789 -2.855181e+09 -3.387294e+09\n",
              "11  2019   12      12556086388 -1.616016e+09  1.239165e+09"
            ]
          },
          "metadata": {
            "tags": []
          },
          "execution_count": 173
        }
      ]
    },
    {
      "cell_type": "code",
      "metadata": {
        "id": "2_dmyd8vFl8w",
        "colab_type": "code",
        "colab": {
          "base_uri": "https://localhost:8080/",
          "height": 735
        },
        "outputId": "14df2b9c-7ddb-4f09-f15d-b786ea8b2fe5"
      },
      "source": [
        "plot_comparacao('Ano', 'Valor FOB (US$)', 'aumento', 'aceleracao', valor_importado_por_mes, 'Análise valor mensal de importações')"
      ],
      "execution_count": 175,
      "outputs": [
        {
          "output_type": "display_data",
          "data": {
            "image/png": "[encoded data removed]",
            "text/plain": [
              "<Figure size 1152x864 with 3 Axes>"
            ]
          },
          "metadata": {
            "tags": []
          }
        }
      ]
    },
    {
      "cell_type": "code",
      "metadata": {
        "id": "ybLJuU8KF-dN",
        "colab_type": "code",
        "colab": {}
      },
      "source": [
        "valor_importado_por_ano = valor_importado_por_mes.groupby('Ano').sum()['Valor FOB (US$)'].to_frame().reset_index()"
      ],
      "execution_count": 0,
      "outputs": []
    },
    {
      "cell_type": "code",
      "metadata": {
        "id": "rkLeXQpLGjFg",
        "colab_type": "code",
        "colab": {
          "base_uri": "https://localhost:8080/",
          "height": 173
        },
        "outputId": "95c0c00a-3cae-41cc-e15d-7aedc047a2ca"
      },
      "source": [
        "valor_importado_por_ano"
      ],
      "execution_count": 182,
      "outputs": [
        {
          "output_type": "execute_result",
          "data": {
            "text/html": [
              "<div>\n",
              "<style scoped>\n",
              "    .dataframe tbody tr th:only-of-type {\n",
              "        vertical-align: middle;\n",
              "    }\n",
              "\n",
              "    .dataframe tbody tr th {\n",
              "        vertical-align: top;\n",
              "    }\n",
              "\n",
              "    .dataframe thead th {\n",
              "        text-align: right;\n",
              "    }\n",
              "</style>\n",
              "<table border=\"1\" class=\"dataframe\">\n",
              "  <thead>\n",
              "    <tr style=\"text-align: right;\">\n",
              "      <th></th>\n",
              "      <th>Ano</th>\n",
              "      <th>Valor FOB (US$)</th>\n",
              "    </tr>\n",
              "  </thead>\n",
              "  <tbody>\n",
              "    <tr>\n",
              "      <th>0</th>\n",
              "      <td>2016</td>\n",
              "      <td>137585830976</td>\n",
              "    </tr>\n",
              "    <tr>\n",
              "      <th>1</th>\n",
              "      <td>2017</td>\n",
              "      <td>150749494421</td>\n",
              "    </tr>\n",
              "    <tr>\n",
              "      <th>2</th>\n",
              "      <td>2018</td>\n",
              "      <td>181230568862</td>\n",
              "    </tr>\n",
              "    <tr>\n",
              "      <th>3</th>\n",
              "      <td>2019</td>\n",
              "      <td>177347934749</td>\n",
              "    </tr>\n",
              "  </tbody>\n",
              "</table>\n",
              "</div>"
            ],
            "text/plain": [
              "    Ano  Valor FOB (US$)\n",
              "0  2016     137585830976\n",
              "1  2017     150749494421\n",
              "2  2018     181230568862\n",
              "3  2019     177347934749"
            ]
          },
          "metadata": {
            "tags": []
          },
          "execution_count": 182
        }
      ]
    },
    {
      "cell_type": "code",
      "metadata": {
        "id": "G8muZLqWGnXK",
        "colab_type": "code",
        "colab": {}
      },
      "source": [
        "valor_importado_por_ano['aumento'] = valor_importado_por_ano['Valor FOB (US$)'].diff()"
      ],
      "execution_count": 0,
      "outputs": []
    },
    {
      "cell_type": "code",
      "metadata": {
        "id": "IxfVJiZ-G6Hg",
        "colab_type": "code",
        "colab": {}
      },
      "source": [
        "valor_importado_por_ano['aceleracao'] = valor_importado_por_ano['Valor FOB (US$)'].diff()"
      ],
      "execution_count": 0,
      "outputs": []
    },
    {
      "cell_type": "code",
      "metadata": {
        "id": "aVyPieUaHAc5",
        "colab_type": "code",
        "colab": {
          "base_uri": "https://localhost:8080/",
          "height": 173
        },
        "outputId": "409b30bd-b455-4f4e-e8d7-3d64f872e717"
      },
      "source": [
        "valor_importado_por_ano"
      ],
      "execution_count": 185,
      "outputs": [
        {
          "output_type": "execute_result",
          "data": {
            "text/html": [
              "<div>\n",
              "<style scoped>\n",
              "    .dataframe tbody tr th:only-of-type {\n",
              "        vertical-align: middle;\n",
              "    }\n",
              "\n",
              "    .dataframe tbody tr th {\n",
              "        vertical-align: top;\n",
              "    }\n",
              "\n",
              "    .dataframe thead th {\n",
              "        text-align: right;\n",
              "    }\n",
              "</style>\n",
              "<table border=\"1\" class=\"dataframe\">\n",
              "  <thead>\n",
              "    <tr style=\"text-align: right;\">\n",
              "      <th></th>\n",
              "      <th>Ano</th>\n",
              "      <th>Valor FOB (US$)</th>\n",
              "      <th>aumento</th>\n",
              "      <th>aceleracao</th>\n",
              "    </tr>\n",
              "  </thead>\n",
              "  <tbody>\n",
              "    <tr>\n",
              "      <th>0</th>\n",
              "      <td>2016</td>\n",
              "      <td>137585830976</td>\n",
              "      <td>NaN</td>\n",
              "      <td>NaN</td>\n",
              "    </tr>\n",
              "    <tr>\n",
              "      <th>1</th>\n",
              "      <td>2017</td>\n",
              "      <td>150749494421</td>\n",
              "      <td>1.316366e+10</td>\n",
              "      <td>1.316366e+10</td>\n",
              "    </tr>\n",
              "    <tr>\n",
              "      <th>2</th>\n",
              "      <td>2018</td>\n",
              "      <td>181230568862</td>\n",
              "      <td>3.048107e+10</td>\n",
              "      <td>3.048107e+10</td>\n",
              "    </tr>\n",
              "    <tr>\n",
              "      <th>3</th>\n",
              "      <td>2019</td>\n",
              "      <td>177347934749</td>\n",
              "      <td>-3.882634e+09</td>\n",
              "      <td>-3.882634e+09</td>\n",
              "    </tr>\n",
              "  </tbody>\n",
              "</table>\n",
              "</div>"
            ],
            "text/plain": [
              "    Ano  Valor FOB (US$)       aumento    aceleracao\n",
              "0  2016     137585830976           NaN           NaN\n",
              "1  2017     150749494421  1.316366e+10  1.316366e+10\n",
              "2  2018     181230568862  3.048107e+10  3.048107e+10\n",
              "3  2019     177347934749 -3.882634e+09 -3.882634e+09"
            ]
          },
          "metadata": {
            "tags": []
          },
          "execution_count": 185
        }
      ]
    },
    {
      "cell_type": "code",
      "metadata": {
        "id": "z63sG31vHBcg",
        "colab_type": "code",
        "colab": {
          "base_uri": "https://localhost:8080/",
          "height": 735
        },
        "outputId": "70532de6-ef53-4ff2-9f09-104750e73343"
      },
      "source": [
        "plot_comparacao('Ano', 'Valor FOB (US$)', 'aumento', 'aceleracao', valor_importado_por_ano, 'Análise total importado por ano entre 2016-2019')"
      ],
      "execution_count": 186,
      "outputs": [
        {
          "output_type": "display_data",
          "data": {
            "image/png": "[encoded data removed]",
            "text/plain": [
              "<Figure size 1152x864 with 3 Axes>"
            ]
          },
          "metadata": {
            "tags": []
          }
        }
      ]
    },
    {
      "cell_type": "code",
      "metadata": {
        "id": "srLSy1DhHP3E",
        "colab_type": "code",
        "colab": {
          "base_uri": "https://localhost:8080/",
          "height": 390
        },
        "outputId": "63d37f9f-9c10-463f-a6d1-3c08860b07ba"
      },
      "source": [
        "pd.read_csv('/content/IMP_2010_2020_20200516.csv', sep=';')"
      ],
      "execution_count": 187,
      "outputs": [
        {
          "output_type": "execute_result",
          "data": {
            "text/html": [
              "<div>\n",
              "<style scoped>\n",
              "    .dataframe tbody tr th:only-of-type {\n",
              "        vertical-align: middle;\n",
              "    }\n",
              "\n",
              "    .dataframe tbody tr th {\n",
              "        vertical-align: top;\n",
              "    }\n",
              "\n",
              "    .dataframe thead th {\n",
              "        text-align: right;\n",
              "    }\n",
              "</style>\n",
              "<table border=\"1\" class=\"dataframe\">\n",
              "  <thead>\n",
              "    <tr style=\"text-align: right;\">\n",
              "      <th></th>\n",
              "      <th>Ano</th>\n",
              "      <th>Valor FOB (US$)</th>\n",
              "    </tr>\n",
              "  </thead>\n",
              "  <tbody>\n",
              "    <tr>\n",
              "      <th>0</th>\n",
              "      <td>2020</td>\n",
              "      <td>55560630668</td>\n",
              "    </tr>\n",
              "    <tr>\n",
              "      <th>1</th>\n",
              "      <td>2019</td>\n",
              "      <td>177347934749</td>\n",
              "    </tr>\n",
              "    <tr>\n",
              "      <th>2</th>\n",
              "      <td>2018</td>\n",
              "      <td>181230568862</td>\n",
              "    </tr>\n",
              "    <tr>\n",
              "      <th>3</th>\n",
              "      <td>2017</td>\n",
              "      <td>150749494421</td>\n",
              "    </tr>\n",
              "    <tr>\n",
              "      <th>4</th>\n",
              "      <td>2016</td>\n",
              "      <td>137585830976</td>\n",
              "    </tr>\n",
              "    <tr>\n",
              "      <th>5</th>\n",
              "      <td>2015</td>\n",
              "      <td>171458999759</td>\n",
              "    </tr>\n",
              "    <tr>\n",
              "      <th>6</th>\n",
              "      <td>2014</td>\n",
              "      <td>229127843314</td>\n",
              "    </tr>\n",
              "    <tr>\n",
              "      <th>7</th>\n",
              "      <td>2013</td>\n",
              "      <td>239681231635</td>\n",
              "    </tr>\n",
              "    <tr>\n",
              "      <th>8</th>\n",
              "      <td>2012</td>\n",
              "      <td>223366721023</td>\n",
              "    </tr>\n",
              "    <tr>\n",
              "      <th>9</th>\n",
              "      <td>2011</td>\n",
              "      <td>226244222128</td>\n",
              "    </tr>\n",
              "    <tr>\n",
              "      <th>10</th>\n",
              "      <td>2010</td>\n",
              "      <td>181774969378</td>\n",
              "    </tr>\n",
              "  </tbody>\n",
              "</table>\n",
              "</div>"
            ],
            "text/plain": [
              "     Ano  Valor FOB (US$)\n",
              "0   2020      55560630668\n",
              "1   2019     177347934749\n",
              "2   2018     181230568862\n",
              "3   2017     150749494421\n",
              "4   2016     137585830976\n",
              "5   2015     171458999759\n",
              "6   2014     229127843314\n",
              "7   2013     239681231635\n",
              "8   2012     223366721023\n",
              "9   2011     226244222128\n",
              "10  2010     181774969378"
            ]
          },
          "metadata": {
            "tags": []
          },
          "execution_count": 187
        }
      ]
    },
    {
      "cell_type": "code",
      "metadata": {
        "id": "UWhEMifhH6mA",
        "colab_type": "code",
        "colab": {}
      },
      "source": [
        "impo_2010_2020_valor = pd.read_csv('/content/IMP_2010_2020_20200516.csv', sep=';')"
      ],
      "execution_count": 0,
      "outputs": []
    },
    {
      "cell_type": "code",
      "metadata": {
        "id": "AkEAx5eRJtc6",
        "colab_type": "code",
        "colab": {
          "base_uri": "https://localhost:8080/",
          "height": 390
        },
        "outputId": "0938d4a4-b535-4a67-d4d5-521e0af67f9e"
      },
      "source": [
        "impo_2010_2020_valor.reindex(index=impo_2010_2020_valor.index[::-1])"
      ],
      "execution_count": 212,
      "outputs": [
        {
          "output_type": "execute_result",
          "data": {
            "text/html": [
              "<div>\n",
              "<style scoped>\n",
              "    .dataframe tbody tr th:only-of-type {\n",
              "        vertical-align: middle;\n",
              "    }\n",
              "\n",
              "    .dataframe tbody tr th {\n",
              "        vertical-align: top;\n",
              "    }\n",
              "\n",
              "    .dataframe thead th {\n",
              "        text-align: right;\n",
              "    }\n",
              "</style>\n",
              "<table border=\"1\" class=\"dataframe\">\n",
              "  <thead>\n",
              "    <tr style=\"text-align: right;\">\n",
              "      <th></th>\n",
              "      <th>Ano</th>\n",
              "      <th>Valor FOB (US$)</th>\n",
              "    </tr>\n",
              "  </thead>\n",
              "  <tbody>\n",
              "    <tr>\n",
              "      <th>10</th>\n",
              "      <td>2010</td>\n",
              "      <td>181774969378</td>\n",
              "    </tr>\n",
              "    <tr>\n",
              "      <th>9</th>\n",
              "      <td>2011</td>\n",
              "      <td>226244222128</td>\n",
              "    </tr>\n",
              "    <tr>\n",
              "      <th>8</th>\n",
              "      <td>2012</td>\n",
              "      <td>223366721023</td>\n",
              "    </tr>\n",
              "    <tr>\n",
              "      <th>7</th>\n",
              "      <td>2013</td>\n",
              "      <td>239681231635</td>\n",
              "    </tr>\n",
              "    <tr>\n",
              "      <th>6</th>\n",
              "      <td>2014</td>\n",
              "      <td>229127843314</td>\n",
              "    </tr>\n",
              "    <tr>\n",
              "      <th>5</th>\n",
              "      <td>2015</td>\n",
              "      <td>171458999759</td>\n",
              "    </tr>\n",
              "    <tr>\n",
              "      <th>4</th>\n",
              "      <td>2016</td>\n",
              "      <td>137585830976</td>\n",
              "    </tr>\n",
              "    <tr>\n",
              "      <th>3</th>\n",
              "      <td>2017</td>\n",
              "      <td>150749494421</td>\n",
              "    </tr>\n",
              "    <tr>\n",
              "      <th>2</th>\n",
              "      <td>2018</td>\n",
              "      <td>181230568862</td>\n",
              "    </tr>\n",
              "    <tr>\n",
              "      <th>1</th>\n",
              "      <td>2019</td>\n",
              "      <td>177347934749</td>\n",
              "    </tr>\n",
              "    <tr>\n",
              "      <th>0</th>\n",
              "      <td>2020</td>\n",
              "      <td>55560630668</td>\n",
              "    </tr>\n",
              "  </tbody>\n",
              "</table>\n",
              "</div>"
            ],
            "text/plain": [
              "     Ano  Valor FOB (US$)\n",
              "10  2010     181774969378\n",
              "9   2011     226244222128\n",
              "8   2012     223366721023\n",
              "7   2013     239681231635\n",
              "6   2014     229127843314\n",
              "5   2015     171458999759\n",
              "4   2016     137585830976\n",
              "3   2017     150749494421\n",
              "2   2018     181230568862\n",
              "1   2019     177347934749\n",
              "0   2020      55560630668"
            ]
          },
          "metadata": {
            "tags": []
          },
          "execution_count": 212
        }
      ]
    },
    {
      "cell_type": "code",
      "metadata": {
        "id": "KvIz4nXhKdi3",
        "colab_type": "code",
        "colab": {
          "base_uri": "https://localhost:8080/",
          "height": 34
        },
        "outputId": "8b6627fc-8f5a-4fc2-d1ef-36e16671a4ab"
      },
      "source": [
        "impo_2010_2020_valor.loc()"
      ],
      "execution_count": 209,
      "outputs": [
        {
          "output_type": "execute_result",
          "data": {
            "text/plain": [
              "<pandas.core.indexing._LocIndexer at 0x7fcb433e9908>"
            ]
          },
          "metadata": {
            "tags": []
          },
          "execution_count": 209
        }
      ]
    },
    {
      "cell_type": "code",
      "metadata": {
        "id": "Xosa2TUKKmgB",
        "colab_type": "code",
        "colab": {}
      },
      "source": [
        "impo_2010_2020_valor = impo_2010_2020_valor.sort_values(by='Ano')"
      ],
      "execution_count": 0,
      "outputs": []
    },
    {
      "cell_type": "code",
      "metadata": {
        "id": "BBqxKHzaIEw4",
        "colab_type": "code",
        "colab": {}
      },
      "source": [
        "def criar_colunas_aumento_aceleracao(dataset, coluna):\n",
        "  dataset['aumento'] = dataset[coluna].diff()\n",
        "  dataset['aceleracao'] = dataset['aumento'].diff()"
      ],
      "execution_count": 0,
      "outputs": []
    },
    {
      "cell_type": "code",
      "metadata": {
        "id": "1fdtdp_4Ij-0",
        "colab_type": "code",
        "colab": {}
      },
      "source": [
        "criar_colunas_aumento_aceleracao(impo_2010_2020_valor, 'Valor FOB (US$)')"
      ],
      "execution_count": 0,
      "outputs": []
    },
    {
      "cell_type": "code",
      "metadata": {
        "id": "0SWeWHOpIqsI",
        "colab_type": "code",
        "colab": {
          "base_uri": "https://localhost:8080/",
          "height": 390
        },
        "outputId": "ed284399-65b3-4e91-ae13-f13b863f4652"
      },
      "source": [
        "impo_2010_2020_valor"
      ],
      "execution_count": 217,
      "outputs": [
        {
          "output_type": "execute_result",
          "data": {
            "text/html": [
              "<div>\n",
              "<style scoped>\n",
              "    .dataframe tbody tr th:only-of-type {\n",
              "        vertical-align: middle;\n",
              "    }\n",
              "\n",
              "    .dataframe tbody tr th {\n",
              "        vertical-align: top;\n",
              "    }\n",
              "\n",
              "    .dataframe thead th {\n",
              "        text-align: right;\n",
              "    }\n",
              "</style>\n",
              "<table border=\"1\" class=\"dataframe\">\n",
              "  <thead>\n",
              "    <tr style=\"text-align: right;\">\n",
              "      <th></th>\n",
              "      <th>Ano</th>\n",
              "      <th>Valor FOB (US$)</th>\n",
              "      <th>aumento</th>\n",
              "      <th>aceleracao</th>\n",
              "    </tr>\n",
              "  </thead>\n",
              "  <tbody>\n",
              "    <tr>\n",
              "      <th>10</th>\n",
              "      <td>2010</td>\n",
              "      <td>181774969378</td>\n",
              "      <td>NaN</td>\n",
              "      <td>NaN</td>\n",
              "    </tr>\n",
              "    <tr>\n",
              "      <th>9</th>\n",
              "      <td>2011</td>\n",
              "      <td>226244222128</td>\n",
              "      <td>4.446925e+10</td>\n",
              "      <td>NaN</td>\n",
              "    </tr>\n",
              "    <tr>\n",
              "      <th>8</th>\n",
              "      <td>2012</td>\n",
              "      <td>223366721023</td>\n",
              "      <td>-2.877501e+09</td>\n",
              "      <td>-4.734675e+10</td>\n",
              "    </tr>\n",
              "    <tr>\n",
              "      <th>7</th>\n",
              "      <td>2013</td>\n",
              "      <td>239681231635</td>\n",
              "      <td>1.631451e+10</td>\n",
              "      <td>1.919201e+10</td>\n",
              "    </tr>\n",
              "    <tr>\n",
              "      <th>6</th>\n",
              "      <td>2014</td>\n",
              "      <td>229127843314</td>\n",
              "      <td>-1.055339e+10</td>\n",
              "      <td>-2.686790e+10</td>\n",
              "    </tr>\n",
              "    <tr>\n",
              "      <th>5</th>\n",
              "      <td>2015</td>\n",
              "      <td>171458999759</td>\n",
              "      <td>-5.766884e+10</td>\n",
              "      <td>-4.711546e+10</td>\n",
              "    </tr>\n",
              "    <tr>\n",
              "      <th>4</th>\n",
              "      <td>2016</td>\n",
              "      <td>137585830976</td>\n",
              "      <td>-3.387317e+10</td>\n",
              "      <td>2.379567e+10</td>\n",
              "    </tr>\n",
              "    <tr>\n",
              "      <th>3</th>\n",
              "      <td>2017</td>\n",
              "      <td>150749494421</td>\n",
              "      <td>1.316366e+10</td>\n",
              "      <td>4.703683e+10</td>\n",
              "    </tr>\n",
              "    <tr>\n",
              "      <th>2</th>\n",
              "      <td>2018</td>\n",
              "      <td>181230568862</td>\n",
              "      <td>3.048107e+10</td>\n",
              "      <td>1.731741e+10</td>\n",
              "    </tr>\n",
              "    <tr>\n",
              "      <th>1</th>\n",
              "      <td>2019</td>\n",
              "      <td>177347934749</td>\n",
              "      <td>-3.882634e+09</td>\n",
              "      <td>-3.436371e+10</td>\n",
              "    </tr>\n",
              "    <tr>\n",
              "      <th>0</th>\n",
              "      <td>2020</td>\n",
              "      <td>55560630668</td>\n",
              "      <td>-1.217873e+11</td>\n",
              "      <td>-1.179047e+11</td>\n",
              "    </tr>\n",
              "  </tbody>\n",
              "</table>\n",
              "</div>"
            ],
            "text/plain": [
              "     Ano  Valor FOB (US$)       aumento    aceleracao\n",
              "10  2010     181774969378           NaN           NaN\n",
              "9   2011     226244222128  4.446925e+10           NaN\n",
              "8   2012     223366721023 -2.877501e+09 -4.734675e+10\n",
              "7   2013     239681231635  1.631451e+10  1.919201e+10\n",
              "6   2014     229127843314 -1.055339e+10 -2.686790e+10\n",
              "5   2015     171458999759 -5.766884e+10 -4.711546e+10\n",
              "4   2016     137585830976 -3.387317e+10  2.379567e+10\n",
              "3   2017     150749494421  1.316366e+10  4.703683e+10\n",
              "2   2018     181230568862  3.048107e+10  1.731741e+10\n",
              "1   2019     177347934749 -3.882634e+09 -3.436371e+10\n",
              "0   2020      55560630668 -1.217873e+11 -1.179047e+11"
            ]
          },
          "metadata": {
            "tags": []
          },
          "execution_count": 217
        }
      ]
    },
    {
      "cell_type": "code",
      "metadata": {
        "id": "VeM-1e1IItHh",
        "colab_type": "code",
        "colab": {
          "base_uri": "https://localhost:8080/",
          "height": 735
        },
        "outputId": "95d33ec4-2422-4d05-fb24-6666b9e5cedf"
      },
      "source": [
        "plot_comparacao('Ano', 'Valor FOB (US$)', 'aumento', 'aceleracao', impo_2010_2020_valor, 'Análise de Importações entre 2010 e abril de 2020')"
      ],
      "execution_count": 218,
      "outputs": [
        {
          "output_type": "display_data",
          "data": {
            "image/png": "[encoded data removed]",
            "text/plain": [
              "<Figure size 1152x864 with 3 Axes>"
            ]
          },
          "metadata": {
            "tags": []
          }
        }
      ]
    },
    {
      "cell_type": "code",
      "metadata": {
        "id": "NwOQmSh1I6Tg",
        "colab_type": "code",
        "colab": {
          "base_uri": "https://localhost:8080/",
          "height": 359
        },
        "outputId": "2a2c666d-277d-42c1-e03f-fbb4e8737e01"
      },
      "source": [
        "impo_2010_2019_valor = impo_2010_2020_valor.drop(index=0)\n",
        "impo_2010_2019_valor"
      ],
      "execution_count": 221,
      "outputs": [
        {
          "output_type": "execute_result",
          "data": {
            "text/html": [
              "<div>\n",
              "<style scoped>\n",
              "    .dataframe tbody tr th:only-of-type {\n",
              "        vertical-align: middle;\n",
              "    }\n",
              "\n",
              "    .dataframe tbody tr th {\n",
              "        vertical-align: top;\n",
              "    }\n",
              "\n",
              "    .dataframe thead th {\n",
              "        text-align: right;\n",
              "    }\n",
              "</style>\n",
              "<table border=\"1\" class=\"dataframe\">\n",
              "  <thead>\n",
              "    <tr style=\"text-align: right;\">\n",
              "      <th></th>\n",
              "      <th>Ano</th>\n",
              "      <th>Valor FOB (US$)</th>\n",
              "      <th>aumento</th>\n",
              "      <th>aceleracao</th>\n",
              "    </tr>\n",
              "  </thead>\n",
              "  <tbody>\n",
              "    <tr>\n",
              "      <th>10</th>\n",
              "      <td>2010</td>\n",
              "      <td>181774969378</td>\n",
              "      <td>NaN</td>\n",
              "      <td>NaN</td>\n",
              "    </tr>\n",
              "    <tr>\n",
              "      <th>9</th>\n",
              "      <td>2011</td>\n",
              "      <td>226244222128</td>\n",
              "      <td>4.446925e+10</td>\n",
              "      <td>NaN</td>\n",
              "    </tr>\n",
              "    <tr>\n",
              "      <th>8</th>\n",
              "      <td>2012</td>\n",
              "      <td>223366721023</td>\n",
              "      <td>-2.877501e+09</td>\n",
              "      <td>-4.734675e+10</td>\n",
              "    </tr>\n",
              "    <tr>\n",
              "      <th>7</th>\n",
              "      <td>2013</td>\n",
              "      <td>239681231635</td>\n",
              "      <td>1.631451e+10</td>\n",
              "      <td>1.919201e+10</td>\n",
              "    </tr>\n",
              "    <tr>\n",
              "      <th>6</th>\n",
              "      <td>2014</td>\n",
              "      <td>229127843314</td>\n",
              "      <td>-1.055339e+10</td>\n",
              "      <td>-2.686790e+10</td>\n",
              "    </tr>\n",
              "    <tr>\n",
              "      <th>5</th>\n",
              "      <td>2015</td>\n",
              "      <td>171458999759</td>\n",
              "      <td>-5.766884e+10</td>\n",
              "      <td>-4.711546e+10</td>\n",
              "    </tr>\n",
              "    <tr>\n",
              "      <th>4</th>\n",
              "      <td>2016</td>\n",
              "      <td>137585830976</td>\n",
              "      <td>-3.387317e+10</td>\n",
              "      <td>2.379567e+10</td>\n",
              "    </tr>\n",
              "    <tr>\n",
              "      <th>3</th>\n",
              "      <td>2017</td>\n",
              "      <td>150749494421</td>\n",
              "      <td>1.316366e+10</td>\n",
              "      <td>4.703683e+10</td>\n",
              "    </tr>\n",
              "    <tr>\n",
              "      <th>2</th>\n",
              "      <td>2018</td>\n",
              "      <td>181230568862</td>\n",
              "      <td>3.048107e+10</td>\n",
              "      <td>1.731741e+10</td>\n",
              "    </tr>\n",
              "    <tr>\n",
              "      <th>1</th>\n",
              "      <td>2019</td>\n",
              "      <td>177347934749</td>\n",
              "      <td>-3.882634e+09</td>\n",
              "      <td>-3.436371e+10</td>\n",
              "    </tr>\n",
              "  </tbody>\n",
              "</table>\n",
              "</div>"
            ],
            "text/plain": [
              "     Ano  Valor FOB (US$)       aumento    aceleracao\n",
              "10  2010     181774969378           NaN           NaN\n",
              "9   2011     226244222128  4.446925e+10           NaN\n",
              "8   2012     223366721023 -2.877501e+09 -4.734675e+10\n",
              "7   2013     239681231635  1.631451e+10  1.919201e+10\n",
              "6   2014     229127843314 -1.055339e+10 -2.686790e+10\n",
              "5   2015     171458999759 -5.766884e+10 -4.711546e+10\n",
              "4   2016     137585830976 -3.387317e+10  2.379567e+10\n",
              "3   2017     150749494421  1.316366e+10  4.703683e+10\n",
              "2   2018     181230568862  3.048107e+10  1.731741e+10\n",
              "1   2019     177347934749 -3.882634e+09 -3.436371e+10"
            ]
          },
          "metadata": {
            "tags": []
          },
          "execution_count": 221
        }
      ]
    },
    {
      "cell_type": "code",
      "metadata": {
        "id": "f_sEiOXfJjqS",
        "colab_type": "code",
        "colab": {
          "base_uri": "https://localhost:8080/",
          "height": 735
        },
        "outputId": "14033855-566d-4f72-ea0e-3c956952f5c6"
      },
      "source": [
        "plot_comparacao('Ano', 'Valor FOB (US$)', 'aumento', 'aceleracao', impo_2010_2019_valor, 'Análise de Importações entre 2010 e 2019')"
      ],
      "execution_count": 222,
      "outputs": [
        {
          "output_type": "display_data",
          "data": {
            "image/png": "[encoded data removed]",
            "text/plain": [
              "<Figure size 1152x864 with 3 Axes>"
            ]
          },
          "metadata": {
            "tags": []
          }
        }
      ]
    },
    {
      "cell_type": "code",
      "metadata": {
        "id": "0XvSwqP9MqtZ",
        "colab_type": "code",
        "colab": {
          "base_uri": "https://localhost:8080/",
          "height": 68
        },
        "outputId": "79db4cdf-eefe-41d8-b62b-4604db42c94a"
      },
      "source": [
        "impo_por_municipio.columns"
      ],
      "execution_count": 223,
      "outputs": [
        {
          "output_type": "execute_result",
          "data": {
            "text/plain": [
              "Index(['ano', 'mes', 'codigo_produto', 'pais_origem', 'UF', 'codigo_municipio',\n",
              "       'peso_liquido', 'valor_FOB'],\n",
              "      dtype='object')"
            ]
          },
          "metadata": {
            "tags": []
          },
          "execution_count": 223
        }
      ]
    },
    {
      "cell_type": "code",
      "metadata": {
        "id": "TsOQGwwiNkIk",
        "colab_type": "code",
        "colab": {
          "base_uri": "https://localhost:8080/",
          "height": 419
        },
        "outputId": "ec54fca0-6ca3-488c-d987-6f8f037105cc"
      },
      "source": [
        "impo_por_pais = impo_por_municipio.groupby('pais_origem').sum()['valor_FOB'].to_frame().reset_index()\n",
        "impo_por_pais"
      ],
      "execution_count": 235,
      "outputs": [
        {
          "output_type": "execute_result",
          "data": {
            "text/html": [
              "<div>\n",
              "<style scoped>\n",
              "    .dataframe tbody tr th:only-of-type {\n",
              "        vertical-align: middle;\n",
              "    }\n",
              "\n",
              "    .dataframe tbody tr th {\n",
              "        vertical-align: top;\n",
              "    }\n",
              "\n",
              "    .dataframe thead th {\n",
              "        text-align: right;\n",
              "    }\n",
              "</style>\n",
              "<table border=\"1\" class=\"dataframe\">\n",
              "  <thead>\n",
              "    <tr style=\"text-align: right;\">\n",
              "      <th></th>\n",
              "      <th>pais_origem</th>\n",
              "      <th>valor_FOB</th>\n",
              "    </tr>\n",
              "  </thead>\n",
              "  <tbody>\n",
              "    <tr>\n",
              "      <th>0</th>\n",
              "      <td>13</td>\n",
              "      <td>68298</td>\n",
              "    </tr>\n",
              "    <tr>\n",
              "      <th>1</th>\n",
              "      <td>15</td>\n",
              "      <td>6036</td>\n",
              "    </tr>\n",
              "    <tr>\n",
              "      <th>2</th>\n",
              "      <td>17</td>\n",
              "      <td>186424</td>\n",
              "    </tr>\n",
              "    <tr>\n",
              "      <th>3</th>\n",
              "      <td>23</td>\n",
              "      <td>3243284203</td>\n",
              "    </tr>\n",
              "    <tr>\n",
              "      <th>4</th>\n",
              "      <td>31</td>\n",
              "      <td>32213</td>\n",
              "    </tr>\n",
              "    <tr>\n",
              "      <th>...</th>\n",
              "      <td>...</td>\n",
              "      <td>...</td>\n",
              "    </tr>\n",
              "    <tr>\n",
              "      <th>210</th>\n",
              "      <td>863</td>\n",
              "      <td>309252</td>\n",
              "    </tr>\n",
              "    <tr>\n",
              "      <th>211</th>\n",
              "      <td>866</td>\n",
              "      <td>20205</td>\n",
              "    </tr>\n",
              "    <tr>\n",
              "      <th>212</th>\n",
              "      <td>870</td>\n",
              "      <td>14607</td>\n",
              "    </tr>\n",
              "    <tr>\n",
              "      <th>213</th>\n",
              "      <td>888</td>\n",
              "      <td>1944514</td>\n",
              "    </tr>\n",
              "    <tr>\n",
              "      <th>214</th>\n",
              "      <td>890</td>\n",
              "      <td>277012</td>\n",
              "    </tr>\n",
              "  </tbody>\n",
              "</table>\n",
              "<p>215 rows × 2 columns</p>\n",
              "</div>"
            ],
            "text/plain": [
              "     pais_origem   valor_FOB\n",
              "0             13       68298\n",
              "1             15        6036\n",
              "2             17      186424\n",
              "3             23  3243284203\n",
              "4             31       32213\n",
              "..           ...         ...\n",
              "210          863      309252\n",
              "211          866       20205\n",
              "212          870       14607\n",
              "213          888     1944514\n",
              "214          890      277012\n",
              "\n",
              "[215 rows x 2 columns]"
            ]
          },
          "metadata": {
            "tags": []
          },
          "execution_count": 235
        }
      ]
    },
    {
      "cell_type": "code",
      "metadata": {
        "id": "rNfgt_4WNw1X",
        "colab_type": "code",
        "colab": {
          "base_uri": "https://localhost:8080/",
          "height": 204
        },
        "outputId": "4bb88532-3b9f-47e8-da30-69f581ba4984"
      },
      "source": [
        "paises = pd.read_excel('/content/TABELAS_AUXILIARES.xlsx', sheet_name='11')\n",
        "paises.head()"
      ],
      "execution_count": 232,
      "outputs": [
        {
          "output_type": "execute_result",
          "data": {
            "text/html": [
              "<div>\n",
              "<style scoped>\n",
              "    .dataframe tbody tr th:only-of-type {\n",
              "        vertical-align: middle;\n",
              "    }\n",
              "\n",
              "    .dataframe tbody tr th {\n",
              "        vertical-align: top;\n",
              "    }\n",
              "\n",
              "    .dataframe thead th {\n",
              "        text-align: right;\n",
              "    }\n",
              "</style>\n",
              "<table border=\"1\" class=\"dataframe\">\n",
              "  <thead>\n",
              "    <tr style=\"text-align: right;\">\n",
              "      <th></th>\n",
              "      <th>CO_PAIS</th>\n",
              "      <th>CO_PAIS_ISON3</th>\n",
              "      <th>CO_PAIS_ISOA3</th>\n",
              "      <th>NO_PAIS</th>\n",
              "      <th>NO_PAIS_ING</th>\n",
              "      <th>NO_PAIS_ESP</th>\n",
              "    </tr>\n",
              "  </thead>\n",
              "  <tbody>\n",
              "    <tr>\n",
              "      <th>0</th>\n",
              "      <td>0</td>\n",
              "      <td>898</td>\n",
              "      <td>ZZZ</td>\n",
              "      <td>Não Definido</td>\n",
              "      <td>Not defined</td>\n",
              "      <td>No definido</td>\n",
              "    </tr>\n",
              "    <tr>\n",
              "      <th>1</th>\n",
              "      <td>13</td>\n",
              "      <td>4</td>\n",
              "      <td>AFG</td>\n",
              "      <td>Afeganistão</td>\n",
              "      <td>Afghanistan</td>\n",
              "      <td>Afganistan</td>\n",
              "    </tr>\n",
              "    <tr>\n",
              "      <th>2</th>\n",
              "      <td>15</td>\n",
              "      <td>248</td>\n",
              "      <td>ALA</td>\n",
              "      <td>Aland, Ilhas</td>\n",
              "      <td>Aland Islands</td>\n",
              "      <td>Alans, Islas</td>\n",
              "    </tr>\n",
              "    <tr>\n",
              "      <th>3</th>\n",
              "      <td>17</td>\n",
              "      <td>8</td>\n",
              "      <td>ALB</td>\n",
              "      <td>Albânia</td>\n",
              "      <td>Albania</td>\n",
              "      <td>Albania</td>\n",
              "    </tr>\n",
              "    <tr>\n",
              "      <th>4</th>\n",
              "      <td>20</td>\n",
              "      <td>724</td>\n",
              "      <td>ESP</td>\n",
              "      <td>Alboran-Perejil, Ilhas</td>\n",
              "      <td>Alboran-Perejil, Islands</td>\n",
              "      <td>Alboran-Perejil, Islas</td>\n",
              "    </tr>\n",
              "  </tbody>\n",
              "</table>\n",
              "</div>"
            ],
            "text/plain": [
              "   CO_PAIS  CO_PAIS_ISON3  ...               NO_PAIS_ING             NO_PAIS_ESP\n",
              "0        0            898  ...               Not defined             No definido\n",
              "1       13              4  ...               Afghanistan              Afganistan\n",
              "2       15            248  ...             Aland Islands            Alans, Islas\n",
              "3       17              8  ...                   Albania                 Albania\n",
              "4       20            724  ...  Alboran-Perejil, Islands  Alboran-Perejil, Islas\n",
              "\n",
              "[5 rows x 6 columns]"
            ]
          },
          "metadata": {
            "tags": []
          },
          "execution_count": 232
        }
      ]
    },
    {
      "cell_type": "code",
      "metadata": {
        "id": "r6np870iPA8k",
        "colab_type": "code",
        "colab": {}
      },
      "source": [
        "paises_por_codigo = paises[['CO_PAIS', 'NO_PAIS']]\n",
        "\n",
        "#proxima_turma.set_index('id_aluno').join(nomes.set_index('id_aluno'))['nome']"
      ],
      "execution_count": 0,
      "outputs": []
    },
    {
      "cell_type": "code",
      "metadata": {
        "id": "CtZl3G_8Quy4",
        "colab_type": "code",
        "colab": {}
      },
      "source": [
        "paises_por_codigo.columns = ['pais_origem', 'nome_pais']"
      ],
      "execution_count": 0,
      "outputs": []
    },
    {
      "cell_type": "code",
      "metadata": {
        "id": "mVYenc6ZQxP3",
        "colab_type": "code",
        "colab": {
          "base_uri": "https://localhost:8080/",
          "height": 419
        },
        "outputId": "ac638274-14d0-4fd7-a88f-367df1829f79"
      },
      "source": [
        "paises_por_codigo"
      ],
      "execution_count": 245,
      "outputs": [
        {
          "output_type": "execute_result",
          "data": {
            "text/html": [
              "<div>\n",
              "<style scoped>\n",
              "    .dataframe tbody tr th:only-of-type {\n",
              "        vertical-align: middle;\n",
              "    }\n",
              "\n",
              "    .dataframe tbody tr th {\n",
              "        vertical-align: top;\n",
              "    }\n",
              "\n",
              "    .dataframe thead th {\n",
              "        text-align: right;\n",
              "    }\n",
              "</style>\n",
              "<table border=\"1\" class=\"dataframe\">\n",
              "  <thead>\n",
              "    <tr style=\"text-align: right;\">\n",
              "      <th></th>\n",
              "      <th>pais_origem</th>\n",
              "      <th>nome_pais</th>\n",
              "    </tr>\n",
              "  </thead>\n",
              "  <tbody>\n",
              "    <tr>\n",
              "      <th>0</th>\n",
              "      <td>0</td>\n",
              "      <td>Não Definido</td>\n",
              "    </tr>\n",
              "    <tr>\n",
              "      <th>1</th>\n",
              "      <td>13</td>\n",
              "      <td>Afeganistão</td>\n",
              "    </tr>\n",
              "    <tr>\n",
              "      <th>2</th>\n",
              "      <td>15</td>\n",
              "      <td>Aland, Ilhas</td>\n",
              "    </tr>\n",
              "    <tr>\n",
              "      <th>3</th>\n",
              "      <td>17</td>\n",
              "      <td>Albânia</td>\n",
              "    </tr>\n",
              "    <tr>\n",
              "      <th>4</th>\n",
              "      <td>20</td>\n",
              "      <td>Alboran-Perejil, Ilhas</td>\n",
              "    </tr>\n",
              "    <tr>\n",
              "      <th>...</th>\n",
              "      <td>...</td>\n",
              "      <td>...</td>\n",
              "    </tr>\n",
              "    <tr>\n",
              "      <th>276</th>\n",
              "      <td>994</td>\n",
              "      <td>A Designar</td>\n",
              "    </tr>\n",
              "    <tr>\n",
              "      <th>277</th>\n",
              "      <td>995</td>\n",
              "      <td>Bancos Centrais</td>\n",
              "    </tr>\n",
              "    <tr>\n",
              "      <th>278</th>\n",
              "      <td>997</td>\n",
              "      <td>Organizações Internacionais</td>\n",
              "    </tr>\n",
              "    <tr>\n",
              "      <th>279</th>\n",
              "      <td>998</td>\n",
              "      <td>Sem informação</td>\n",
              "    </tr>\n",
              "    <tr>\n",
              "      <th>280</th>\n",
              "      <td>999</td>\n",
              "      <td>Não Declarados</td>\n",
              "    </tr>\n",
              "  </tbody>\n",
              "</table>\n",
              "<p>281 rows × 2 columns</p>\n",
              "</div>"
            ],
            "text/plain": [
              "     pais_origem                    nome_pais\n",
              "0              0                 Não Definido\n",
              "1             13                  Afeganistão\n",
              "2             15                 Aland, Ilhas\n",
              "3             17                      Albânia\n",
              "4             20       Alboran-Perejil, Ilhas\n",
              "..           ...                          ...\n",
              "276          994                   A Designar\n",
              "277          995              Bancos Centrais\n",
              "278          997  Organizações Internacionais\n",
              "279          998               Sem informação\n",
              "280          999               Não Declarados\n",
              "\n",
              "[281 rows x 2 columns]"
            ]
          },
          "metadata": {
            "tags": []
          },
          "execution_count": 245
        }
      ]
    },
    {
      "cell_type": "code",
      "metadata": {
        "id": "rqdZ5vT9RD0P",
        "colab_type": "code",
        "colab": {
          "base_uri": "https://localhost:8080/",
          "height": 450
        },
        "outputId": "c179f43a-f362-4988-b907-75d6d96b9dc6"
      },
      "source": [
        "impo_por_pais\n"
      ],
      "execution_count": 248,
      "outputs": [
        {
          "output_type": "execute_result",
          "data": {
            "text/html": [
              "<div>\n",
              "<style scoped>\n",
              "    .dataframe tbody tr th:only-of-type {\n",
              "        vertical-align: middle;\n",
              "    }\n",
              "\n",
              "    .dataframe tbody tr th {\n",
              "        vertical-align: top;\n",
              "    }\n",
              "\n",
              "    .dataframe thead th {\n",
              "        text-align: right;\n",
              "    }\n",
              "</style>\n",
              "<table border=\"1\" class=\"dataframe\">\n",
              "  <thead>\n",
              "    <tr style=\"text-align: right;\">\n",
              "      <th></th>\n",
              "      <th>valor_FOB</th>\n",
              "      <th>nome_pais</th>\n",
              "    </tr>\n",
              "    <tr>\n",
              "      <th>pais_origem</th>\n",
              "      <th></th>\n",
              "      <th></th>\n",
              "    </tr>\n",
              "  </thead>\n",
              "  <tbody>\n",
              "    <tr>\n",
              "      <th>13</th>\n",
              "      <td>68298</td>\n",
              "      <td>Afeganistão</td>\n",
              "    </tr>\n",
              "    <tr>\n",
              "      <th>15</th>\n",
              "      <td>6036</td>\n",
              "      <td>Aland, Ilhas</td>\n",
              "    </tr>\n",
              "    <tr>\n",
              "      <th>17</th>\n",
              "      <td>186424</td>\n",
              "      <td>Albânia</td>\n",
              "    </tr>\n",
              "    <tr>\n",
              "      <th>23</th>\n",
              "      <td>3243284203</td>\n",
              "      <td>Alemanha</td>\n",
              "    </tr>\n",
              "    <tr>\n",
              "      <th>31</th>\n",
              "      <td>32213</td>\n",
              "      <td>Burkina Faso</td>\n",
              "    </tr>\n",
              "    <tr>\n",
              "      <th>...</th>\n",
              "      <td>...</td>\n",
              "      <td>...</td>\n",
              "    </tr>\n",
              "    <tr>\n",
              "      <th>863</th>\n",
              "      <td>309252</td>\n",
              "      <td>Virgens, Ilhas (Britânicas)</td>\n",
              "    </tr>\n",
              "    <tr>\n",
              "      <th>866</th>\n",
              "      <td>20205</td>\n",
              "      <td>Virgens, Ilhas (Americanas)</td>\n",
              "    </tr>\n",
              "    <tr>\n",
              "      <th>870</th>\n",
              "      <td>14607</td>\n",
              "      <td>Fiji</td>\n",
              "    </tr>\n",
              "    <tr>\n",
              "      <th>888</th>\n",
              "      <td>1944514</td>\n",
              "      <td>Congo, República Democrática</td>\n",
              "    </tr>\n",
              "    <tr>\n",
              "      <th>890</th>\n",
              "      <td>277012</td>\n",
              "      <td>Zâmbia</td>\n",
              "    </tr>\n",
              "  </tbody>\n",
              "</table>\n",
              "<p>215 rows × 2 columns</p>\n",
              "</div>"
            ],
            "text/plain": [
              "              valor_FOB                     nome_pais\n",
              "pais_origem                                          \n",
              "13                68298                   Afeganistão\n",
              "15                 6036                  Aland, Ilhas\n",
              "17               186424                       Albânia\n",
              "23           3243284203                      Alemanha\n",
              "31                32213                  Burkina Faso\n",
              "...                 ...                           ...\n",
              "863              309252   Virgens, Ilhas (Britânicas)\n",
              "866               20205   Virgens, Ilhas (Americanas)\n",
              "870               14607                          Fiji\n",
              "888             1944514  Congo, República Democrática\n",
              "890              277012                        Zâmbia\n",
              "\n",
              "[215 rows x 2 columns]"
            ]
          },
          "metadata": {
            "tags": []
          },
          "execution_count": 248
        }
      ]
    },
    {
      "cell_type": "code",
      "metadata": {
        "id": "j2LwVifgRT_E",
        "colab_type": "code",
        "colab": {
          "base_uri": "https://localhost:8080/",
          "height": 238
        },
        "outputId": "32d22fda-45bf-45ed-8687-ad0bc5f73494"
      },
      "source": [
        "impo_por_pais.valor_FOB.isnull()"
      ],
      "execution_count": 250,
      "outputs": [
        {
          "output_type": "execute_result",
          "data": {
            "text/plain": [
              "pais_origem\n",
              "13     False\n",
              "15     False\n",
              "17     False\n",
              "23     False\n",
              "31     False\n",
              "       ...  \n",
              "863    False\n",
              "866    False\n",
              "870    False\n",
              "888    False\n",
              "890    False\n",
              "Name: valor_FOB, Length: 215, dtype: bool"
            ]
          },
          "metadata": {
            "tags": []
          },
          "execution_count": 250
        }
      ]
    },
    {
      "cell_type": "code",
      "metadata": {
        "id": "Nq1hNLdOReHe",
        "colab_type": "code",
        "colab": {
          "base_uri": "https://localhost:8080/",
          "height": 450
        },
        "outputId": "b1545104-08f0-4621-c83d-74268295007b"
      },
      "source": [
        "impo_por_pais.dropna()\n"
      ],
      "execution_count": 251,
      "outputs": [
        {
          "output_type": "execute_result",
          "data": {
            "text/html": [
              "<div>\n",
              "<style scoped>\n",
              "    .dataframe tbody tr th:only-of-type {\n",
              "        vertical-align: middle;\n",
              "    }\n",
              "\n",
              "    .dataframe tbody tr th {\n",
              "        vertical-align: top;\n",
              "    }\n",
              "\n",
              "    .dataframe thead th {\n",
              "        text-align: right;\n",
              "    }\n",
              "</style>\n",
              "<table border=\"1\" class=\"dataframe\">\n",
              "  <thead>\n",
              "    <tr style=\"text-align: right;\">\n",
              "      <th></th>\n",
              "      <th>valor_FOB</th>\n",
              "      <th>nome_pais</th>\n",
              "    </tr>\n",
              "    <tr>\n",
              "      <th>pais_origem</th>\n",
              "      <th></th>\n",
              "      <th></th>\n",
              "    </tr>\n",
              "  </thead>\n",
              "  <tbody>\n",
              "    <tr>\n",
              "      <th>13</th>\n",
              "      <td>68298</td>\n",
              "      <td>Afeganistão</td>\n",
              "    </tr>\n",
              "    <tr>\n",
              "      <th>15</th>\n",
              "      <td>6036</td>\n",
              "      <td>Aland, Ilhas</td>\n",
              "    </tr>\n",
              "    <tr>\n",
              "      <th>17</th>\n",
              "      <td>186424</td>\n",
              "      <td>Albânia</td>\n",
              "    </tr>\n",
              "    <tr>\n",
              "      <th>23</th>\n",
              "      <td>3243284203</td>\n",
              "      <td>Alemanha</td>\n",
              "    </tr>\n",
              "    <tr>\n",
              "      <th>31</th>\n",
              "      <td>32213</td>\n",
              "      <td>Burkina Faso</td>\n",
              "    </tr>\n",
              "    <tr>\n",
              "      <th>...</th>\n",
              "      <td>...</td>\n",
              "      <td>...</td>\n",
              "    </tr>\n",
              "    <tr>\n",
              "      <th>863</th>\n",
              "      <td>309252</td>\n",
              "      <td>Virgens, Ilhas (Britânicas)</td>\n",
              "    </tr>\n",
              "    <tr>\n",
              "      <th>866</th>\n",
              "      <td>20205</td>\n",
              "      <td>Virgens, Ilhas (Americanas)</td>\n",
              "    </tr>\n",
              "    <tr>\n",
              "      <th>870</th>\n",
              "      <td>14607</td>\n",
              "      <td>Fiji</td>\n",
              "    </tr>\n",
              "    <tr>\n",
              "      <th>888</th>\n",
              "      <td>1944514</td>\n",
              "      <td>Congo, República Democrática</td>\n",
              "    </tr>\n",
              "    <tr>\n",
              "      <th>890</th>\n",
              "      <td>277012</td>\n",
              "      <td>Zâmbia</td>\n",
              "    </tr>\n",
              "  </tbody>\n",
              "</table>\n",
              "<p>215 rows × 2 columns</p>\n",
              "</div>"
            ],
            "text/plain": [
              "              valor_FOB                     nome_pais\n",
              "pais_origem                                          \n",
              "13                68298                   Afeganistão\n",
              "15                 6036                  Aland, Ilhas\n",
              "17               186424                       Albânia\n",
              "23           3243284203                      Alemanha\n",
              "31                32213                  Burkina Faso\n",
              "...                 ...                           ...\n",
              "863              309252   Virgens, Ilhas (Britânicas)\n",
              "866               20205   Virgens, Ilhas (Americanas)\n",
              "870               14607                          Fiji\n",
              "888             1944514  Congo, República Democrática\n",
              "890              277012                        Zâmbia\n",
              "\n",
              "[215 rows x 2 columns]"
            ]
          },
          "metadata": {
            "tags": []
          },
          "execution_count": 251
        }
      ]
    },
    {
      "cell_type": "code",
      "metadata": {
        "id": "jLDhNcG0SCaP",
        "colab_type": "code",
        "colab": {}
      },
      "source": [
        "impo_por_pais = impo_por_pais.sort_values(by='valor_FOB')\n",
        "os_10_maiores_paises = impo_por_pais.tail(11)\n"
      ],
      "execution_count": 0,
      "outputs": []
    },
    {
      "cell_type": "code",
      "metadata": {
        "id": "JXN2lIBfUWZi",
        "colab_type": "code",
        "colab": {}
      },
      "source": [
        "os_10_maiores_paises = os_10_maiores_paises.reset_index()\n",
        "os_10_maiores_paises = os_10_maiores_paises.drop(index=8)\n"
      ],
      "execution_count": 0,
      "outputs": []
    },
    {
      "cell_type": "code",
      "metadata": {
        "id": "rd6wwX5xSObh",
        "colab_type": "code",
        "colab": {
          "base_uri": "https://localhost:8080/",
          "height": 526
        },
        "outputId": "645d2aae-7c84-47a7-9b7b-e6d5f28c2a61"
      },
      "source": [
        "plt.figure(figsize=(16,8))\n",
        "sns.barplot(x='nome_pais', y='valor_FOB', data=os_10_maiores_paises, palette='GnBu_d')"
      ],
      "execution_count": 288,
      "outputs": [
        {
          "output_type": "execute_result",
          "data": {
            "text/plain": [
              "<matplotlib.axes._subplots.AxesSubplot at 0x7fcb42a0ee10>"
            ]
          },
          "metadata": {
            "tags": []
          },
          "execution_count": 288
        },
        {
          "output_type": "display_data",
          "data": {
            "image/png": "[encoded data removed]",
            "text/plain": [
              "<Figure size 1152x576 with 1 Axes>"
            ]
          },
          "metadata": {
            "tags": []
          }
        }
      ]
    },
    {
      "cell_type": "code",
      "metadata": {
        "id": "B4S3akoPSz6o",
        "colab_type": "code",
        "colab": {}
      },
      "source": [
        ""
      ],
      "execution_count": 0,
      "outputs": []
    }
  ]
}