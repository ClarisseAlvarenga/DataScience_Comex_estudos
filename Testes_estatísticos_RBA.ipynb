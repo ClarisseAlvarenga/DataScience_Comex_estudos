{
  "nbformat": 4,
  "nbformat_minor": 0,
  "metadata": {
    "colab": {
      "provenance": [],
      "authorship_tag": "ABX9TyO+0akmT5W8gNUxCTMlr398",
      "include_colab_link": true
    },
    "kernelspec": {
      "name": "python3",
      "display_name": "Python 3"
    }
  },
  "cells": [
    {
      "cell_type": "markdown",
      "metadata": {
        "id": "view-in-github",
        "colab_type": "text"
      },
      "source": [
        "<a href=\"https://colab.research.google.com/github/ClarisseAlvarenga/DataScience_Comex_estudos/blob/master/Testes_estat%C3%ADsticos_RBA.ipynb\" target=\"_parent\"><img src=\"https://colab.research.google.com/assets/colab-badge.svg\" alt=\"Open In Colab\"/></a>"
      ]
    },
    {
      "cell_type": "code",
      "metadata": {
        "id": "eJ8HyR5C5sMV"
      },
      "source": [
        "import pandas as pd\n",
        "import matplotlib.pyplot as plt\n",
        "import seaborn as sns\n",
        "import numpy as np\n"
      ],
      "execution_count": 1,
      "outputs": []
    },
    {
      "cell_type": "markdown",
      "metadata": {
        "id": "R3Dm-q-SHdEf"
      },
      "source": [
        "## Aula 01 - Conhecendo e Explorando os dados"
      ]
    },
    {
      "cell_type": "code",
      "metadata": {
        "id": "QvQ8tuKU6sY-",
        "colab": {
          "base_uri": "https://localhost:8080/",
          "height": 237
        },
        "outputId": "28d661d9-0c71-4597-f430-1d557c062245"
      },
      "source": [
        "#Visualizando os dados do TMDB\n",
        "dados = pd.read_excel('/content/Amostra_clusters_risco_negativado.xlsx')\n",
        "dados = dados[['ID', 'Cliente BB (anos)', 'PONTUACAO_ROC',\t'NT_RISCO',\t'OP_C_PAISES_EM_LISTA_REST', 'CLUSTER_STD']].set_index('ID')\n",
        "dados.head()"
      ],
      "execution_count": 2,
      "outputs": [
        {
          "output_type": "execute_result",
          "data": {
            "text/plain": [
              "    Cliente BB (anos)  PONTUACAO_ROC  NT_RISCO  OP_C_PAISES_EM_LISTA_REST  \\\n",
              "ID                                                                          \n",
              "1           15.583333          -2.72 -1.017755                      False   \n",
              "2           27.052778          -2.63 -4.037228                       True   \n",
              "3           15.955556          -2.57 -0.000573                       True   \n",
              "4           24.477778          -3.07 -0.001145                      False   \n",
              "5           24.555556          -3.18 -2.022910                       True   \n",
              "\n",
              "    CLUSTER_STD  \n",
              "ID               \n",
              "1             4  \n",
              "2             2  \n",
              "3             4  \n",
              "4             2  \n",
              "5             2  "
            ],
            "text/html": [
              "\n",
              "  <div id=\"df-5801c7f4-4d3b-4dcd-baed-a5ce610d02e2\" class=\"colab-df-container\">\n",
              "    <div>\n",
              "<style scoped>\n",
              "    .dataframe tbody tr th:only-of-type {\n",
              "        vertical-align: middle;\n",
              "    }\n",
              "\n",
              "    .dataframe tbody tr th {\n",
              "        vertical-align: top;\n",
              "    }\n",
              "\n",
              "    .dataframe thead th {\n",
              "        text-align: right;\n",
              "    }\n",
              "</style>\n",
              "<table border=\"1\" class=\"dataframe\">\n",
              "  <thead>\n",
              "    <tr style=\"text-align: right;\">\n",
              "      <th></th>\n",
              "      <th>Cliente BB (anos)</th>\n",
              "      <th>PONTUACAO_ROC</th>\n",
              "      <th>NT_RISCO</th>\n",
              "      <th>OP_C_PAISES_EM_LISTA_REST</th>\n",
              "      <th>CLUSTER_STD</th>\n",
              "    </tr>\n",
              "    <tr>\n",
              "      <th>ID</th>\n",
              "      <th></th>\n",
              "      <th></th>\n",
              "      <th></th>\n",
              "      <th></th>\n",
              "      <th></th>\n",
              "    </tr>\n",
              "  </thead>\n",
              "  <tbody>\n",
              "    <tr>\n",
              "      <th>1</th>\n",
              "      <td>15.583333</td>\n",
              "      <td>-2.72</td>\n",
              "      <td>-1.017755</td>\n",
              "      <td>False</td>\n",
              "      <td>4</td>\n",
              "    </tr>\n",
              "    <tr>\n",
              "      <th>2</th>\n",
              "      <td>27.052778</td>\n",
              "      <td>-2.63</td>\n",
              "      <td>-4.037228</td>\n",
              "      <td>True</td>\n",
              "      <td>2</td>\n",
              "    </tr>\n",
              "    <tr>\n",
              "      <th>3</th>\n",
              "      <td>15.955556</td>\n",
              "      <td>-2.57</td>\n",
              "      <td>-0.000573</td>\n",
              "      <td>True</td>\n",
              "      <td>4</td>\n",
              "    </tr>\n",
              "    <tr>\n",
              "      <th>4</th>\n",
              "      <td>24.477778</td>\n",
              "      <td>-3.07</td>\n",
              "      <td>-0.001145</td>\n",
              "      <td>False</td>\n",
              "      <td>2</td>\n",
              "    </tr>\n",
              "    <tr>\n",
              "      <th>5</th>\n",
              "      <td>24.555556</td>\n",
              "      <td>-3.18</td>\n",
              "      <td>-2.022910</td>\n",
              "      <td>True</td>\n",
              "      <td>2</td>\n",
              "    </tr>\n",
              "  </tbody>\n",
              "</table>\n",
              "</div>\n",
              "    <div class=\"colab-df-buttons\">\n",
              "\n",
              "  <div class=\"colab-df-container\">\n",
              "    <button class=\"colab-df-convert\" onclick=\"convertToInteractive('df-5801c7f4-4d3b-4dcd-baed-a5ce610d02e2')\"\n",
              "            title=\"Convert this dataframe to an interactive table.\"\n",
              "            style=\"display:none;\">\n",
              "\n",
              "  <svg xmlns=\"http://www.w3.org/2000/svg\" height=\"24px\" viewBox=\"0 -960 960 960\">\n",
              "    <path d=\"M120-120v-720h720v720H120Zm60-500h600v-160H180v160Zm220 220h160v-160H400v160Zm0 220h160v-160H400v160ZM180-400h160v-160H180v160Zm440 0h160v-160H620v160ZM180-180h160v-160H180v160Zm440 0h160v-160H620v160Z\"/>\n",
              "  </svg>\n",
              "    </button>\n",
              "\n",
              "  <style>\n",
              "    .colab-df-container {\n",
              "      display:flex;\n",
              "      gap: 12px;\n",
              "    }\n",
              "\n",
              "    .colab-df-convert {\n",
              "      background-color: #E8F0FE;\n",
              "      border: none;\n",
              "      border-radius: 50%;\n",
              "      cursor: pointer;\n",
              "      display: none;\n",
              "      fill: #1967D2;\n",
              "      height: 32px;\n",
              "      padding: 0 0 0 0;\n",
              "      width: 32px;\n",
              "    }\n",
              "\n",
              "    .colab-df-convert:hover {\n",
              "      background-color: #E2EBFA;\n",
              "      box-shadow: 0px 1px 2px rgba(60, 64, 67, 0.3), 0px 1px 3px 1px rgba(60, 64, 67, 0.15);\n",
              "      fill: #174EA6;\n",
              "    }\n",
              "\n",
              "    .colab-df-buttons div {\n",
              "      margin-bottom: 4px;\n",
              "    }\n",
              "\n",
              "    [theme=dark] .colab-df-convert {\n",
              "      background-color: #3B4455;\n",
              "      fill: #D2E3FC;\n",
              "    }\n",
              "\n",
              "    [theme=dark] .colab-df-convert:hover {\n",
              "      background-color: #434B5C;\n",
              "      box-shadow: 0px 1px 3px 1px rgba(0, 0, 0, 0.15);\n",
              "      filter: drop-shadow(0px 1px 2px rgba(0, 0, 0, 0.3));\n",
              "      fill: #FFFFFF;\n",
              "    }\n",
              "  </style>\n",
              "\n",
              "    <script>\n",
              "      const buttonEl =\n",
              "        document.querySelector('#df-5801c7f4-4d3b-4dcd-baed-a5ce610d02e2 button.colab-df-convert');\n",
              "      buttonEl.style.display =\n",
              "        google.colab.kernel.accessAllowed ? 'block' : 'none';\n",
              "\n",
              "      async function convertToInteractive(key) {\n",
              "        const element = document.querySelector('#df-5801c7f4-4d3b-4dcd-baed-a5ce610d02e2');\n",
              "        const dataTable =\n",
              "          await google.colab.kernel.invokeFunction('convertToInteractive',\n",
              "                                                    [key], {});\n",
              "        if (!dataTable) return;\n",
              "\n",
              "        const docLinkHtml = 'Like what you see? Visit the ' +\n",
              "          '<a target=\"_blank\" href=https://colab.research.google.com/notebooks/data_table.ipynb>data table notebook</a>'\n",
              "          + ' to learn more about interactive tables.';\n",
              "        element.innerHTML = '';\n",
              "        dataTable['output_type'] = 'display_data';\n",
              "        await google.colab.output.renderOutput(dataTable, element);\n",
              "        const docLink = document.createElement('div');\n",
              "        docLink.innerHTML = docLinkHtml;\n",
              "        element.appendChild(docLink);\n",
              "      }\n",
              "    </script>\n",
              "  </div>\n",
              "\n",
              "\n",
              "<div id=\"df-db22b4c0-0b17-4224-b029-cb879498fb6d\">\n",
              "  <button class=\"colab-df-quickchart\" onclick=\"quickchart('df-db22b4c0-0b17-4224-b029-cb879498fb6d')\"\n",
              "            title=\"Suggest charts.\"\n",
              "            style=\"display:none;\">\n",
              "\n",
              "<svg xmlns=\"http://www.w3.org/2000/svg\" height=\"24px\"viewBox=\"0 0 24 24\"\n",
              "     width=\"24px\">\n",
              "    <g>\n",
              "        <path d=\"M19 3H5c-1.1 0-2 .9-2 2v14c0 1.1.9 2 2 2h14c1.1 0 2-.9 2-2V5c0-1.1-.9-2-2-2zM9 17H7v-7h2v7zm4 0h-2V7h2v10zm4 0h-2v-4h2v4z\"/>\n",
              "    </g>\n",
              "</svg>\n",
              "  </button>\n",
              "\n",
              "<style>\n",
              "  .colab-df-quickchart {\n",
              "      --bg-color: #E8F0FE;\n",
              "      --fill-color: #1967D2;\n",
              "      --hover-bg-color: #E2EBFA;\n",
              "      --hover-fill-color: #174EA6;\n",
              "      --disabled-fill-color: #AAA;\n",
              "      --disabled-bg-color: #DDD;\n",
              "  }\n",
              "\n",
              "  [theme=dark] .colab-df-quickchart {\n",
              "      --bg-color: #3B4455;\n",
              "      --fill-color: #D2E3FC;\n",
              "      --hover-bg-color: #434B5C;\n",
              "      --hover-fill-color: #FFFFFF;\n",
              "      --disabled-bg-color: #3B4455;\n",
              "      --disabled-fill-color: #666;\n",
              "  }\n",
              "\n",
              "  .colab-df-quickchart {\n",
              "    background-color: var(--bg-color);\n",
              "    border: none;\n",
              "    border-radius: 50%;\n",
              "    cursor: pointer;\n",
              "    display: none;\n",
              "    fill: var(--fill-color);\n",
              "    height: 32px;\n",
              "    padding: 0;\n",
              "    width: 32px;\n",
              "  }\n",
              "\n",
              "  .colab-df-quickchart:hover {\n",
              "    background-color: var(--hover-bg-color);\n",
              "    box-shadow: 0 1px 2px rgba(60, 64, 67, 0.3), 0 1px 3px 1px rgba(60, 64, 67, 0.15);\n",
              "    fill: var(--button-hover-fill-color);\n",
              "  }\n",
              "\n",
              "  .colab-df-quickchart-complete:disabled,\n",
              "  .colab-df-quickchart-complete:disabled:hover {\n",
              "    background-color: var(--disabled-bg-color);\n",
              "    fill: var(--disabled-fill-color);\n",
              "    box-shadow: none;\n",
              "  }\n",
              "\n",
              "  .colab-df-spinner {\n",
              "    border: 2px solid var(--fill-color);\n",
              "    border-color: transparent;\n",
              "    border-bottom-color: var(--fill-color);\n",
              "    animation:\n",
              "      spin 1s steps(1) infinite;\n",
              "  }\n",
              "\n",
              "  @keyframes spin {\n",
              "    0% {\n",
              "      border-color: transparent;\n",
              "      border-bottom-color: var(--fill-color);\n",
              "      border-left-color: var(--fill-color);\n",
              "    }\n",
              "    20% {\n",
              "      border-color: transparent;\n",
              "      border-left-color: var(--fill-color);\n",
              "      border-top-color: var(--fill-color);\n",
              "    }\n",
              "    30% {\n",
              "      border-color: transparent;\n",
              "      border-left-color: var(--fill-color);\n",
              "      border-top-color: var(--fill-color);\n",
              "      border-right-color: var(--fill-color);\n",
              "    }\n",
              "    40% {\n",
              "      border-color: transparent;\n",
              "      border-right-color: var(--fill-color);\n",
              "      border-top-color: var(--fill-color);\n",
              "    }\n",
              "    60% {\n",
              "      border-color: transparent;\n",
              "      border-right-color: var(--fill-color);\n",
              "    }\n",
              "    80% {\n",
              "      border-color: transparent;\n",
              "      border-right-color: var(--fill-color);\n",
              "      border-bottom-color: var(--fill-color);\n",
              "    }\n",
              "    90% {\n",
              "      border-color: transparent;\n",
              "      border-bottom-color: var(--fill-color);\n",
              "    }\n",
              "  }\n",
              "</style>\n",
              "\n",
              "  <script>\n",
              "    async function quickchart(key) {\n",
              "      const quickchartButtonEl =\n",
              "        document.querySelector('#' + key + ' button');\n",
              "      quickchartButtonEl.disabled = true;  // To prevent multiple clicks.\n",
              "      quickchartButtonEl.classList.add('colab-df-spinner');\n",
              "      try {\n",
              "        const charts = await google.colab.kernel.invokeFunction(\n",
              "            'suggestCharts', [key], {});\n",
              "      } catch (error) {\n",
              "        console.error('Error during call to suggestCharts:', error);\n",
              "      }\n",
              "      quickchartButtonEl.classList.remove('colab-df-spinner');\n",
              "      quickchartButtonEl.classList.add('colab-df-quickchart-complete');\n",
              "    }\n",
              "    (() => {\n",
              "      let quickchartButtonEl =\n",
              "        document.querySelector('#df-db22b4c0-0b17-4224-b029-cb879498fb6d button');\n",
              "      quickchartButtonEl.style.display =\n",
              "        google.colab.kernel.accessAllowed ? 'block' : 'none';\n",
              "    })();\n",
              "  </script>\n",
              "</div>\n",
              "    </div>\n",
              "  </div>\n"
            ]
          },
          "metadata": {},
          "execution_count": 2
        }
      ]
    },
    {
      "cell_type": "code",
      "metadata": {
        "id": "ksBSsFey8HjZ",
        "colab": {
          "base_uri": "https://localhost:8080/",
          "height": 300
        },
        "outputId": "c6c5440f-09a5-4c5e-dd71-47154a93f150"
      },
      "source": [
        "#vendo a descrição destes dados (média, mediana, quartis, desvio padrão, etc)\n",
        "dados.describe()"
      ],
      "execution_count": 3,
      "outputs": [
        {
          "output_type": "execute_result",
          "data": {
            "text/plain": [
              "       Cliente BB (anos)  PONTUACAO_ROC     NT_RISCO  CLUSTER_STD\n",
              "count        1762.000000    1762.000000  1762.000000  1762.000000\n",
              "mean           17.412617      -3.023757    -2.132451     2.010783\n",
              "std             6.183032       0.688946     1.702001     1.589430\n",
              "min             0.363889      -7.930000    -7.227377     0.000000\n",
              "25%            15.006250      -3.070000    -3.029782     0.000000\n",
              "50%            15.759722      -2.830000    -2.013746     2.000000\n",
              "75%            18.740972      -2.690000    -1.004009     4.000000\n",
              "max            50.522222      -1.750000     0.000000     4.000000"
            ],
            "text/html": [
              "\n",
              "  <div id=\"df-7f8b9b6f-3ca1-4b10-83ef-ffa62536459d\" class=\"colab-df-container\">\n",
              "    <div>\n",
              "<style scoped>\n",
              "    .dataframe tbody tr th:only-of-type {\n",
              "        vertical-align: middle;\n",
              "    }\n",
              "\n",
              "    .dataframe tbody tr th {\n",
              "        vertical-align: top;\n",
              "    }\n",
              "\n",
              "    .dataframe thead th {\n",
              "        text-align: right;\n",
              "    }\n",
              "</style>\n",
              "<table border=\"1\" class=\"dataframe\">\n",
              "  <thead>\n",
              "    <tr style=\"text-align: right;\">\n",
              "      <th></th>\n",
              "      <th>Cliente BB (anos)</th>\n",
              "      <th>PONTUACAO_ROC</th>\n",
              "      <th>NT_RISCO</th>\n",
              "      <th>CLUSTER_STD</th>\n",
              "    </tr>\n",
              "  </thead>\n",
              "  <tbody>\n",
              "    <tr>\n",
              "      <th>count</th>\n",
              "      <td>1762.000000</td>\n",
              "      <td>1762.000000</td>\n",
              "      <td>1762.000000</td>\n",
              "      <td>1762.000000</td>\n",
              "    </tr>\n",
              "    <tr>\n",
              "      <th>mean</th>\n",
              "      <td>17.412617</td>\n",
              "      <td>-3.023757</td>\n",
              "      <td>-2.132451</td>\n",
              "      <td>2.010783</td>\n",
              "    </tr>\n",
              "    <tr>\n",
              "      <th>std</th>\n",
              "      <td>6.183032</td>\n",
              "      <td>0.688946</td>\n",
              "      <td>1.702001</td>\n",
              "      <td>1.589430</td>\n",
              "    </tr>\n",
              "    <tr>\n",
              "      <th>min</th>\n",
              "      <td>0.363889</td>\n",
              "      <td>-7.930000</td>\n",
              "      <td>-7.227377</td>\n",
              "      <td>0.000000</td>\n",
              "    </tr>\n",
              "    <tr>\n",
              "      <th>25%</th>\n",
              "      <td>15.006250</td>\n",
              "      <td>-3.070000</td>\n",
              "      <td>-3.029782</td>\n",
              "      <td>0.000000</td>\n",
              "    </tr>\n",
              "    <tr>\n",
              "      <th>50%</th>\n",
              "      <td>15.759722</td>\n",
              "      <td>-2.830000</td>\n",
              "      <td>-2.013746</td>\n",
              "      <td>2.000000</td>\n",
              "    </tr>\n",
              "    <tr>\n",
              "      <th>75%</th>\n",
              "      <td>18.740972</td>\n",
              "      <td>-2.690000</td>\n",
              "      <td>-1.004009</td>\n",
              "      <td>4.000000</td>\n",
              "    </tr>\n",
              "    <tr>\n",
              "      <th>max</th>\n",
              "      <td>50.522222</td>\n",
              "      <td>-1.750000</td>\n",
              "      <td>0.000000</td>\n",
              "      <td>4.000000</td>\n",
              "    </tr>\n",
              "  </tbody>\n",
              "</table>\n",
              "</div>\n",
              "    <div class=\"colab-df-buttons\">\n",
              "\n",
              "  <div class=\"colab-df-container\">\n",
              "    <button class=\"colab-df-convert\" onclick=\"convertToInteractive('df-7f8b9b6f-3ca1-4b10-83ef-ffa62536459d')\"\n",
              "            title=\"Convert this dataframe to an interactive table.\"\n",
              "            style=\"display:none;\">\n",
              "\n",
              "  <svg xmlns=\"http://www.w3.org/2000/svg\" height=\"24px\" viewBox=\"0 -960 960 960\">\n",
              "    <path d=\"M120-120v-720h720v720H120Zm60-500h600v-160H180v160Zm220 220h160v-160H400v160Zm0 220h160v-160H400v160ZM180-400h160v-160H180v160Zm440 0h160v-160H620v160ZM180-180h160v-160H180v160Zm440 0h160v-160H620v160Z\"/>\n",
              "  </svg>\n",
              "    </button>\n",
              "\n",
              "  <style>\n",
              "    .colab-df-container {\n",
              "      display:flex;\n",
              "      gap: 12px;\n",
              "    }\n",
              "\n",
              "    .colab-df-convert {\n",
              "      background-color: #E8F0FE;\n",
              "      border: none;\n",
              "      border-radius: 50%;\n",
              "      cursor: pointer;\n",
              "      display: none;\n",
              "      fill: #1967D2;\n",
              "      height: 32px;\n",
              "      padding: 0 0 0 0;\n",
              "      width: 32px;\n",
              "    }\n",
              "\n",
              "    .colab-df-convert:hover {\n",
              "      background-color: #E2EBFA;\n",
              "      box-shadow: 0px 1px 2px rgba(60, 64, 67, 0.3), 0px 1px 3px 1px rgba(60, 64, 67, 0.15);\n",
              "      fill: #174EA6;\n",
              "    }\n",
              "\n",
              "    .colab-df-buttons div {\n",
              "      margin-bottom: 4px;\n",
              "    }\n",
              "\n",
              "    [theme=dark] .colab-df-convert {\n",
              "      background-color: #3B4455;\n",
              "      fill: #D2E3FC;\n",
              "    }\n",
              "\n",
              "    [theme=dark] .colab-df-convert:hover {\n",
              "      background-color: #434B5C;\n",
              "      box-shadow: 0px 1px 3px 1px rgba(0, 0, 0, 0.15);\n",
              "      filter: drop-shadow(0px 1px 2px rgba(0, 0, 0, 0.3));\n",
              "      fill: #FFFFFF;\n",
              "    }\n",
              "  </style>\n",
              "\n",
              "    <script>\n",
              "      const buttonEl =\n",
              "        document.querySelector('#df-7f8b9b6f-3ca1-4b10-83ef-ffa62536459d button.colab-df-convert');\n",
              "      buttonEl.style.display =\n",
              "        google.colab.kernel.accessAllowed ? 'block' : 'none';\n",
              "\n",
              "      async function convertToInteractive(key) {\n",
              "        const element = document.querySelector('#df-7f8b9b6f-3ca1-4b10-83ef-ffa62536459d');\n",
              "        const dataTable =\n",
              "          await google.colab.kernel.invokeFunction('convertToInteractive',\n",
              "                                                    [key], {});\n",
              "        if (!dataTable) return;\n",
              "\n",
              "        const docLinkHtml = 'Like what you see? Visit the ' +\n",
              "          '<a target=\"_blank\" href=https://colab.research.google.com/notebooks/data_table.ipynb>data table notebook</a>'\n",
              "          + ' to learn more about interactive tables.';\n",
              "        element.innerHTML = '';\n",
              "        dataTable['output_type'] = 'display_data';\n",
              "        await google.colab.output.renderOutput(dataTable, element);\n",
              "        const docLink = document.createElement('div');\n",
              "        docLink.innerHTML = docLinkHtml;\n",
              "        element.appendChild(docLink);\n",
              "      }\n",
              "    </script>\n",
              "  </div>\n",
              "\n",
              "\n",
              "<div id=\"df-58ff2db9-e180-474b-b336-ca73a4aed5b6\">\n",
              "  <button class=\"colab-df-quickchart\" onclick=\"quickchart('df-58ff2db9-e180-474b-b336-ca73a4aed5b6')\"\n",
              "            title=\"Suggest charts.\"\n",
              "            style=\"display:none;\">\n",
              "\n",
              "<svg xmlns=\"http://www.w3.org/2000/svg\" height=\"24px\"viewBox=\"0 0 24 24\"\n",
              "     width=\"24px\">\n",
              "    <g>\n",
              "        <path d=\"M19 3H5c-1.1 0-2 .9-2 2v14c0 1.1.9 2 2 2h14c1.1 0 2-.9 2-2V5c0-1.1-.9-2-2-2zM9 17H7v-7h2v7zm4 0h-2V7h2v10zm4 0h-2v-4h2v4z\"/>\n",
              "    </g>\n",
              "</svg>\n",
              "  </button>\n",
              "\n",
              "<style>\n",
              "  .colab-df-quickchart {\n",
              "      --bg-color: #E8F0FE;\n",
              "      --fill-color: #1967D2;\n",
              "      --hover-bg-color: #E2EBFA;\n",
              "      --hover-fill-color: #174EA6;\n",
              "      --disabled-fill-color: #AAA;\n",
              "      --disabled-bg-color: #DDD;\n",
              "  }\n",
              "\n",
              "  [theme=dark] .colab-df-quickchart {\n",
              "      --bg-color: #3B4455;\n",
              "      --fill-color: #D2E3FC;\n",
              "      --hover-bg-color: #434B5C;\n",
              "      --hover-fill-color: #FFFFFF;\n",
              "      --disabled-bg-color: #3B4455;\n",
              "      --disabled-fill-color: #666;\n",
              "  }\n",
              "\n",
              "  .colab-df-quickchart {\n",
              "    background-color: var(--bg-color);\n",
              "    border: none;\n",
              "    border-radius: 50%;\n",
              "    cursor: pointer;\n",
              "    display: none;\n",
              "    fill: var(--fill-color);\n",
              "    height: 32px;\n",
              "    padding: 0;\n",
              "    width: 32px;\n",
              "  }\n",
              "\n",
              "  .colab-df-quickchart:hover {\n",
              "    background-color: var(--hover-bg-color);\n",
              "    box-shadow: 0 1px 2px rgba(60, 64, 67, 0.3), 0 1px 3px 1px rgba(60, 64, 67, 0.15);\n",
              "    fill: var(--button-hover-fill-color);\n",
              "  }\n",
              "\n",
              "  .colab-df-quickchart-complete:disabled,\n",
              "  .colab-df-quickchart-complete:disabled:hover {\n",
              "    background-color: var(--disabled-bg-color);\n",
              "    fill: var(--disabled-fill-color);\n",
              "    box-shadow: none;\n",
              "  }\n",
              "\n",
              "  .colab-df-spinner {\n",
              "    border: 2px solid var(--fill-color);\n",
              "    border-color: transparent;\n",
              "    border-bottom-color: var(--fill-color);\n",
              "    animation:\n",
              "      spin 1s steps(1) infinite;\n",
              "  }\n",
              "\n",
              "  @keyframes spin {\n",
              "    0% {\n",
              "      border-color: transparent;\n",
              "      border-bottom-color: var(--fill-color);\n",
              "      border-left-color: var(--fill-color);\n",
              "    }\n",
              "    20% {\n",
              "      border-color: transparent;\n",
              "      border-left-color: var(--fill-color);\n",
              "      border-top-color: var(--fill-color);\n",
              "    }\n",
              "    30% {\n",
              "      border-color: transparent;\n",
              "      border-left-color: var(--fill-color);\n",
              "      border-top-color: var(--fill-color);\n",
              "      border-right-color: var(--fill-color);\n",
              "    }\n",
              "    40% {\n",
              "      border-color: transparent;\n",
              "      border-right-color: var(--fill-color);\n",
              "      border-top-color: var(--fill-color);\n",
              "    }\n",
              "    60% {\n",
              "      border-color: transparent;\n",
              "      border-right-color: var(--fill-color);\n",
              "    }\n",
              "    80% {\n",
              "      border-color: transparent;\n",
              "      border-right-color: var(--fill-color);\n",
              "      border-bottom-color: var(--fill-color);\n",
              "    }\n",
              "    90% {\n",
              "      border-color: transparent;\n",
              "      border-bottom-color: var(--fill-color);\n",
              "    }\n",
              "  }\n",
              "</style>\n",
              "\n",
              "  <script>\n",
              "    async function quickchart(key) {\n",
              "      const quickchartButtonEl =\n",
              "        document.querySelector('#' + key + ' button');\n",
              "      quickchartButtonEl.disabled = true;  // To prevent multiple clicks.\n",
              "      quickchartButtonEl.classList.add('colab-df-spinner');\n",
              "      try {\n",
              "        const charts = await google.colab.kernel.invokeFunction(\n",
              "            'suggestCharts', [key], {});\n",
              "      } catch (error) {\n",
              "        console.error('Error during call to suggestCharts:', error);\n",
              "      }\n",
              "      quickchartButtonEl.classList.remove('colab-df-spinner');\n",
              "      quickchartButtonEl.classList.add('colab-df-quickchart-complete');\n",
              "    }\n",
              "    (() => {\n",
              "      let quickchartButtonEl =\n",
              "        document.querySelector('#df-58ff2db9-e180-474b-b336-ca73a4aed5b6 button');\n",
              "      quickchartButtonEl.style.display =\n",
              "        google.colab.kernel.accessAllowed ? 'block' : 'none';\n",
              "    })();\n",
              "  </script>\n",
              "</div>\n",
              "    </div>\n",
              "  </div>\n"
            ]
          },
          "metadata": {},
          "execution_count": 3
        }
      ]
    },
    {
      "cell_type": "code",
      "source": [
        "dados['MEDIA_DADOS_NUMERICOS'] = dados[['Cliente BB (anos)', 'PONTUACAO_ROC',\t'NT_RISCO']].mean(axis=1)\n",
        "dados.head()"
      ],
      "metadata": {
        "colab": {
          "base_uri": "https://localhost:8080/",
          "height": 237
        },
        "id": "T3CjUCXBaWsL",
        "outputId": "9c254914-76c6-4f28-ea63-8b1d4354b919"
      },
      "execution_count": 42,
      "outputs": [
        {
          "output_type": "execute_result",
          "data": {
            "text/plain": [
              "    Cliente BB (anos)  PONTUACAO_ROC  NT_RISCO  OP_C_PAISES_EM_LISTA_REST  \\\n",
              "ID                                                                          \n",
              "1           15.583333          -2.72 -1.017755                      False   \n",
              "2           27.052778          -2.63 -4.037228                       True   \n",
              "3           15.955556          -2.57 -0.000573                       True   \n",
              "4           24.477778          -3.07 -0.001145                      False   \n",
              "5           24.555556          -3.18 -2.022910                       True   \n",
              "\n",
              "    CLUSTER_STD  MEDIA_DADOS_NUMERICOS  \n",
              "ID                                      \n",
              "1             4               3.948526  \n",
              "2             2               6.795183  \n",
              "3             4               4.461661  \n",
              "4             2               7.135544  \n",
              "5             2               6.450882  "
            ],
            "text/html": [
              "\n",
              "  <div id=\"df-f1258265-5786-4c53-8b95-857fb6867e8b\" class=\"colab-df-container\">\n",
              "    <div>\n",
              "<style scoped>\n",
              "    .dataframe tbody tr th:only-of-type {\n",
              "        vertical-align: middle;\n",
              "    }\n",
              "\n",
              "    .dataframe tbody tr th {\n",
              "        vertical-align: top;\n",
              "    }\n",
              "\n",
              "    .dataframe thead th {\n",
              "        text-align: right;\n",
              "    }\n",
              "</style>\n",
              "<table border=\"1\" class=\"dataframe\">\n",
              "  <thead>\n",
              "    <tr style=\"text-align: right;\">\n",
              "      <th></th>\n",
              "      <th>Cliente BB (anos)</th>\n",
              "      <th>PONTUACAO_ROC</th>\n",
              "      <th>NT_RISCO</th>\n",
              "      <th>OP_C_PAISES_EM_LISTA_REST</th>\n",
              "      <th>CLUSTER_STD</th>\n",
              "      <th>MEDIA_DADOS_NUMERICOS</th>\n",
              "    </tr>\n",
              "    <tr>\n",
              "      <th>ID</th>\n",
              "      <th></th>\n",
              "      <th></th>\n",
              "      <th></th>\n",
              "      <th></th>\n",
              "      <th></th>\n",
              "      <th></th>\n",
              "    </tr>\n",
              "  </thead>\n",
              "  <tbody>\n",
              "    <tr>\n",
              "      <th>1</th>\n",
              "      <td>15.583333</td>\n",
              "      <td>-2.72</td>\n",
              "      <td>-1.017755</td>\n",
              "      <td>False</td>\n",
              "      <td>4</td>\n",
              "      <td>3.948526</td>\n",
              "    </tr>\n",
              "    <tr>\n",
              "      <th>2</th>\n",
              "      <td>27.052778</td>\n",
              "      <td>-2.63</td>\n",
              "      <td>-4.037228</td>\n",
              "      <td>True</td>\n",
              "      <td>2</td>\n",
              "      <td>6.795183</td>\n",
              "    </tr>\n",
              "    <tr>\n",
              "      <th>3</th>\n",
              "      <td>15.955556</td>\n",
              "      <td>-2.57</td>\n",
              "      <td>-0.000573</td>\n",
              "      <td>True</td>\n",
              "      <td>4</td>\n",
              "      <td>4.461661</td>\n",
              "    </tr>\n",
              "    <tr>\n",
              "      <th>4</th>\n",
              "      <td>24.477778</td>\n",
              "      <td>-3.07</td>\n",
              "      <td>-0.001145</td>\n",
              "      <td>False</td>\n",
              "      <td>2</td>\n",
              "      <td>7.135544</td>\n",
              "    </tr>\n",
              "    <tr>\n",
              "      <th>5</th>\n",
              "      <td>24.555556</td>\n",
              "      <td>-3.18</td>\n",
              "      <td>-2.022910</td>\n",
              "      <td>True</td>\n",
              "      <td>2</td>\n",
              "      <td>6.450882</td>\n",
              "    </tr>\n",
              "  </tbody>\n",
              "</table>\n",
              "</div>\n",
              "    <div class=\"colab-df-buttons\">\n",
              "\n",
              "  <div class=\"colab-df-container\">\n",
              "    <button class=\"colab-df-convert\" onclick=\"convertToInteractive('df-f1258265-5786-4c53-8b95-857fb6867e8b')\"\n",
              "            title=\"Convert this dataframe to an interactive table.\"\n",
              "            style=\"display:none;\">\n",
              "\n",
              "  <svg xmlns=\"http://www.w3.org/2000/svg\" height=\"24px\" viewBox=\"0 -960 960 960\">\n",
              "    <path d=\"M120-120v-720h720v720H120Zm60-500h600v-160H180v160Zm220 220h160v-160H400v160Zm0 220h160v-160H400v160ZM180-400h160v-160H180v160Zm440 0h160v-160H620v160ZM180-180h160v-160H180v160Zm440 0h160v-160H620v160Z\"/>\n",
              "  </svg>\n",
              "    </button>\n",
              "\n",
              "  <style>\n",
              "    .colab-df-container {\n",
              "      display:flex;\n",
              "      gap: 12px;\n",
              "    }\n",
              "\n",
              "    .colab-df-convert {\n",
              "      background-color: #E8F0FE;\n",
              "      border: none;\n",
              "      border-radius: 50%;\n",
              "      cursor: pointer;\n",
              "      display: none;\n",
              "      fill: #1967D2;\n",
              "      height: 32px;\n",
              "      padding: 0 0 0 0;\n",
              "      width: 32px;\n",
              "    }\n",
              "\n",
              "    .colab-df-convert:hover {\n",
              "      background-color: #E2EBFA;\n",
              "      box-shadow: 0px 1px 2px rgba(60, 64, 67, 0.3), 0px 1px 3px 1px rgba(60, 64, 67, 0.15);\n",
              "      fill: #174EA6;\n",
              "    }\n",
              "\n",
              "    .colab-df-buttons div {\n",
              "      margin-bottom: 4px;\n",
              "    }\n",
              "\n",
              "    [theme=dark] .colab-df-convert {\n",
              "      background-color: #3B4455;\n",
              "      fill: #D2E3FC;\n",
              "    }\n",
              "\n",
              "    [theme=dark] .colab-df-convert:hover {\n",
              "      background-color: #434B5C;\n",
              "      box-shadow: 0px 1px 3px 1px rgba(0, 0, 0, 0.15);\n",
              "      filter: drop-shadow(0px 1px 2px rgba(0, 0, 0, 0.3));\n",
              "      fill: #FFFFFF;\n",
              "    }\n",
              "  </style>\n",
              "\n",
              "    <script>\n",
              "      const buttonEl =\n",
              "        document.querySelector('#df-f1258265-5786-4c53-8b95-857fb6867e8b button.colab-df-convert');\n",
              "      buttonEl.style.display =\n",
              "        google.colab.kernel.accessAllowed ? 'block' : 'none';\n",
              "\n",
              "      async function convertToInteractive(key) {\n",
              "        const element = document.querySelector('#df-f1258265-5786-4c53-8b95-857fb6867e8b');\n",
              "        const dataTable =\n",
              "          await google.colab.kernel.invokeFunction('convertToInteractive',\n",
              "                                                    [key], {});\n",
              "        if (!dataTable) return;\n",
              "\n",
              "        const docLinkHtml = 'Like what you see? Visit the ' +\n",
              "          '<a target=\"_blank\" href=https://colab.research.google.com/notebooks/data_table.ipynb>data table notebook</a>'\n",
              "          + ' to learn more about interactive tables.';\n",
              "        element.innerHTML = '';\n",
              "        dataTable['output_type'] = 'display_data';\n",
              "        await google.colab.output.renderOutput(dataTable, element);\n",
              "        const docLink = document.createElement('div');\n",
              "        docLink.innerHTML = docLinkHtml;\n",
              "        element.appendChild(docLink);\n",
              "      }\n",
              "    </script>\n",
              "  </div>\n",
              "\n",
              "\n",
              "<div id=\"df-ac19616d-63bc-4069-91fb-6a07d8e8fd8c\">\n",
              "  <button class=\"colab-df-quickchart\" onclick=\"quickchart('df-ac19616d-63bc-4069-91fb-6a07d8e8fd8c')\"\n",
              "            title=\"Suggest charts.\"\n",
              "            style=\"display:none;\">\n",
              "\n",
              "<svg xmlns=\"http://www.w3.org/2000/svg\" height=\"24px\"viewBox=\"0 0 24 24\"\n",
              "     width=\"24px\">\n",
              "    <g>\n",
              "        <path d=\"M19 3H5c-1.1 0-2 .9-2 2v14c0 1.1.9 2 2 2h14c1.1 0 2-.9 2-2V5c0-1.1-.9-2-2-2zM9 17H7v-7h2v7zm4 0h-2V7h2v10zm4 0h-2v-4h2v4z\"/>\n",
              "    </g>\n",
              "</svg>\n",
              "  </button>\n",
              "\n",
              "<style>\n",
              "  .colab-df-quickchart {\n",
              "      --bg-color: #E8F0FE;\n",
              "      --fill-color: #1967D2;\n",
              "      --hover-bg-color: #E2EBFA;\n",
              "      --hover-fill-color: #174EA6;\n",
              "      --disabled-fill-color: #AAA;\n",
              "      --disabled-bg-color: #DDD;\n",
              "  }\n",
              "\n",
              "  [theme=dark] .colab-df-quickchart {\n",
              "      --bg-color: #3B4455;\n",
              "      --fill-color: #D2E3FC;\n",
              "      --hover-bg-color: #434B5C;\n",
              "      --hover-fill-color: #FFFFFF;\n",
              "      --disabled-bg-color: #3B4455;\n",
              "      --disabled-fill-color: #666;\n",
              "  }\n",
              "\n",
              "  .colab-df-quickchart {\n",
              "    background-color: var(--bg-color);\n",
              "    border: none;\n",
              "    border-radius: 50%;\n",
              "    cursor: pointer;\n",
              "    display: none;\n",
              "    fill: var(--fill-color);\n",
              "    height: 32px;\n",
              "    padding: 0;\n",
              "    width: 32px;\n",
              "  }\n",
              "\n",
              "  .colab-df-quickchart:hover {\n",
              "    background-color: var(--hover-bg-color);\n",
              "    box-shadow: 0 1px 2px rgba(60, 64, 67, 0.3), 0 1px 3px 1px rgba(60, 64, 67, 0.15);\n",
              "    fill: var(--button-hover-fill-color);\n",
              "  }\n",
              "\n",
              "  .colab-df-quickchart-complete:disabled,\n",
              "  .colab-df-quickchart-complete:disabled:hover {\n",
              "    background-color: var(--disabled-bg-color);\n",
              "    fill: var(--disabled-fill-color);\n",
              "    box-shadow: none;\n",
              "  }\n",
              "\n",
              "  .colab-df-spinner {\n",
              "    border: 2px solid var(--fill-color);\n",
              "    border-color: transparent;\n",
              "    border-bottom-color: var(--fill-color);\n",
              "    animation:\n",
              "      spin 1s steps(1) infinite;\n",
              "  }\n",
              "\n",
              "  @keyframes spin {\n",
              "    0% {\n",
              "      border-color: transparent;\n",
              "      border-bottom-color: var(--fill-color);\n",
              "      border-left-color: var(--fill-color);\n",
              "    }\n",
              "    20% {\n",
              "      border-color: transparent;\n",
              "      border-left-color: var(--fill-color);\n",
              "      border-top-color: var(--fill-color);\n",
              "    }\n",
              "    30% {\n",
              "      border-color: transparent;\n",
              "      border-left-color: var(--fill-color);\n",
              "      border-top-color: var(--fill-color);\n",
              "      border-right-color: var(--fill-color);\n",
              "    }\n",
              "    40% {\n",
              "      border-color: transparent;\n",
              "      border-right-color: var(--fill-color);\n",
              "      border-top-color: var(--fill-color);\n",
              "    }\n",
              "    60% {\n",
              "      border-color: transparent;\n",
              "      border-right-color: var(--fill-color);\n",
              "    }\n",
              "    80% {\n",
              "      border-color: transparent;\n",
              "      border-right-color: var(--fill-color);\n",
              "      border-bottom-color: var(--fill-color);\n",
              "    }\n",
              "    90% {\n",
              "      border-color: transparent;\n",
              "      border-bottom-color: var(--fill-color);\n",
              "    }\n",
              "  }\n",
              "</style>\n",
              "\n",
              "  <script>\n",
              "    async function quickchart(key) {\n",
              "      const quickchartButtonEl =\n",
              "        document.querySelector('#' + key + ' button');\n",
              "      quickchartButtonEl.disabled = true;  // To prevent multiple clicks.\n",
              "      quickchartButtonEl.classList.add('colab-df-spinner');\n",
              "      try {\n",
              "        const charts = await google.colab.kernel.invokeFunction(\n",
              "            'suggestCharts', [key], {});\n",
              "      } catch (error) {\n",
              "        console.error('Error during call to suggestCharts:', error);\n",
              "      }\n",
              "      quickchartButtonEl.classList.remove('colab-df-spinner');\n",
              "      quickchartButtonEl.classList.add('colab-df-quickchart-complete');\n",
              "    }\n",
              "    (() => {\n",
              "      let quickchartButtonEl =\n",
              "        document.querySelector('#df-ac19616d-63bc-4069-91fb-6a07d8e8fd8c button');\n",
              "      quickchartButtonEl.style.display =\n",
              "        google.colab.kernel.accessAllowed ? 'block' : 'none';\n",
              "    })();\n",
              "  </script>\n",
              "</div>\n",
              "    </div>\n",
              "  </div>\n"
            ]
          },
          "metadata": {},
          "execution_count": 42
        }
      ]
    },
    {
      "cell_type": "code",
      "metadata": {
        "id": "BAAv9J6W9PTU",
        "colab": {
          "base_uri": "https://localhost:8080/",
          "height": 546
        },
        "outputId": "6dff53c0-4f12-4859-8feb-fa33ca676a58"
      },
      "source": [
        "#visualizando a distribuição ROC\n",
        "ax = sns.displot(dados['PONTUACAO_ROC'])\n",
        "ax.set(xlabel='Pontuação ROC', ylabel='densidade', title= 'Média de Risco Operacional Cliente')\n"
      ],
      "execution_count": 43,
      "outputs": [
        {
          "output_type": "execute_result",
          "data": {
            "text/plain": [
              "<seaborn.axisgrid.FacetGrid at 0x7cf7b2c35510>"
            ]
          },
          "metadata": {},
          "execution_count": 43
        },
        {
          "output_type": "display_data",
          "data": {
            "text/plain": [
              "<Figure size 500x500 with 1 Axes>"
            ],
            "image/png": "[encoded data removed]"
          },
          "metadata": {}
        }
      ]
    },
    {
      "cell_type": "code",
      "metadata": {
        "id": "5lxSctqy9YRv",
        "colab": {
          "base_uri": "https://localhost:8080/",
          "height": 524
        },
        "outputId": "40d9e787-3d33-473b-b056-38a447d4f759"
      },
      "source": [
        "#visualizando a distribuição de NT_RISCO\n",
        "ax = sns.histplot(dados['NT_RISCO'])\n",
        "ax.set(xlabel='NT_RISCO', ylabel='densidade', title= 'Média de Risco')"
      ],
      "execution_count": 44,
      "outputs": [
        {
          "output_type": "execute_result",
          "data": {
            "text/plain": [
              "[Text(0.5, 0, 'NT_RISCO'),\n",
              " Text(0, 0.5, 'densidade'),\n",
              " Text(0.5, 1.0, 'Média de Risco')]"
            ]
          },
          "metadata": {},
          "execution_count": 44
        },
        {
          "output_type": "display_data",
          "data": {
            "text/plain": [
              "<Figure size 640x480 with 1 Axes>"
            ],
            "image/png": "[encoded data removed]"
          },
          "metadata": {}
        }
      ]
    },
    {
      "cell_type": "code",
      "source": [
        "#visualizando a distribuição de Tempo Cliente\n",
        "ax = sns.histplot(dados['Cliente BB (anos)'])\n",
        "ax.set(xlabel='Cliente BB (anos)', ylabel='densidade', title= 'Média de Tempo de Banco')"
      ],
      "metadata": {
        "colab": {
          "base_uri": "https://localhost:8080/",
          "height": 524
        },
        "id": "TcSIkHwff3GP",
        "outputId": "5a6439c5-4593-4e7b-c265-787ca4c3d1ec"
      },
      "execution_count": 45,
      "outputs": [
        {
          "output_type": "execute_result",
          "data": {
            "text/plain": [
              "[Text(0.5, 0, 'Cliente BB (anos)'),\n",
              " Text(0, 0.5, 'densidade'),\n",
              " Text(0.5, 1.0, 'Média de Tempo de Banco')]"
            ]
          },
          "metadata": {},
          "execution_count": 45
        },
        {
          "output_type": "display_data",
          "data": {
            "text/plain": [
              "<Figure size 640x480 with 1 Axes>"
            ],
            "image/png": "[encoded data removed]"
          },
          "metadata": {}
        }
      ]
    },
    {
      "cell_type": "code",
      "metadata": {
        "id": "FV1xJ9GJ-EBQ",
        "colab": {
          "base_uri": "https://localhost:8080/",
          "height": 572
        },
        "outputId": "4aaa0ae5-4b1e-4c2e-8e83-487275d0c3a7"
      },
      "source": [
        "#Vendo o BoxPlot da média da Pontuação ROC\n",
        "plt.figure(figsize=(12,6))\n",
        "ax = sns.boxplot(dados[['PONTUACAO_ROC']], orient=\"h\" )\n",
        "ax.set(xlabel='Pontuação ROF')\n",
        "ax.set_title('Distribuição de Pontuação ROC', fontsize=20)\n",
        "plt.show()\n"
      ],
      "execution_count": 46,
      "outputs": [
        {
          "output_type": "display_data",
          "data": {
            "text/plain": [
              "<Figure size 1200x600 with 1 Axes>"
            ],
            "image/png": "[encoded data removed]"
          },
          "metadata": {}
        }
      ]
    },
    {
      "cell_type": "code",
      "source": [
        "#Vendo o BoxPlot da média da NT_RISCO\n",
        "plt.figure(figsize=(12,6))\n",
        "ax = sns.boxplot(dados[['NT_RISCO']], orient=\"h\" )\n",
        "ax.set(ylabel='Nota Risco')\n",
        "ax.set_title('Distribuição de Nota Risco', fontsize=20)\n",
        "plt.show()"
      ],
      "metadata": {
        "colab": {
          "base_uri": "https://localhost:8080/",
          "height": 553
        },
        "id": "y4c21cJJg5-K",
        "outputId": "bdef757e-2391-4544-cd34-773b91294268"
      },
      "execution_count": 47,
      "outputs": [
        {
          "output_type": "display_data",
          "data": {
            "text/plain": [
              "<Figure size 1200x600 with 1 Axes>"
            ],
            "image/png": "[encoded data removed]"
          },
          "metadata": {}
        }
      ]
    },
    {
      "cell_type": "code",
      "source": [
        "#Vendo o BoxPlot da média da Tempo Cliente\n",
        "plt.figure(figsize=(12,6))\n",
        "ax = sns.boxplot(dados[['Cliente BB (anos)']], orient=\"h\" )\n",
        "ax.set(ylabel='Tempo Cliente')\n",
        "ax.set_title('Distribuição de Tempo Cliente', fontsize=20)\n",
        "plt.show()"
      ],
      "metadata": {
        "colab": {
          "base_uri": "https://localhost:8080/",
          "height": 553
        },
        "id": "6gu9W0ulg6QJ",
        "outputId": "4774786c-0d1b-4cfa-e6c5-f60efc57f7e5"
      },
      "execution_count": 48,
      "outputs": [
        {
          "output_type": "display_data",
          "data": {
            "text/plain": [
              "<Figure size 1200x600 with 1 Axes>"
            ],
            "image/png": "[encoded data removed]"
          },
          "metadata": {}
        }
      ]
    },
    {
      "cell_type": "code",
      "metadata": {
        "id": "8PDlEBro-gnd",
        "colab": {
          "base_uri": "https://localhost:8080/",
          "height": 237
        },
        "outputId": "087dca01-e5d9-4496-ba86-c2c027cf6363"
      },
      "source": [
        "#Visualizando clientes cluster 0\n",
        "grupo_0 = dados.query(\"CLUSTER_STD == 0\").drop('CLUSTER_STD', axis=1)\n",
        "grupo_1 = dados.query(\"CLUSTER_STD == 1\").drop('CLUSTER_STD', axis=1)\n",
        "grupo_2 = dados.query(\"CLUSTER_STD == 2\").drop('CLUSTER_STD', axis=1)\n",
        "grupo_3 = dados.query(\"CLUSTER_STD == 3\").drop('CLUSTER_STD', axis=1)\n",
        "grupo_4 = dados.query(\"CLUSTER_STD == 4\").drop('CLUSTER_STD', axis=1)\n",
        "grupo_0.head()"
      ],
      "execution_count": 49,
      "outputs": [
        {
          "output_type": "execute_result",
          "data": {
            "text/plain": [
              "    Cliente BB (anos)  PONTUACAO_ROC  NT_RISCO  OP_C_PAISES_EM_LISTA_REST  \\\n",
              "ID                                                                          \n",
              "6           20.208333          -2.63 -3.005155                       True   \n",
              "10          15.925000          -2.74 -3.013746                      False   \n",
              "14          20.350000          -2.86 -2.008591                       True   \n",
              "15          18.727778          -2.73 -2.021191                      False   \n",
              "17          18.463889          -2.89 -3.032073                      False   \n",
              "\n",
              "    MEDIA_DADOS_NUMERICOS  \n",
              "ID                         \n",
              "6                4.857726  \n",
              "10               3.390418  \n",
              "14               5.160470  \n",
              "15               4.658862  \n",
              "17               4.180605  "
            ],
            "text/html": [
              "\n",
              "  <div id=\"df-37c1a45a-b1ce-4d88-be69-9e36109a633f\" class=\"colab-df-container\">\n",
              "    <div>\n",
              "<style scoped>\n",
              "    .dataframe tbody tr th:only-of-type {\n",
              "        vertical-align: middle;\n",
              "    }\n",
              "\n",
              "    .dataframe tbody tr th {\n",
              "        vertical-align: top;\n",
              "    }\n",
              "\n",
              "    .dataframe thead th {\n",
              "        text-align: right;\n",
              "    }\n",
              "</style>\n",
              "<table border=\"1\" class=\"dataframe\">\n",
              "  <thead>\n",
              "    <tr style=\"text-align: right;\">\n",
              "      <th></th>\n",
              "      <th>Cliente BB (anos)</th>\n",
              "      <th>PONTUACAO_ROC</th>\n",
              "      <th>NT_RISCO</th>\n",
              "      <th>OP_C_PAISES_EM_LISTA_REST</th>\n",
              "      <th>MEDIA_DADOS_NUMERICOS</th>\n",
              "    </tr>\n",
              "    <tr>\n",
              "      <th>ID</th>\n",
              "      <th></th>\n",
              "      <th></th>\n",
              "      <th></th>\n",
              "      <th></th>\n",
              "      <th></th>\n",
              "    </tr>\n",
              "  </thead>\n",
              "  <tbody>\n",
              "    <tr>\n",
              "      <th>6</th>\n",
              "      <td>20.208333</td>\n",
              "      <td>-2.63</td>\n",
              "      <td>-3.005155</td>\n",
              "      <td>True</td>\n",
              "      <td>4.857726</td>\n",
              "    </tr>\n",
              "    <tr>\n",
              "      <th>10</th>\n",
              "      <td>15.925000</td>\n",
              "      <td>-2.74</td>\n",
              "      <td>-3.013746</td>\n",
              "      <td>False</td>\n",
              "      <td>3.390418</td>\n",
              "    </tr>\n",
              "    <tr>\n",
              "      <th>14</th>\n",
              "      <td>20.350000</td>\n",
              "      <td>-2.86</td>\n",
              "      <td>-2.008591</td>\n",
              "      <td>True</td>\n",
              "      <td>5.160470</td>\n",
              "    </tr>\n",
              "    <tr>\n",
              "      <th>15</th>\n",
              "      <td>18.727778</td>\n",
              "      <td>-2.73</td>\n",
              "      <td>-2.021191</td>\n",
              "      <td>False</td>\n",
              "      <td>4.658862</td>\n",
              "    </tr>\n",
              "    <tr>\n",
              "      <th>17</th>\n",
              "      <td>18.463889</td>\n",
              "      <td>-2.89</td>\n",
              "      <td>-3.032073</td>\n",
              "      <td>False</td>\n",
              "      <td>4.180605</td>\n",
              "    </tr>\n",
              "  </tbody>\n",
              "</table>\n",
              "</div>\n",
              "    <div class=\"colab-df-buttons\">\n",
              "\n",
              "  <div class=\"colab-df-container\">\n",
              "    <button class=\"colab-df-convert\" onclick=\"convertToInteractive('df-37c1a45a-b1ce-4d88-be69-9e36109a633f')\"\n",
              "            title=\"Convert this dataframe to an interactive table.\"\n",
              "            style=\"display:none;\">\n",
              "\n",
              "  <svg xmlns=\"http://www.w3.org/2000/svg\" height=\"24px\" viewBox=\"0 -960 960 960\">\n",
              "    <path d=\"M120-120v-720h720v720H120Zm60-500h600v-160H180v160Zm220 220h160v-160H400v160Zm0 220h160v-160H400v160ZM180-400h160v-160H180v160Zm440 0h160v-160H620v160ZM180-180h160v-160H180v160Zm440 0h160v-160H620v160Z\"/>\n",
              "  </svg>\n",
              "    </button>\n",
              "\n",
              "  <style>\n",
              "    .colab-df-container {\n",
              "      display:flex;\n",
              "      gap: 12px;\n",
              "    }\n",
              "\n",
              "    .colab-df-convert {\n",
              "      background-color: #E8F0FE;\n",
              "      border: none;\n",
              "      border-radius: 50%;\n",
              "      cursor: pointer;\n",
              "      display: none;\n",
              "      fill: #1967D2;\n",
              "      height: 32px;\n",
              "      padding: 0 0 0 0;\n",
              "      width: 32px;\n",
              "    }\n",
              "\n",
              "    .colab-df-convert:hover {\n",
              "      background-color: #E2EBFA;\n",
              "      box-shadow: 0px 1px 2px rgba(60, 64, 67, 0.3), 0px 1px 3px 1px rgba(60, 64, 67, 0.15);\n",
              "      fill: #174EA6;\n",
              "    }\n",
              "\n",
              "    .colab-df-buttons div {\n",
              "      margin-bottom: 4px;\n",
              "    }\n",
              "\n",
              "    [theme=dark] .colab-df-convert {\n",
              "      background-color: #3B4455;\n",
              "      fill: #D2E3FC;\n",
              "    }\n",
              "\n",
              "    [theme=dark] .colab-df-convert:hover {\n",
              "      background-color: #434B5C;\n",
              "      box-shadow: 0px 1px 3px 1px rgba(0, 0, 0, 0.15);\n",
              "      filter: drop-shadow(0px 1px 2px rgba(0, 0, 0, 0.3));\n",
              "      fill: #FFFFFF;\n",
              "    }\n",
              "  </style>\n",
              "\n",
              "    <script>\n",
              "      const buttonEl =\n",
              "        document.querySelector('#df-37c1a45a-b1ce-4d88-be69-9e36109a633f button.colab-df-convert');\n",
              "      buttonEl.style.display =\n",
              "        google.colab.kernel.accessAllowed ? 'block' : 'none';\n",
              "\n",
              "      async function convertToInteractive(key) {\n",
              "        const element = document.querySelector('#df-37c1a45a-b1ce-4d88-be69-9e36109a633f');\n",
              "        const dataTable =\n",
              "          await google.colab.kernel.invokeFunction('convertToInteractive',\n",
              "                                                    [key], {});\n",
              "        if (!dataTable) return;\n",
              "\n",
              "        const docLinkHtml = 'Like what you see? Visit the ' +\n",
              "          '<a target=\"_blank\" href=https://colab.research.google.com/notebooks/data_table.ipynb>data table notebook</a>'\n",
              "          + ' to learn more about interactive tables.';\n",
              "        element.innerHTML = '';\n",
              "        dataTable['output_type'] = 'display_data';\n",
              "        await google.colab.output.renderOutput(dataTable, element);\n",
              "        const docLink = document.createElement('div');\n",
              "        docLink.innerHTML = docLinkHtml;\n",
              "        element.appendChild(docLink);\n",
              "      }\n",
              "    </script>\n",
              "  </div>\n",
              "\n",
              "\n",
              "<div id=\"df-ae301e3c-2bc9-4bce-90db-9a115207afde\">\n",
              "  <button class=\"colab-df-quickchart\" onclick=\"quickchart('df-ae301e3c-2bc9-4bce-90db-9a115207afde')\"\n",
              "            title=\"Suggest charts.\"\n",
              "            style=\"display:none;\">\n",
              "\n",
              "<svg xmlns=\"http://www.w3.org/2000/svg\" height=\"24px\"viewBox=\"0 0 24 24\"\n",
              "     width=\"24px\">\n",
              "    <g>\n",
              "        <path d=\"M19 3H5c-1.1 0-2 .9-2 2v14c0 1.1.9 2 2 2h14c1.1 0 2-.9 2-2V5c0-1.1-.9-2-2-2zM9 17H7v-7h2v7zm4 0h-2V7h2v10zm4 0h-2v-4h2v4z\"/>\n",
              "    </g>\n",
              "</svg>\n",
              "  </button>\n",
              "\n",
              "<style>\n",
              "  .colab-df-quickchart {\n",
              "      --bg-color: #E8F0FE;\n",
              "      --fill-color: #1967D2;\n",
              "      --hover-bg-color: #E2EBFA;\n",
              "      --hover-fill-color: #174EA6;\n",
              "      --disabled-fill-color: #AAA;\n",
              "      --disabled-bg-color: #DDD;\n",
              "  }\n",
              "\n",
              "  [theme=dark] .colab-df-quickchart {\n",
              "      --bg-color: #3B4455;\n",
              "      --fill-color: #D2E3FC;\n",
              "      --hover-bg-color: #434B5C;\n",
              "      --hover-fill-color: #FFFFFF;\n",
              "      --disabled-bg-color: #3B4455;\n",
              "      --disabled-fill-color: #666;\n",
              "  }\n",
              "\n",
              "  .colab-df-quickchart {\n",
              "    background-color: var(--bg-color);\n",
              "    border: none;\n",
              "    border-radius: 50%;\n",
              "    cursor: pointer;\n",
              "    display: none;\n",
              "    fill: var(--fill-color);\n",
              "    height: 32px;\n",
              "    padding: 0;\n",
              "    width: 32px;\n",
              "  }\n",
              "\n",
              "  .colab-df-quickchart:hover {\n",
              "    background-color: var(--hover-bg-color);\n",
              "    box-shadow: 0 1px 2px rgba(60, 64, 67, 0.3), 0 1px 3px 1px rgba(60, 64, 67, 0.15);\n",
              "    fill: var(--button-hover-fill-color);\n",
              "  }\n",
              "\n",
              "  .colab-df-quickchart-complete:disabled,\n",
              "  .colab-df-quickchart-complete:disabled:hover {\n",
              "    background-color: var(--disabled-bg-color);\n",
              "    fill: var(--disabled-fill-color);\n",
              "    box-shadow: none;\n",
              "  }\n",
              "\n",
              "  .colab-df-spinner {\n",
              "    border: 2px solid var(--fill-color);\n",
              "    border-color: transparent;\n",
              "    border-bottom-color: var(--fill-color);\n",
              "    animation:\n",
              "      spin 1s steps(1) infinite;\n",
              "  }\n",
              "\n",
              "  @keyframes spin {\n",
              "    0% {\n",
              "      border-color: transparent;\n",
              "      border-bottom-color: var(--fill-color);\n",
              "      border-left-color: var(--fill-color);\n",
              "    }\n",
              "    20% {\n",
              "      border-color: transparent;\n",
              "      border-left-color: var(--fill-color);\n",
              "      border-top-color: var(--fill-color);\n",
              "    }\n",
              "    30% {\n",
              "      border-color: transparent;\n",
              "      border-left-color: var(--fill-color);\n",
              "      border-top-color: var(--fill-color);\n",
              "      border-right-color: var(--fill-color);\n",
              "    }\n",
              "    40% {\n",
              "      border-color: transparent;\n",
              "      border-right-color: var(--fill-color);\n",
              "      border-top-color: var(--fill-color);\n",
              "    }\n",
              "    60% {\n",
              "      border-color: transparent;\n",
              "      border-right-color: var(--fill-color);\n",
              "    }\n",
              "    80% {\n",
              "      border-color: transparent;\n",
              "      border-right-color: var(--fill-color);\n",
              "      border-bottom-color: var(--fill-color);\n",
              "    }\n",
              "    90% {\n",
              "      border-color: transparent;\n",
              "      border-bottom-color: var(--fill-color);\n",
              "    }\n",
              "  }\n",
              "</style>\n",
              "\n",
              "  <script>\n",
              "    async function quickchart(key) {\n",
              "      const quickchartButtonEl =\n",
              "        document.querySelector('#' + key + ' button');\n",
              "      quickchartButtonEl.disabled = true;  // To prevent multiple clicks.\n",
              "      quickchartButtonEl.classList.add('colab-df-spinner');\n",
              "      try {\n",
              "        const charts = await google.colab.kernel.invokeFunction(\n",
              "            'suggestCharts', [key], {});\n",
              "      } catch (error) {\n",
              "        console.error('Error during call to suggestCharts:', error);\n",
              "      }\n",
              "      quickchartButtonEl.classList.remove('colab-df-spinner');\n",
              "      quickchartButtonEl.classList.add('colab-df-quickchart-complete');\n",
              "    }\n",
              "    (() => {\n",
              "      let quickchartButtonEl =\n",
              "        document.querySelector('#df-ae301e3c-2bc9-4bce-90db-9a115207afde button');\n",
              "      quickchartButtonEl.style.display =\n",
              "        google.colab.kernel.accessAllowed ? 'block' : 'none';\n",
              "    })();\n",
              "  </script>\n",
              "</div>\n",
              "    </div>\n",
              "  </div>\n"
            ]
          },
          "metadata": {},
          "execution_count": 49
        }
      ]
    },
    {
      "cell_type": "code",
      "source": [
        "#Vendo o BoxPlot da média da Média dados numéricos\n",
        "plt.figure(figsize=(12,6))\n",
        "ax = sns.boxplot([dados[['MEDIA_DADOS_NUMERICOS']], grupo_0[['MEDIA_DADOS_NUMERICOS']], grupo_1[['MEDIA_DADOS_NUMERICOS']],\n",
        "                  grupo_2[['MEDIA_DADOS_NUMERICOS']], grupo_3[['MEDIA_DADOS_NUMERICOS']], grupo_4[['MEDIA_DADOS_NUMERICOS']]], orient=\"h\" )\n",
        "ax.set(ylabel='Média dados numéricos')\n",
        "ax.set_title('Distribuição de Média dados numéricos', fontsize=20)\n",
        "plt.show()"
      ],
      "metadata": {
        "colab": {
          "base_uri": "https://localhost:8080/",
          "height": 554
        },
        "id": "0jelQzufb4de",
        "outputId": "5ae18267-5f04-4168-afb1-b68b946611f2"
      },
      "execution_count": 50,
      "outputs": [
        {
          "output_type": "display_data",
          "data": {
            "text/plain": [
              "<Figure size 1200x600 with 1 Axes>"
            ],
            "image/png": "[encoded data removed]"
          },
          "metadata": {}
        }
      ]
    },
    {
      "cell_type": "code",
      "source": [
        "#Vendo o BoxPlot da média da Tempo Cliente\n",
        "plt.figure(figsize=(12,6))\n",
        "ax = sns.boxplot([dados[['Cliente BB (anos)']], grupo_0[['Cliente BB (anos)']], grupo_1[['Cliente BB (anos)']],\n",
        "                  grupo_2[['Cliente BB (anos)']], grupo_3[['Cliente BB (anos)']], grupo_4[['Cliente BB (anos)']]], orient=\"h\" )\n",
        "ax.set(ylabel='Tempo Cliente')\n",
        "ax.set_title('Distribuição de Tempo Cliente', fontsize=20)\n",
        "plt.show()"
      ],
      "metadata": {
        "colab": {
          "base_uri": "https://localhost:8080/",
          "height": 553
        },
        "id": "f2CP4lCaRkkk",
        "outputId": "ba0f28cd-b7f8-420d-dc25-d50a282d9204"
      },
      "execution_count": 31,
      "outputs": [
        {
          "output_type": "display_data",
          "data": {
            "text/plain": [
              "<Figure size 1200x600 with 1 Axes>"
            ],
            "image/png": "[encoded data removed]"
          },
          "metadata": {}
        }
      ]
    },
    {
      "cell_type": "code",
      "source": [
        "#Vendo o BoxPlot da média da Pontuação ROC\n",
        "plt.figure(figsize=(12,6))\n",
        "ax = sns.boxplot([dados[['PONTUACAO_ROC']], grupo_0[['PONTUACAO_ROC']], grupo_1[['PONTUACAO_ROC']],\n",
        "                  grupo_2[['PONTUACAO_ROC']], grupo_3[['PONTUACAO_ROC']], grupo_4[['PONTUACAO_ROC']]], orient=\"h\" )\n",
        "ax.set(ylabel='Pontuação ROC')\n",
        "ax.set_title('Distribuição de Pontuação ROC', fontsize=20)\n",
        "plt.show()"
      ],
      "metadata": {
        "colab": {
          "base_uri": "https://localhost:8080/",
          "height": 553
        },
        "id": "Jxrf8hF8SMvR",
        "outputId": "a7d2a487-c7f0-45f7-c820-8965e48c66b9"
      },
      "execution_count": 32,
      "outputs": [
        {
          "output_type": "display_data",
          "data": {
            "text/plain": [
              "<Figure size 1200x600 with 1 Axes>"
            ],
            "image/png": "[encoded data removed]"
          },
          "metadata": {}
        }
      ]
    },
    {
      "cell_type": "code",
      "source": [
        "#Vendo o BoxPlot da média da Nota Risco\n",
        "plt.figure(figsize=(12,6))\n",
        "ax = sns.boxplot([dados[['NT_RISCO']], grupo_0[['NT_RISCO']], grupo_1[['NT_RISCO']],\n",
        "                  grupo_2[['NT_RISCO']], grupo_3[['NT_RISCO']], grupo_4[['NT_RISCO']]], orient=\"h\" )\n",
        "ax.set(ylabel='Nota Risco')\n",
        "ax.set_title('Distribuição de Nota Risco', fontsize=20)\n",
        "plt.show()"
      ],
      "metadata": {
        "colab": {
          "base_uri": "https://localhost:8080/",
          "height": 553
        },
        "id": "iRNE0vY0TuuJ",
        "outputId": "6ccb3ff5-3b7c-4c5a-926f-9a0569591fb8"
      },
      "execution_count": 33,
      "outputs": [
        {
          "output_type": "display_data",
          "data": {
            "text/plain": [
              "<Figure size 1200x600 with 1 Axes>"
            ],
            "image/png": "[encoded data removed]"
          },
          "metadata": {}
        }
      ]
    },
    {
      "cell_type": "code",
      "metadata": {
        "id": "0ybHyRws-e5L",
        "colab": {
          "base_uri": "https://localhost:8080/"
        },
        "outputId": "34727f94-f5d0-4343-c301-27f47a7a220f"
      },
      "source": [
        " #Média dos dados gerais\n",
        " dados.mean()"
      ],
      "execution_count": 51,
      "outputs": [
        {
          "output_type": "execute_result",
          "data": {
            "text/plain": [
              "Cliente BB (anos)            17.412617\n",
              "PONTUACAO_ROC                -3.023757\n",
              "NT_RISCO                     -2.132451\n",
              "OP_C_PAISES_EM_LISTA_REST     0.639614\n",
              "CLUSTER_STD                   2.010783\n",
              "MEDIA_DADOS_NUMERICOS         4.085470\n",
              "dtype: float64"
            ]
          },
          "metadata": {},
          "execution_count": 51
        }
      ]
    },
    {
      "cell_type": "code",
      "source": [
        "#média dos dados do cluster 0\n",
        "grupo_0.mean()"
      ],
      "metadata": {
        "colab": {
          "base_uri": "https://localhost:8080/"
        },
        "id": "ZlAOaCLDYQHk",
        "outputId": "ae92d388-d036-4216-9e59-8fcda4f9b170"
      },
      "execution_count": 52,
      "outputs": [
        {
          "output_type": "execute_result",
          "data": {
            "text/plain": [
              "Cliente BB (anos)            15.883552\n",
              "PONTUACAO_ROC                -2.849962\n",
              "NT_RISCO                     -2.389065\n",
              "OP_C_PAISES_EM_LISTA_REST     0.648752\n",
              "MEDIA_DADOS_NUMERICOS         3.548175\n",
              "dtype: float64"
            ]
          },
          "metadata": {},
          "execution_count": 52
        }
      ]
    },
    {
      "cell_type": "code",
      "source": [
        "#média dos dados do cluster 1\n",
        "grupo_1.mean()"
      ],
      "metadata": {
        "colab": {
          "base_uri": "https://localhost:8080/"
        },
        "id": "2HXplFO1YXjG",
        "outputId": "ce7a683e-b2c2-4f44-bb50-45787bdb3f99"
      },
      "execution_count": 53,
      "outputs": [
        {
          "output_type": "execute_result",
          "data": {
            "text/plain": [
              "Cliente BB (anos)            8.661604\n",
              "PONTUACAO_ROC               -4.684556\n",
              "NT_RISCO                    -2.433261\n",
              "OP_C_PAISES_EM_LISTA_REST    0.485207\n",
              "MEDIA_DADOS_NUMERICOS        0.514596\n",
              "dtype: float64"
            ]
          },
          "metadata": {},
          "execution_count": 53
        }
      ]
    },
    {
      "cell_type": "code",
      "source": [
        "#média dos dados do cluster 2\n",
        "grupo_2.mean()"
      ],
      "metadata": {
        "colab": {
          "base_uri": "https://localhost:8080/"
        },
        "id": "3OTNlU3aYaCh",
        "outputId": "1ca3e3b3-a7fa-4d63-aa22-4d3116b5016e"
      },
      "execution_count": 54,
      "outputs": [
        {
          "output_type": "execute_result",
          "data": {
            "text/plain": [
              "Cliente BB (anos)            26.734530\n",
              "PONTUACAO_ROC                -2.812677\n",
              "NT_RISCO                     -1.649065\n",
              "OP_C_PAISES_EM_LISTA_REST     0.732308\n",
              "MEDIA_DADOS_NUMERICOS         7.424263\n",
              "dtype: float64"
            ]
          },
          "metadata": {},
          "execution_count": 54
        }
      ]
    },
    {
      "cell_type": "code",
      "source": [
        "#média dos dados do cluster 3\n",
        "grupo_3.mean()"
      ],
      "metadata": {
        "colab": {
          "base_uri": "https://localhost:8080/"
        },
        "id": "a7KouvWZYaZN",
        "outputId": "1c11d2a9-fd8a-4ad2-bed4-c0b8afcadeb3"
      },
      "execution_count": 55,
      "outputs": [
        {
          "output_type": "execute_result",
          "data": {
            "text/plain": [
              "Cliente BB (anos)            17.559827\n",
              "PONTUACAO_ROC                -2.957652\n",
              "NT_RISCO                     -5.048372\n",
              "OP_C_PAISES_EM_LISTA_REST     0.602273\n",
              "MEDIA_DADOS_NUMERICOS         3.184601\n",
              "dtype: float64"
            ]
          },
          "metadata": {},
          "execution_count": 55
        }
      ]
    },
    {
      "cell_type": "code",
      "source": [
        "#média dos dados do cluster 4\n",
        "grupo_4.mean()"
      ],
      "metadata": {
        "colab": {
          "base_uri": "https://localhost:8080/"
        },
        "id": "VN9GR-P8Yaop",
        "outputId": "7ceb3f92-1905-49b1-d384-491d7e5380a0"
      },
      "execution_count": 56,
      "outputs": [
        {
          "output_type": "execute_result",
          "data": {
            "text/plain": [
              "Cliente BB (anos)            15.770957\n",
              "PONTUACAO_ROC                -2.808282\n",
              "NT_RISCO                     -0.481859\n",
              "OP_C_PAISES_EM_LISTA_REST     0.641822\n",
              "MEDIA_DADOS_NUMERICOS         4.160272\n",
              "dtype: float64"
            ]
          },
          "metadata": {},
          "execution_count": 56
        }
      ]
    },
    {
      "cell_type": "markdown",
      "metadata": {
        "id": "a91PgwYWCJ1L"
      },
      "source": [
        "### Medindo um intervalo de confiança para poder generalizar o resultado de uma amostra"
      ]
    },
    {
      "cell_type": "code",
      "metadata": {
        "id": "G7VGWa54_p1I"
      },
      "source": [
        "#dado meu conjunto de dados e considerando que é uma distribuição normal e com n suficiente, este é o intervalo de confiança desta amostra\n",
        "from statsmodels.stats.weightstats import zconfint, DescrStatsW, ztest"
      ],
      "execution_count": 57,
      "outputs": []
    },
    {
      "cell_type": "code",
      "metadata": {
        "id": "fLd6riIGCh2b",
        "colab": {
          "base_uri": "https://localhost:8080/"
        },
        "outputId": "af6c8830-317d-44e1-dca3-0a09de7adad6"
      },
      "source": [
        "zconfint(dados['MEDIA_DADOS_NUMERICOS'])"
      ],
      "execution_count": 59,
      "outputs": [
        {
          "output_type": "execute_result",
          "data": {
            "text/plain": [
              "(3.9818092819782414, 4.1891300099940265)"
            ]
          },
          "metadata": {},
          "execution_count": 59
        }
      ]
    },
    {
      "cell_type": "code",
      "source": [
        "dados['MEDIA_DADOS_NUMERICOS'].mean()"
      ],
      "metadata": {
        "colab": {
          "base_uri": "https://localhost:8080/"
        },
        "id": "tyxVEnxhckA6",
        "outputId": "7d61f8ab-e7e2-4100-9ceb-28eac3eb9934"
      },
      "execution_count": 61,
      "outputs": [
        {
          "output_type": "execute_result",
          "data": {
            "text/plain": [
              "4.085469645986134"
            ]
          },
          "metadata": {},
          "execution_count": 61
        }
      ]
    },
    {
      "cell_type": "code",
      "metadata": {
        "id": "SHeF0c6BCpPC"
      },
      "source": [
        "#calculando o intervalo de confiança usando um teste T - o T foi feito para amostras pequenas\n",
        "descritivo_grupo_0 = DescrStatsW(grupo_0['MEDIA_DADOS_NUMERICOS'])"
      ],
      "execution_count": 62,
      "outputs": []
    },
    {
      "cell_type": "code",
      "source": [
        "descritivo_grupo_0"
      ],
      "metadata": {
        "colab": {
          "base_uri": "https://localhost:8080/"
        },
        "id": "4eSNkonuc3cE",
        "outputId": "6755e971-65fa-45ea-b074-9d7b185ad1f9"
      },
      "execution_count": 63,
      "outputs": [
        {
          "output_type": "execute_result",
          "data": {
            "text/plain": [
              "<statsmodels.stats.weightstats.DescrStatsW at 0x7cf7b3172350>"
            ]
          },
          "metadata": {},
          "execution_count": 63
        }
      ]
    },
    {
      "cell_type": "code",
      "metadata": {
        "id": "3NwsOjhdC4zp",
        "colab": {
          "base_uri": "https://localhost:8080/"
        },
        "outputId": "52d7dc08-6850-4071-88b7-c15b9a6d547b"
      },
      "source": [
        "#usando a significancia de 5%\n",
        "descritivo_grupo_0.tconfint_mean(0.05)"
      ],
      "execution_count": 64,
      "outputs": [
        {
          "output_type": "execute_result",
          "data": {
            "text/plain": [
              "(3.4907595556540962, 3.6055908044414413)"
            ]
          },
          "metadata": {},
          "execution_count": 64
        }
      ]
    },
    {
      "cell_type": "markdown",
      "metadata": {
        "id": "8VBI9EEUEBof"
      },
      "source": [
        "## Aula 04  - ZTest e TTest"
      ]
    },
    {
      "cell_type": "code",
      "metadata": {
        "id": "gygnErZOGO1U",
        "colab": {
          "base_uri": "https://localhost:8080/"
        },
        "outputId": "0e9fed7b-af26-44f4-e863-49f99504343d"
      },
      "source": [
        "#Hipótese nula: As médias do grupo_0 tem a mesma média da média total\n",
        "z_teste, p_valor = ztest(grupo_4['MEDIA_DADOS_NUMERICOS'], value=dados['MEDIA_DADOS_NUMERICOS'].mean())\n",
        "print(z_teste)\n",
        "print(p_valor)"
      ],
      "execution_count": 73,
      "outputs": [
        {
          "output_type": "stream",
          "name": "stdout",
          "text": [
            "2.5912325092616837\n",
            "0.009563285483234847\n"
          ]
        }
      ]
    },
    {
      "cell_type": "code",
      "metadata": {
        "id": "ZsV_BNA3Gw5b",
        "colab": {
          "base_uri": "https://localhost:8080/"
        },
        "outputId": "46d4bace-329c-40c3-dfae-0520dcdef6ce"
      },
      "source": [
        "#teste de hipótese: se p_valor < =  significancia (neste caso 5%, rejeitamos a hipótese nula)\n",
        "#teste bastante sensível no big Data - talvez sensível demais\n",
        "p_valor <= 0.05"
      ],
      "execution_count": 74,
      "outputs": [
        {
          "output_type": "execute_result",
          "data": {
            "text/plain": [
              "True"
            ]
          },
          "metadata": {},
          "execution_count": 74
        }
      ]
    },
    {
      "cell_type": "markdown",
      "metadata": {
        "id": "d_3NWpOr1Peo"
      },
      "source": [
        "## Aula 05: Testes para duas amostras"
      ]
    },
    {
      "cell_type": "code",
      "metadata": {
        "id": "ugGfVolA1vd8",
        "colab": {
          "base_uri": "https://localhost:8080/"
        },
        "outputId": "8fb5352d-419a-4568-b8c2-6ec6fe4887be"
      },
      "source": [
        "zconfint(dados['MEDIA_DADOS_NUMERICOS'], grupo_0['MEDIA_DADOS_NUMERICOS'])"
      ],
      "execution_count": 75,
      "outputs": [
        {
          "output_type": "execute_result",
          "data": {
            "text/plain": [
              "(0.3441076332982467, 0.7304812985784841)"
            ]
          },
          "metadata": {},
          "execution_count": 75
        }
      ]
    },
    {
      "cell_type": "code",
      "metadata": {
        "id": "nRP3g9ht2Bk7",
        "colab": {
          "base_uri": "https://localhost:8080/"
        },
        "outputId": "5c72da8e-2cf9-4626-a826-e9cf5bb8f6a5"
      },
      "source": [
        "#conferindo se as notas_1 tem uma média maior que a geral\n",
        "print(ztest(dados['MEDIA_DADOS_NUMERICOS'], grupo_0['MEDIA_DADOS_NUMERICOS']))"
      ],
      "execution_count": 76,
      "outputs": [
        {
          "output_type": "stream",
          "name": "stdout",
          "text": [
            "(5.4510847760189876, 5.006349614065765e-08)\n"
          ]
        }
      ]
    },
    {
      "cell_type": "code",
      "metadata": {
        "id": "H9tvl7s22KOi"
      },
      "source": [
        "#usando o ttest\n",
        "from scipy.stats import ttest_ind"
      ],
      "execution_count": 77,
      "outputs": []
    },
    {
      "cell_type": "code",
      "metadata": {
        "id": "Ao-WvD_c2yvp",
        "colab": {
          "base_uri": "https://localhost:8080/"
        },
        "outputId": "2bf6b13e-ac88-4337-bce4-f93806b162b9"
      },
      "source": [
        "ttest_ind(dados['MEDIA_DADOS_NUMERICOS'], grupo_0['MEDIA_DADOS_NUMERICOS'])"
      ],
      "execution_count": 78,
      "outputs": [
        {
          "output_type": "execute_result",
          "data": {
            "text/plain": [
              "TtestResult(statistic=5.451084776018988, pvalue=5.54574660550335e-08, df=2281.0)"
            ]
          },
          "metadata": {},
          "execution_count": 78
        }
      ]
    },
    {
      "cell_type": "code",
      "metadata": {
        "id": "rN6IzKTe24c4"
      },
      "source": [
        "descr_todas_as_medias = DescrStatsW(dados['Cliente BB (anos)'])\n",
        "descr_grupo_0 = DescrStatsW(grupo_0['Cliente BB (anos)'])\n",
        "descr_grupo_1 = DescrStatsW(grupo_1['Cliente BB (anos)'])\n",
        "descr_grupo_2 = DescrStatsW(grupo_2['Cliente BB (anos)'])\n",
        "descr_grupo_3 = DescrStatsW(grupo_3['Cliente BB (anos)'])\n",
        "descr_grupo_4 = DescrStatsW(grupo_4['Cliente BB (anos)'])"
      ],
      "execution_count": 95,
      "outputs": []
    },
    {
      "cell_type": "markdown",
      "source": [],
      "metadata": {
        "id": "lfqI3PCJjkui"
      }
    },
    {
      "cell_type": "code",
      "metadata": {
        "id": "I0tGanJ74MMR",
        "colab": {
          "base_uri": "https://localhost:8080/"
        },
        "outputId": "a0358492-aa48-4e87-d684-2873288d2afb"
      },
      "source": [
        "#criando uma comparação pra usar o CompareMeans()\n",
        "for i in [descr_grupo_0, descr_grupo_1,descr_grupo_2,descr_grupo_3,descr_grupo_4,]:\n",
        "  comparacao = descr_todas_as_medias.get_compare(i)\n",
        "  print(comparacao.summary())"
      ],
      "execution_count": 96,
      "outputs": [
        {
          "output_type": "stream",
          "name": "stdout",
          "text": [
            "                          Test for equality of means                          \n",
            "==============================================================================\n",
            "                 coef    std err          t      P>|t|      [0.025      0.975]\n",
            "------------------------------------------------------------------------------\n",
            "subset #1      1.5291      0.275      5.569      0.000       0.991       2.068\n",
            "==============================================================================\n",
            "                          Test for equality of means                          \n",
            "==============================================================================\n",
            "                 coef    std err          t      P>|t|      [0.025      0.975]\n",
            "------------------------------------------------------------------------------\n",
            "subset #1      8.7510      0.513     17.066      0.000       7.745       9.757\n",
            "==============================================================================\n",
            "                          Test for equality of means                          \n",
            "==============================================================================\n",
            "                 coef    std err          t      P>|t|      [0.025      0.975]\n",
            "------------------------------------------------------------------------------\n",
            "subset #1     -9.3219      0.356    -26.190      0.000     -10.020      -8.624\n",
            "==============================================================================\n",
            "                          Test for equality of means                          \n",
            "==============================================================================\n",
            "                 coef    std err          t      P>|t|      [0.025      0.975]\n",
            "------------------------------------------------------------------------------\n",
            "subset #1     -0.1472      0.392     -0.375      0.708      -0.917       0.622\n",
            "==============================================================================\n",
            "                          Test for equality of means                          \n",
            "==============================================================================\n",
            "                 coef    std err          t      P>|t|      [0.025      0.975]\n",
            "------------------------------------------------------------------------------\n",
            "subset #1      1.6417      0.284      5.771      0.000       1.084       2.200\n",
            "==============================================================================\n"
          ]
        }
      ]
    },
    {
      "cell_type": "code",
      "metadata": {
        "id": "tXlxLMNJ4g_t",
        "colab": {
          "base_uri": "https://localhost:8080/"
        },
        "outputId": "4d08b7e8-14f9-4961-9112-ecf0fd0fe935"
      },
      "source": [
        "#usando o ztest\n",
        "print(comparacao.summary())\n"
      ],
      "execution_count": 87,
      "outputs": [
        {
          "output_type": "stream",
          "name": "stdout",
          "text": [
            "                          Test for equality of means                          \n",
            "==============================================================================\n",
            "                 coef    std err          t      P>|t|      [0.025      0.975]\n",
            "------------------------------------------------------------------------------\n",
            "subset #1      0.5373      0.099      5.451      0.000       0.344       0.731\n",
            "==============================================================================\n"
          ]
        }
      ]
    },
    {
      "cell_type": "code",
      "metadata": {
        "id": "mlL7LGuL4vpt",
        "colab": {
          "base_uri": "https://localhost:8080/",
          "height": 119
        },
        "outputId": "8ca86704-37ff-4bfc-a16e-55764af9081f"
      },
      "source": [
        "#usando o ttest\n",
        "print(comparacao.summary(use_t=True))"
      ],
      "execution_count": null,
      "outputs": [
        {
          "output_type": "stream",
          "text": [
            "                          Test for equality of means                          \n",
            "==============================================================================\n",
            "                 coef    std err          t      P>|t|      [0.025      0.975]\n",
            "------------------------------------------------------------------------------\n",
            "subset #1     -0.4194      0.071     -5.894      0.000      -0.559      -0.280\n",
            "==============================================================================\n"
          ],
          "name": "stdout"
        }
      ]
    },
    {
      "cell_type": "markdown",
      "metadata": {
        "id": "8NkduOkk6VlE"
      },
      "source": [
        "### Visualização gráfica"
      ]
    },
    {
      "cell_type": "code",
      "metadata": {
        "id": "mjTTRAD86Mu0",
        "colab": {
          "base_uri": "https://localhost:8080/",
          "height": 623
        },
        "outputId": "9ea8355f-0565-4ea3-f7cc-01972a8e7c0f"
      },
      "source": [
        "#Criando um boxplot com os dois dados que estamos comparando\n",
        "plt.figure(figsize=(20,10))\n",
        "plt.boxplot([dados['Cliente BB (anos)'],grupo_0['Cliente BB (anos)'], grupo_1['Cliente BB (anos)'],\n",
        "             grupo_2['Cliente BB (anos)'], grupo_3['Cliente BB (anos)'], grupo_4['Cliente BB (anos)']],\n",
        "             labels=['Media Total', 'cluster_0', 'cluster_1', 'cluster_2', 'cluster_3', 'cluster_4'])\n",
        "plt.title('Comparativo da distribuição geral de TEMPO CLIENTE')\n",
        "plt.show()"
      ],
      "execution_count": 100,
      "outputs": [
        {
          "output_type": "display_data",
          "data": {
            "text/plain": [
              "<Figure size 2000x1000 with 1 Axes>"
            ],
            "image/png": "[encoded data removed]"
          },
          "metadata": {}
        }
      ]
    },
    {
      "cell_type": "markdown",
      "metadata": {
        "id": "iYj8a97m99yp"
      },
      "source": [
        "## Aula 06 - Testes não paramétricos"
      ]
    },
    {
      "cell_type": "markdown",
      "metadata": {
        "id": "fCcarzFTEoOY"
      },
      "source": [
        "### Testes não paramétricos"
      ]
    },
    {
      "cell_type": "code",
      "metadata": {
        "id": "eBgf_mAaDP6P"
      },
      "source": [
        "from scipy.stats import normaltest"
      ],
      "execution_count": 101,
      "outputs": []
    },
    {
      "cell_type": "code",
      "metadata": {
        "id": "1JDu3ERWE8nF",
        "colab": {
          "base_uri": "https://localhost:8080/"
        },
        "outputId": "46505d7f-1a24-44ee-d0df-6cb971cab6bd"
      },
      "source": [
        "stats, p_valor = normaltest(dados['MEDIA_DADOS_NUMERICOS'])\n",
        "print(stats)\n",
        "print(p_valor)"
      ],
      "execution_count": 102,
      "outputs": [
        {
          "output_type": "stream",
          "name": "stdout",
          "text": [
            "102.8092698682938\n",
            "4.734244723943006e-23\n"
          ]
        }
      ]
    },
    {
      "cell_type": "code",
      "metadata": {
        "id": "zO_FKJd0E_N8",
        "colab": {
          "base_uri": "https://localhost:8080/"
        },
        "outputId": "be937aac-abe1-4fce-d71c-3f8874625871"
      },
      "source": [
        "#Hipótese nula = a distribuição é uma normal (com 5% de significância)\n",
        "p_valor <= 0.05"
      ],
      "execution_count": 103,
      "outputs": [
        {
          "output_type": "execute_result",
          "data": {
            "text/plain": [
              "True"
            ]
          },
          "metadata": {},
          "execution_count": 103
        }
      ]
    },
    {
      "cell_type": "code",
      "metadata": {
        "id": "-LLxQRmaFZjL",
        "colab": {
          "base_uri": "https://localhost:8080/"
        },
        "outputId": "73206897-9b2e-4a24-a1d8-e25570a543d6"
      },
      "source": [
        "#usando um teste não paramétrico (ou seja, que não exija distribuição normal)\n",
        "#usar um teste de Wilcoxon com ranqueamento\n",
        "#Hipótese nula é que os dois sets vieram de uma mesma distribuição / Hipótese alternativa é a de que os valores de uma amostra são provavelmenmte maiores que os de outra amostra\n",
        "from scipy.stats import ranksums\n",
        "\n",
        "_,p_value = ranksums(dados['MEDIA_DADOS_NUMERICOS'], grupo_4['MEDIA_DADOS_NUMERICOS'])\n",
        "p_value"
      ],
      "execution_count": 113,
      "outputs": [
        {
          "output_type": "execute_result",
          "data": {
            "text/plain": [
              "1.5731050565737357e-09"
            ]
          },
          "metadata": {},
          "execution_count": 113
        }
      ]
    },
    {
      "cell_type": "code",
      "metadata": {
        "id": "l0jiFoUsGQ2C",
        "colab": {
          "base_uri": "https://localhost:8080/"
        },
        "outputId": "cc824618-ce88-4433-d650-2df36fa12b97"
      },
      "source": [
        "#Hipótese nula = Hipótese nula é que os dois sets vieram de uma mesma distribuição\n",
        "p_valor <= 0.05"
      ],
      "execution_count": 114,
      "outputs": [
        {
          "output_type": "execute_result",
          "data": {
            "text/plain": [
              "True"
            ]
          },
          "metadata": {},
          "execution_count": 114
        }
      ]
    },
    {
      "cell_type": "code",
      "source": [],
      "metadata": {
        "id": "yZPtRU5XkxuZ"
      },
      "execution_count": null,
      "outputs": []
    }
  ]
}